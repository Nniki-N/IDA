{
 "cells": [
  {
   "cell_type": "markdown",
   "id": "f44a2f2b",
   "metadata": {},
   "source": [
    "# 100 numpy exercises\n",
    "\n",
    "This is a collection of exercises that have been collected in the numpy mailing list, on stack overflow\n",
    "and in the numpy documentation. The goal of this collection is to offer a quick reference for both old\n",
    "and new users but also to provide a set of exercises for those who teach."
   ]
  },
  {
   "cell_type": "markdown",
   "id": "96443564",
   "metadata": {},
   "source": [
    "#### 1. Import the numpy package under the name `np` (★☆☆)"
   ]
  },
  {
   "cell_type": "code",
   "execution_count": 49,
   "id": "ffe1047e",
   "metadata": {},
   "outputs": [],
   "source": [
    "import numpy as np"
   ]
  },
  {
   "cell_type": "markdown",
   "id": "c807bf1d",
   "metadata": {},
   "source": [
    "#### 2. Print the numpy version and the configuration (★☆☆)"
   ]
  },
  {
   "cell_type": "code",
   "execution_count": 2,
   "id": "f396b717",
   "metadata": {},
   "outputs": [
    {
     "name": "stdout",
     "output_type": "stream",
     "text": [
      "numpy version: 1.26.0\n",
      "numpy configuration:\n",
      "Build Dependencies:\n",
      "  blas:\n",
      "    detection method: pkgconfig\n",
      "    found: true\n",
      "    include directory: C:/Users/Nniki/miniconda3/envs/ida/Library/include\n",
      "    lib directory: C:/Users/Nniki/miniconda3/envs/ida/Library/lib\n",
      "    name: mkl-sdl\n",
      "    pc file directory: C:\\b\\abs_9fu2cs2527\\croot\\numpy_and_numpy_base_1695830496596\\_h_env\\Library\\lib\\pkgconfig\n",
      "    version: '2023.1'\n",
      "  lapack:\n",
      "    detection method: pkgconfig\n",
      "    found: true\n",
      "    include directory: C:/Users/Nniki/miniconda3/envs/ida/Library/include\n",
      "    lib directory: C:/Users/Nniki/miniconda3/envs/ida/Library/lib\n",
      "    name: mkl-sdl\n",
      "    pc file directory: C:\\b\\abs_9fu2cs2527\\croot\\numpy_and_numpy_base_1695830496596\\_h_env\\Library\\lib\\pkgconfig\n",
      "    version: '2023.1'\n",
      "Compilers:\n",
      "  c:\n",
      "    commands: cl.exe\n",
      "    linker: link\n",
      "    name: msvc\n",
      "    version: 19.29.30152\n",
      "  c++:\n",
      "    commands: cl.exe\n",
      "    linker: link\n",
      "    name: msvc\n",
      "    version: 19.29.30152\n",
      "  cython:\n",
      "    commands: cython\n",
      "    linker: cython\n",
      "    name: cython\n",
      "    version: 3.0.0\n",
      "Machine Information:\n",
      "  build:\n",
      "    cpu: x86_64\n",
      "    endian: little\n",
      "    family: x86_64\n",
      "    system: windows\n",
      "  host:\n",
      "    cpu: x86_64\n",
      "    endian: little\n",
      "    family: x86_64\n",
      "    system: windows\n",
      "Python Information:\n",
      "  path: C:\\b\\abs_9fu2cs2527\\croot\\numpy_and_numpy_base_1695830496596\\_h_env\\python.exe\n",
      "  version: '3.11'\n",
      "SIMD Extensions:\n",
      "  baseline:\n",
      "  - SSE\n",
      "  - SSE2\n",
      "  - SSE3\n",
      "  found:\n",
      "  - SSSE3\n",
      "  - SSE41\n",
      "  - POPCNT\n",
      "  - SSE42\n",
      "  - AVX\n",
      "  - F16C\n",
      "  - FMA3\n",
      "  - AVX2\n",
      "  not found:\n",
      "  - AVX512F\n",
      "  - AVX512CD\n",
      "  - AVX512_SKX\n",
      "  - AVX512_CLX\n",
      "  - AVX512_CNL\n",
      "  - AVX512_ICL\n",
      "\n"
     ]
    }
   ],
   "source": [
    "print(\"numpy version:\", np.__version__)\n",
    "\n",
    "print(\"numpy configuration:\")\n",
    "np.show_config()"
   ]
  },
  {
   "cell_type": "markdown",
   "id": "572c1bdb",
   "metadata": {},
   "source": [
    "#### 3. Create a null vector of size 10 (★☆☆)"
   ]
  },
  {
   "cell_type": "code",
   "execution_count": 46,
   "id": "31c9f6a5",
   "metadata": {},
   "outputs": [
    {
     "data": {
      "text/plain": [
       "array([0., 0., 0., 0., 0., 0., 0., 0., 0., 0.])"
      ]
     },
     "execution_count": 46,
     "metadata": {},
     "output_type": "execute_result"
    }
   ],
   "source": [
    "nullVector = np.zeros(10)\n",
    "nullVector"
   ]
  },
  {
   "cell_type": "markdown",
   "id": "337e6e36",
   "metadata": {},
   "source": [
    "#### 4. How to find the memory size of any array (★☆☆)"
   ]
  },
  {
   "cell_type": "code",
   "execution_count": 40,
   "id": "31e8ec2e",
   "metadata": {},
   "outputs": [
    {
     "data": {
      "text/plain": [
       "80"
      ]
     },
     "execution_count": 40,
     "metadata": {},
     "output_type": "execute_result"
    }
   ],
   "source": [
    "nullVector = np.zeros(10)\n",
    "memorySize = nullVector.nbytes\n",
    "memorySize"
   ]
  },
  {
   "cell_type": "markdown",
   "id": "166079c8",
   "metadata": {},
   "source": [
    "#### 5. How to get the documentation of the numpy add function from the command line? (★☆☆)"
   ]
  },
  {
   "cell_type": "code",
   "execution_count": 6,
   "id": "593cd80f",
   "metadata": {},
   "outputs": [
    {
     "name": "stdout",
     "output_type": "stream",
     "text": [
      "Help on ufunc:\n",
      "\n",
      "add = <ufunc 'add'>\n",
      "    add(x1, x2, /, out=None, *, where=True, casting='same_kind', order='K', dtype=None, subok=True[, signature, extobj])\n",
      "    \n",
      "    Add arguments element-wise.\n",
      "    \n",
      "    Parameters\n",
      "    ----------\n",
      "    x1, x2 : array_like\n",
      "        The arrays to be added.\n",
      "        If ``x1.shape != x2.shape``, they must be broadcastable to a common\n",
      "        shape (which becomes the shape of the output).\n",
      "    out : ndarray, None, or tuple of ndarray and None, optional\n",
      "        A location into which the result is stored. If provided, it must have\n",
      "        a shape that the inputs broadcast to. If not provided or None,\n",
      "        a freshly-allocated array is returned. A tuple (possible only as a\n",
      "        keyword argument) must have length equal to the number of outputs.\n",
      "    where : array_like, optional\n",
      "        This condition is broadcast over the input. At locations where the\n",
      "        condition is True, the `out` array will be set to the ufunc result.\n",
      "        Elsewhere, the `out` array will retain its original value.\n",
      "        Note that if an uninitialized `out` array is created via the default\n",
      "        ``out=None``, locations within it where the condition is False will\n",
      "        remain uninitialized.\n",
      "    **kwargs\n",
      "        For other keyword-only arguments, see the\n",
      "        :ref:`ufunc docs <ufuncs.kwargs>`.\n",
      "    \n",
      "    Returns\n",
      "    -------\n",
      "    add : ndarray or scalar\n",
      "        The sum of `x1` and `x2`, element-wise.\n",
      "        This is a scalar if both `x1` and `x2` are scalars.\n",
      "    \n",
      "    Notes\n",
      "    -----\n",
      "    Equivalent to `x1` + `x2` in terms of array broadcasting.\n",
      "    \n",
      "    Examples\n",
      "    --------\n",
      "    >>> np.add(1.0, 4.0)\n",
      "    5.0\n",
      "    >>> x1 = np.arange(9.0).reshape((3, 3))\n",
      "    >>> x2 = np.arange(3.0)\n",
      "    >>> np.add(x1, x2)\n",
      "    array([[  0.,   2.,   4.],\n",
      "           [  3.,   5.,   7.],\n",
      "           [  6.,   8.,  10.]])\n",
      "    \n",
      "    The ``+`` operator can be used as a shorthand for ``np.add`` on ndarrays.\n",
      "    \n",
      "    >>> x1 = np.arange(9.0).reshape((3, 3))\n",
      "    >>> x2 = np.arange(3.0)\n",
      "    >>> x1 + x2\n",
      "    array([[ 0.,  2.,  4.],\n",
      "           [ 3.,  5.,  7.],\n",
      "           [ 6.,  8., 10.]])\n",
      "\n"
     ]
    }
   ],
   "source": [
    "help(np.add)"
   ]
  },
  {
   "cell_type": "markdown",
   "id": "3add7101",
   "metadata": {},
   "source": [
    "#### 6. Create a null vector of size 10 but the fifth value which is 1 (★☆☆)"
   ]
  },
  {
   "cell_type": "code",
   "execution_count": 7,
   "id": "2edf3c42",
   "metadata": {},
   "outputs": [
    {
     "data": {
      "text/plain": [
       "array([0., 0., 0., 0., 1., 0., 0., 0., 0., 0.])"
      ]
     },
     "execution_count": 7,
     "metadata": {},
     "output_type": "execute_result"
    }
   ],
   "source": [
    "nullVector = np.zeros(10)\n",
    "nullVector[4] = 1\n",
    "nullVector"
   ]
  },
  {
   "cell_type": "markdown",
   "id": "cfc46304",
   "metadata": {},
   "source": [
    "#### 7. Create a vector with values ranging from 10 to 49 (★☆☆)"
   ]
  },
  {
   "cell_type": "code",
   "execution_count": 8,
   "id": "d8b86640",
   "metadata": {},
   "outputs": [
    {
     "data": {
      "text/plain": [
       "array([ 0,  1,  2,  3,  4,  5,  6,  7,  8,  9, 10, 11, 12, 13, 14, 15, 16,\n",
       "       17, 18, 19, 20, 21, 22, 23, 24, 25, 26, 27, 28, 29, 30, 31, 32, 33,\n",
       "       34, 35, 36, 37, 38, 39, 40, 41, 42, 43, 44, 45, 46, 47, 48, 49])"
      ]
     },
     "execution_count": 8,
     "metadata": {},
     "output_type": "execute_result"
    }
   ],
   "source": [
    "vector = np.arange(50)\n",
    "vector"
   ]
  },
  {
   "cell_type": "markdown",
   "id": "0cc200be",
   "metadata": {},
   "source": [
    "#### 8. Reverse a vector (first element becomes last) (★☆☆)"
   ]
  },
  {
   "cell_type": "code",
   "execution_count": 12,
   "id": "ec044bb5",
   "metadata": {},
   "outputs": [
    {
     "data": {
      "text/plain": [
       "array([9, 8, 7, 6, 5, 4, 3, 2, 1, 0])"
      ]
     },
     "execution_count": 12,
     "metadata": {},
     "output_type": "execute_result"
    }
   ],
   "source": [
    "vector = np.arange(10)\n",
    "vector[::-1]"
   ]
  },
  {
   "cell_type": "markdown",
   "id": "29d9ede4",
   "metadata": {},
   "source": [
    "#### 9. Create a 3x3 matrix with values ranging from 0 to 8 (★☆☆)"
   ]
  },
  {
   "cell_type": "code",
   "execution_count": 13,
   "id": "d9e39043",
   "metadata": {},
   "outputs": [
    {
     "data": {
      "text/plain": [
       "array([[0, 1, 2],\n",
       "       [3, 4, 5],\n",
       "       [6, 7, 8]])"
      ]
     },
     "execution_count": 13,
     "metadata": {},
     "output_type": "execute_result"
    }
   ],
   "source": [
    "matrix = np.arange(9).reshape(3, 3)\n",
    "matrix"
   ]
  },
  {
   "cell_type": "markdown",
   "id": "88905ceb",
   "metadata": {},
   "source": [
    "#### 10. Find indices of non-zero elements from [1,2,0,0,4,0] (★☆☆)"
   ]
  },
  {
   "cell_type": "code",
   "execution_count": 18,
   "id": "b2f3c90a",
   "metadata": {},
   "outputs": [
    {
     "data": {
      "text/plain": [
       "(array([0, 1, 4], dtype=int64),)"
      ]
     },
     "execution_count": 18,
     "metadata": {},
     "output_type": "execute_result"
    }
   ],
   "source": [
    "vector = np.array([1, 2, 0, 0, 4, 0])\n",
    "np.nonzero(vector)"
   ]
  },
  {
   "cell_type": "markdown",
   "id": "49603e91",
   "metadata": {},
   "source": [
    "#### 11. Create a 3x3 identity matrix (★☆☆)"
   ]
  },
  {
   "cell_type": "code",
   "execution_count": 19,
   "id": "5b607b5c",
   "metadata": {},
   "outputs": [
    {
     "data": {
      "text/plain": [
       "array([[1., 0., 0.],\n",
       "       [0., 1., 0.],\n",
       "       [0., 0., 1.]])"
      ]
     },
     "execution_count": 19,
     "metadata": {},
     "output_type": "execute_result"
    }
   ],
   "source": [
    "matrix = np.eye(3)\n",
    "matrix"
   ]
  },
  {
   "cell_type": "markdown",
   "id": "e15c249a",
   "metadata": {},
   "source": [
    "#### 12. Create a 3x3x3 array with random values (★☆☆)"
   ]
  },
  {
   "cell_type": "code",
   "execution_count": 20,
   "id": "ab21ed50",
   "metadata": {},
   "outputs": [
    {
     "data": {
      "text/plain": [
       "array([[[0.6803265 , 0.79474602, 0.11245914],\n",
       "        [0.34909303, 0.25264929, 0.14909818],\n",
       "        [0.88970515, 0.34940983, 0.85004923]],\n",
       "\n",
       "       [[0.91674604, 0.64929803, 0.56927756],\n",
       "        [0.41709116, 0.9583393 , 0.99397726],\n",
       "        [0.57111712, 0.96785459, 0.67627626]],\n",
       "\n",
       "       [[0.78679277, 0.85425494, 0.64562366],\n",
       "        [0.96526594, 0.64552738, 0.02306874],\n",
       "        [0.98876796, 0.00670787, 0.70670614]]])"
      ]
     },
     "execution_count": 20,
     "metadata": {},
     "output_type": "execute_result"
    }
   ],
   "source": [
    "matrix = np.random.rand(3, 3, 3)\n",
    "matrix"
   ]
  },
  {
   "cell_type": "markdown",
   "id": "157a129c",
   "metadata": {},
   "source": [
    "#### 13. Create a 10x10 array with random values and find the minimum and maximum values (★☆☆)"
   ]
  },
  {
   "cell_type": "code",
   "execution_count": 32,
   "id": "c0066de5",
   "metadata": {},
   "outputs": [
    {
     "name": "stdout",
     "output_type": "stream",
     "text": [
      "[[0.67279145 0.91315257 0.86510983 0.96200606 0.3995672  0.64303205\n",
      "  0.46850421 0.65305468 0.075142   0.64285022]\n",
      " [0.22259678 0.38656114 0.7821981  0.01007978 0.27787235 0.20741843\n",
      "  0.85764185 0.62323825 0.76089732 0.57596908]\n",
      " [0.54524798 0.33202245 0.51986482 0.532777   0.75404154 0.34358728\n",
      "  0.0080752  0.547754   0.82661136 0.70761621]\n",
      " [0.40823906 0.87943525 0.32216873 0.2297241  0.95866361 0.18621142\n",
      "  0.90352581 0.78469951 0.86526106 0.18111784]\n",
      " [0.29367033 0.03130349 0.1719337  0.05919686 0.79135952 0.59524538\n",
      "  0.577454   0.59167228 0.62362407 0.91993337]\n",
      " [0.23651657 0.95031804 0.04707825 0.39256211 0.48252964 0.97919013\n",
      "  0.48639854 0.03638754 0.51516146 0.11270084]\n",
      " [0.09223448 0.78979071 0.60294497 0.9112127  0.49430326 0.25212879\n",
      "  0.12654699 0.32516408 0.85751916 0.41805261]\n",
      " [0.83103    0.7995168  0.67949796 0.28752607 0.02480085 0.86272926\n",
      "  0.86913027 0.55033076 0.72422769 0.1295404 ]\n",
      " [0.52823682 0.3222733  0.90740081 0.3869992  0.72417778 0.05171606\n",
      "  0.03403529 0.12899852 0.75408178 0.41087914]\n",
      " [0.70676709 0.4377337  0.41789594 0.26480056 0.46514488 0.82223204\n",
      "  0.94331381 0.5040309  0.94454193 0.81101615]]\n",
      "0.008075202835156836\n",
      "0.9791901341688258\n"
     ]
    }
   ],
   "source": [
    "matrix = np.random.rand(10, 10)\n",
    "print(matrix)\n",
    "print(matrix.min())\n",
    "print(matrix.max())"
   ]
  },
  {
   "cell_type": "markdown",
   "id": "d92d7b32",
   "metadata": {},
   "source": [
    "#### 14. Create a random vector of size 30 and find the mean value (★☆☆)"
   ]
  },
  {
   "cell_type": "code",
   "execution_count": 35,
   "id": "9672d023",
   "metadata": {},
   "outputs": [
    {
     "name": "stdout",
     "output_type": "stream",
     "text": [
      "[0.74858903 0.66799056 0.92923194 0.21844441 0.50287155 0.47383948\n",
      " 0.02871845 0.10600911 0.78783487 0.90459694 0.81522615 0.06369706\n",
      " 0.43173315 0.99681829 0.21802512 0.93028017 0.59213471 0.06509685\n",
      " 0.06745689 0.14052965 0.97323541 0.83931567 0.05733569 0.20959314\n",
      " 0.26264451 0.32874647 0.18596386 0.02642283 0.80877217 0.52558694]\n",
      "0.4635580358167037\n"
     ]
    }
   ],
   "source": [
    "vector = np.random.rand(30)\n",
    "print(vector)\n",
    "print(vector.mean())"
   ]
  },
  {
   "cell_type": "markdown",
   "id": "f361efc0",
   "metadata": {},
   "source": [
    "#### 15. Create a 2d array with 1 on the border and 0 inside (★☆☆)"
   ]
  },
  {
   "cell_type": "code",
   "execution_count": 41,
   "id": "a55b6666",
   "metadata": {},
   "outputs": [
    {
     "data": {
      "text/plain": [
       "array([[1., 1., 1., 1., 1., 1., 1.],\n",
       "       [1., 0., 0., 0., 0., 0., 1.],\n",
       "       [1., 0., 0., 0., 0., 0., 1.],\n",
       "       [1., 0., 0., 0., 0., 0., 1.],\n",
       "       [1., 0., 0., 0., 0., 0., 1.],\n",
       "       [1., 0., 0., 0., 0., 0., 1.],\n",
       "       [1., 1., 1., 1., 1., 1., 1.]])"
      ]
     },
     "execution_count": 41,
     "metadata": {},
     "output_type": "execute_result"
    }
   ],
   "source": [
    "n = 7\n",
    "matrix = np.ones((n, n))\n",
    "matrix[1:-1, 1:-1] = 0\n",
    "matrix"
   ]
  },
  {
   "cell_type": "markdown",
   "id": "475808cb",
   "metadata": {},
   "source": [
    "#### 16. How to add a border (filled with 0's) around an existing array? (★☆☆)"
   ]
  },
  {
   "cell_type": "code",
   "execution_count": 46,
   "id": "b2df3a8a",
   "metadata": {},
   "outputs": [
    {
     "data": {
      "text/plain": [
       "array([[0.        , 0.        , 0.        , 0.        , 0.        ],\n",
       "       [0.        , 0.93068648, 0.87416624, 0.97743232, 0.        ],\n",
       "       [0.        , 0.59633775, 0.22743292, 0.96589137, 0.        ],\n",
       "       [0.        , 0.27745577, 0.78538585, 0.13480121, 0.        ],\n",
       "       [0.        , 0.        , 0.        , 0.        , 0.        ]])"
      ]
     },
     "execution_count": 46,
     "metadata": {},
     "output_type": "execute_result"
    }
   ],
   "source": [
    "n = 3\n",
    "matrix = np.random.rand(n, n)\n",
    "matrix2 = np.zeros((n + 2, n + 2))\n",
    "matrix2[1:-1, 1:-1] = matrix\n",
    "matrix2"
   ]
  },
  {
   "cell_type": "markdown",
   "id": "1af07d85",
   "metadata": {},
   "source": [
    "#### 17. What is the result of the following expression? (★☆☆)\n",
    "```python\n",
    "0 * np.nan\n",
    "np.nan == np.nan\n",
    "np.inf > np.nan\n",
    "np.nan - np.nan\n",
    "np.nan in set([np.nan])\n",
    "0.3 == 3 * 0.1\n",
    "```"
   ]
  },
  {
   "cell_type": "code",
   "execution_count": 56,
   "id": "109cf327",
   "metadata": {},
   "outputs": [
    {
     "name": "stdout",
     "output_type": "stream",
     "text": [
      "nan\n",
      "False\n",
      "False\n",
      "nan\n",
      "True\n",
      "False\n"
     ]
    }
   ],
   "source": [
    "print(0 * np.nan)\n",
    "print(np.nan == np.nan)\n",
    "print(np.inf > np.nan)\n",
    "print(np.nan - np.nan)\n",
    "print(np.nan in set([np.nan]))\n",
    "print(0.3 == 3 * 0.1)"
   ]
  },
  {
   "cell_type": "markdown",
   "id": "6a235316",
   "metadata": {},
   "source": [
    "#### 18. Create a 5x5 matrix with values 1,2,3,4 just below the diagonal (★☆☆)"
   ]
  },
  {
   "cell_type": "code",
   "execution_count": 58,
   "id": "f2e6cfa6",
   "metadata": {},
   "outputs": [
    {
     "data": {
      "text/plain": [
       "array([[0., 0., 0., 0., 0.],\n",
       "       [1., 0., 0., 0., 0.],\n",
       "       [0., 2., 0., 0., 0.],\n",
       "       [0., 0., 3., 0., 0.],\n",
       "       [0., 0., 0., 4., 0.]])"
      ]
     },
     "execution_count": 58,
     "metadata": {},
     "output_type": "execute_result"
    }
   ],
   "source": [
    "matrix = np.zeros((5, 5))\n",
    "for i in range(1, 5):\n",
    "    matrix[i, i - 1] = i\n",
    "matrix"
   ]
  },
  {
   "cell_type": "markdown",
   "id": "25362e98",
   "metadata": {},
   "source": [
    "#### 19. Create a 8x8 matrix and fill it with a checkerboard pattern (★☆☆)"
   ]
  },
  {
   "cell_type": "code",
   "execution_count": 60,
   "id": "cabdf298",
   "metadata": {},
   "outputs": [
    {
     "data": {
      "text/plain": [
       "array([[0., 1., 0., 1., 0., 1., 0., 1.],\n",
       "       [1., 0., 1., 0., 1., 0., 1., 0.],\n",
       "       [0., 1., 0., 1., 0., 1., 0., 1.],\n",
       "       [1., 0., 1., 0., 1., 0., 1., 0.],\n",
       "       [0., 1., 0., 1., 0., 1., 0., 1.],\n",
       "       [1., 0., 1., 0., 1., 0., 1., 0.],\n",
       "       [0., 1., 0., 1., 0., 1., 0., 1.],\n",
       "       [1., 0., 1., 0., 1., 0., 1., 0.]])"
      ]
     },
     "execution_count": 60,
     "metadata": {},
     "output_type": "execute_result"
    }
   ],
   "source": [
    "matrix = np.zeros((8, 8))\n",
    "matrix[::2, 1::2] = 1\n",
    "matrix[1::2, ::2] = 1\n",
    "matrix"
   ]
  },
  {
   "cell_type": "markdown",
   "id": "6431e977",
   "metadata": {},
   "source": [
    "#### 20. Consider a (6,7,8) shape array, what is the index (x,y,z) of the 100th element? (★☆☆)"
   ]
  },
  {
   "cell_type": "code",
   "execution_count": 62,
   "id": "de8b0245",
   "metadata": {},
   "outputs": [
    {
     "data": {
      "text/plain": [
       "(1, 5, 4)"
      ]
     },
     "execution_count": 62,
     "metadata": {},
     "output_type": "execute_result"
    }
   ],
   "source": [
    "shape = (6, 7, 8)\n",
    "np.unravel_index(100, shape)"
   ]
  },
  {
   "cell_type": "markdown",
   "id": "31abe6fe",
   "metadata": {},
   "source": [
    "#### 21. Create a checkerboard 8x8 matrix using the tile function (★☆☆)"
   ]
  },
  {
   "cell_type": "code",
   "execution_count": 64,
   "id": "6da26fd3",
   "metadata": {},
   "outputs": [
    {
     "data": {
      "text/plain": [
       "array([[0, 1, 0, 1, 0, 1, 0, 1],\n",
       "       [1, 0, 1, 0, 1, 0, 1, 0],\n",
       "       [0, 1, 0, 1, 0, 1, 0, 1],\n",
       "       [1, 0, 1, 0, 1, 0, 1, 0],\n",
       "       [0, 1, 0, 1, 0, 1, 0, 1],\n",
       "       [1, 0, 1, 0, 1, 0, 1, 0],\n",
       "       [0, 1, 0, 1, 0, 1, 0, 1],\n",
       "       [1, 0, 1, 0, 1, 0, 1, 0]])"
      ]
     },
     "execution_count": 64,
     "metadata": {},
     "output_type": "execute_result"
    }
   ],
   "source": [
    "matrix = np.array(([0, 1], [1, 0]))\n",
    "np.tile(matrix, (4, 4))"
   ]
  },
  {
   "cell_type": "markdown",
   "id": "fd88b3f4",
   "metadata": {},
   "source": [
    "#### 22. Normalize a 5x5 random matrix (★☆☆)"
   ]
  },
  {
   "cell_type": "code",
   "execution_count": 91,
   "id": "ee6ced60",
   "metadata": {},
   "outputs": [
    {
     "name": "stdout",
     "output_type": "stream",
     "text": [
      "matrix:\n",
      "[[0.95872519 0.54775152 0.4217005  0.62972895 0.12627178]\n",
      " [0.30768528 0.88822608 0.85336064 0.7264764  0.37186081]\n",
      " [0.42435712 0.94181956 0.94171815 0.92478936 0.9526232 ]\n",
      " [0.67003787 0.97817678 0.4884959  0.90783345 0.77725572]\n",
      " [0.89222431 0.67175593 0.93620785 0.44968469 0.31867146]]\n",
      "normalized matrix:\n",
      "[[ 1.0855296  -0.54012323 -1.03873227 -0.21585222 -2.20733399]\n",
      " [-1.48973239  0.8066624   0.66874819  0.16684325 -1.23587884]\n",
      " [-1.02822371  1.01865745  1.01825633  0.9512926   1.0613925 ]\n",
      " [-0.05640575  1.16247255 -0.77451553  0.88422157  0.36770661]\n",
      " [ 0.82247785 -0.04960975  0.99645973 -0.92803766 -1.4462753 ]]\n",
      "3.730349362740526e-16\n"
     ]
    }
   ],
   "source": [
    "matrix = np.random.rand(5, 5)\n",
    "\n",
    "print('matrix:')\n",
    "print(matrix)\n",
    "\n",
    "matrix = (matrix - matrix.mean()) / matrix.std()\n",
    "\n",
    "print('normalized matrix:')\n",
    "print(matrix)\n",
    "print(matrix.mean())"
   ]
  },
  {
   "cell_type": "markdown",
   "id": "464d8590",
   "metadata": {},
   "source": [
    "#### 23. Create a custom dtype that describes a color as four unsigned bytes (RGBA) (★☆☆)"
   ]
  },
  {
   "cell_type": "code",
   "execution_count": 97,
   "id": "e2f9cfc6",
   "metadata": {},
   "outputs": [
    {
     "name": "stdout",
     "output_type": "stream",
     "text": [
      "(255, 128, 0, 255)\n"
     ]
    }
   ],
   "source": [
    "colorDType = np.dtype([('R', np.uint8), ('G', np.uint8), ('B', np.uint8), ('A', np.uint8)])\n",
    "color = np.array((255, 128, 0, 255), dtype = colorDType)\n",
    "print(color)"
   ]
  },
  {
   "cell_type": "markdown",
   "id": "06c63bb3",
   "metadata": {},
   "source": [
    "#### 24. Multiply a 5x3 matrix by a 3x2 matrix (real matrix product) (★☆☆)"
   ]
  },
  {
   "cell_type": "code",
   "execution_count": 98,
   "id": "9fc0d553",
   "metadata": {},
   "outputs": [
    {
     "data": {
      "text/plain": [
       "array([[0.72843783, 0.9268155 ],\n",
       "       [0.36479815, 0.38575442],\n",
       "       [0.89285799, 0.9320498 ],\n",
       "       [0.67283584, 0.62180515],\n",
       "       [0.60752596, 0.72040168]])"
      ]
     },
     "execution_count": 98,
     "metadata": {},
     "output_type": "execute_result"
    }
   ],
   "source": [
    "np.dot(np.random.rand(5, 3), np.random.rand(3,2))"
   ]
  },
  {
   "cell_type": "markdown",
   "id": "76fa6285",
   "metadata": {},
   "source": [
    "#### 25. Given a 1D array, negate all elements which are between 3 and 8, in place. (★☆☆)"
   ]
  },
  {
   "cell_type": "code",
   "execution_count": 101,
   "id": "0e25eca7",
   "metadata": {},
   "outputs": [
    {
     "data": {
      "text/plain": [
       "array([ 0,  1,  2,  3, -4, -5, -6, -7,  8,  9])"
      ]
     },
     "execution_count": 101,
     "metadata": {},
     "output_type": "execute_result"
    }
   ],
   "source": [
    "vector = np.arange(10)\n",
    "vector[(vector > 3) & (vector < 8)] *= -1\n",
    "vector"
   ]
  },
  {
   "cell_type": "markdown",
   "id": "930ed8bb",
   "metadata": {},
   "source": [
    "#### 26. What is the output of the following script? (★☆☆)\n",
    "```python\n",
    "# Author: Jake VanderPlas\n",
    "\n",
    "print(sum(range(5),-1))\n",
    "from numpy import *\n",
    "print(sum(range(5),-1))\n",
    "```"
   ]
  },
  {
   "cell_type": "code",
   "execution_count": 105,
   "id": "f02eedba",
   "metadata": {},
   "outputs": [
    {
     "name": "stdout",
     "output_type": "stream",
     "text": [
      "10\n"
     ]
    },
    {
     "data": {
      "text/plain": [
       "10"
      ]
     },
     "execution_count": 105,
     "metadata": {},
     "output_type": "execute_result"
    }
   ],
   "source": [
    "print(sum(range(5),-1))\n",
    "from numpy import *\n",
    "print(sum(range(5),-1))"
   ]
  },
  {
   "cell_type": "markdown",
   "id": "177120e7",
   "metadata": {},
   "source": [
    "#### 27. Consider an integer vector Z, which of these expressions are legal? (★☆☆)\n",
    "```python\n",
    "Z**Z\n",
    "2 << Z >> 2\n",
    "Z <- Z\n",
    "1j*Z\n",
    "Z/1/1\n",
    "Z<Z>Z\n",
    "```"
   ]
  },
  {
   "cell_type": "code",
   "execution_count": 116,
   "id": "86d6cbef",
   "metadata": {},
   "outputs": [
    {
     "data": {
      "text/plain": [
       "array([1., 1., 1., 1., 1.])"
      ]
     },
     "execution_count": 116,
     "metadata": {},
     "output_type": "execute_result"
    }
   ],
   "source": [
    "Z = np.ones((5,))\n",
    "Z**Z\n",
    "# 2 << Z >> 2\n",
    "Z <- Z\n",
    "1j*Z\n",
    "Z/1/1\n",
    "# Z<Z>Z"
   ]
  },
  {
   "cell_type": "markdown",
   "id": "a6eaf0e8",
   "metadata": {},
   "source": [
    "#### 28. What are the result of the following expressions? (★☆☆)\n",
    "```python\n",
    "np.array(0) / np.array(0)\n",
    "np.array(0) // np.array(0)\n",
    "np.array([np.nan]).astype(int).astype(float)\n",
    "```"
   ]
  },
  {
   "cell_type": "code",
   "execution_count": 48,
   "id": "93684068",
   "metadata": {},
   "outputs": [
    {
     "name": "stdout",
     "output_type": "stream",
     "text": [
      "nan\n",
      "0\n",
      "[-2.14748365e+09]\n"
     ]
    },
    {
     "name": "stderr",
     "output_type": "stream",
     "text": [
      "C:\\Users\\Nniki\\AppData\\Local\\Temp\\ipykernel_10424\\3912170336.py:1: RuntimeWarning: invalid value encountered in divide\n",
      "  print(np.array(0) / np.array(0))\n",
      "C:\\Users\\Nniki\\AppData\\Local\\Temp\\ipykernel_10424\\3912170336.py:2: RuntimeWarning: divide by zero encountered in floor_divide\n",
      "  print(np.array(0) // np.array(0))\n",
      "C:\\Users\\Nniki\\AppData\\Local\\Temp\\ipykernel_10424\\3912170336.py:3: RuntimeWarning: invalid value encountered in cast\n",
      "  print(np.array([np.nan]).astype(int).astype(float))\n"
     ]
    }
   ],
   "source": [
    "print(np.array(0) / np.array(0))\n",
    "print(np.array(0) // np.array(0))\n",
    "print(np.array([np.nan]).astype(int).astype(float))"
   ]
  },
  {
   "cell_type": "markdown",
   "id": "524b65f8",
   "metadata": {},
   "source": [
    "#### 29. How to round away from zero a float array ? (★☆☆)"
   ]
  },
  {
   "cell_type": "code",
   "execution_count": 259,
   "id": "61fbb78e",
   "metadata": {},
   "outputs": [
    {
     "name": "stdout",
     "output_type": "stream",
     "text": [
      "[[0.00465231 0.94719821 0.29502261 0.04516614 0.44464673]\n",
      " [0.86299984 0.11462021 0.61915571 0.09505007 0.43575671]\n",
      " [0.77283846 0.57024888 0.48486534 0.13662468 0.69272926]\n",
      " [0.18906067 0.69057374 0.72465187 0.35722002 0.23207266]\n",
      " [0.88227596 0.36956868 0.72775535 0.27320842 0.72820797]]\n",
      "[[0.   0.95 0.3  0.05 0.44]\n",
      " [0.86 0.11 0.62 0.1  0.44]\n",
      " [0.77 0.57 0.48 0.14 0.69]\n",
      " [0.19 0.69 0.72 0.36 0.23]\n",
      " [0.88 0.37 0.73 0.27 0.73]]\n"
     ]
    }
   ],
   "source": [
    "vector = np.random.random((5,5))\n",
    "print(vector)\n",
    "vector = np.round(vector, 2)\n",
    "print(vector) "
   ]
  },
  {
   "cell_type": "markdown",
   "id": "8dc40752",
   "metadata": {},
   "source": [
    "#### 30. How to find common values between two arrays? (★☆☆)"
   ]
  },
  {
   "cell_type": "code",
   "execution_count": 5,
   "id": "54399cbe",
   "metadata": {},
   "outputs": [
    {
     "name": "stdout",
     "output_type": "stream",
     "text": [
      "[0 1 2 3 4]\n",
      "[3 4 5 6 7]\n",
      "[3 4]\n"
     ]
    }
   ],
   "source": [
    "vector1 = np.arange(5)\n",
    "vector2 = np.arange(3, 8)\n",
    "\n",
    "print(vector1)\n",
    "print(vector2)\n",
    "print(np.intersect1d(vector1, vector2))"
   ]
  },
  {
   "cell_type": "markdown",
   "id": "b7f38e21",
   "metadata": {},
   "source": [
    "#### 31. How to ignore all numpy warnings (not recommended)? (★☆☆)"
   ]
  },
  {
   "cell_type": "code",
   "execution_count": 139,
   "id": "2ca3289c",
   "metadata": {},
   "outputs": [
    {
     "data": {
      "text/plain": [
       "{'divide': 'warn', 'over': 'warn', 'under': 'warn', 'invalid': 'warn'}"
      ]
     },
     "execution_count": 139,
     "metadata": {},
     "output_type": "execute_result"
    }
   ],
   "source": [
    "np.seterr(all = 'ignore')\n",
    "# np.seterr(all = 'warn')"
   ]
  },
  {
   "cell_type": "markdown",
   "id": "2d850aab",
   "metadata": {},
   "source": [
    "#### 32. Is the following expressions true? (★☆☆)\n",
    "```python\n",
    "np.sqrt(-1) == np.emath.sqrt(-1)\n",
    "```"
   ]
  },
  {
   "cell_type": "code",
   "execution_count": 143,
   "id": "5c83ffce",
   "metadata": {},
   "outputs": [
    {
     "data": {
      "text/plain": [
       "False"
      ]
     },
     "execution_count": 143,
     "metadata": {},
     "output_type": "execute_result"
    }
   ],
   "source": [
    "# np.sqrt(-1)\n",
    "# np.emath.sqrt(-1)\n",
    "np.sqrt(-1) == np.emath.sqrt(-1)"
   ]
  },
  {
   "cell_type": "markdown",
   "id": "5c4a556f",
   "metadata": {},
   "source": [
    "#### 33. How to get the dates of yesterday, today and tomorrow? (★☆☆)"
   ]
  },
  {
   "cell_type": "code",
   "execution_count": 145,
   "id": "c3b683a0",
   "metadata": {},
   "outputs": [
    {
     "name": "stdout",
     "output_type": "stream",
     "text": [
      "2023-10-03\n",
      "2023-10-04\n",
      "2023-10-05\n"
     ]
    }
   ],
   "source": [
    "today = np.datetime64('today', 'D')\n",
    "yesterday = today - np.timedelta64(1, 'D')\n",
    "tomorrow  = today + np.timedelta64(1, 'D')\n",
    "\n",
    "print(yesterday)\n",
    "print(today)\n",
    "print(tomorrow)"
   ]
  },
  {
   "cell_type": "markdown",
   "id": "453cdd64",
   "metadata": {},
   "source": [
    "#### 34. How to get all the dates corresponding to the month of July 2016? (★★☆)"
   ]
  },
  {
   "cell_type": "code",
   "execution_count": 148,
   "id": "4ba4d37c",
   "metadata": {},
   "outputs": [
    {
     "name": "stdout",
     "output_type": "stream",
     "text": [
      "['2016-07-01' '2016-07-02' '2016-07-03' '2016-07-04' '2016-07-05'\n",
      " '2016-07-06' '2016-07-07' '2016-07-08' '2016-07-09' '2016-07-10'\n",
      " '2016-07-11' '2016-07-12' '2016-07-13' '2016-07-14' '2016-07-15'\n",
      " '2016-07-16' '2016-07-17' '2016-07-18' '2016-07-19' '2016-07-20'\n",
      " '2016-07-21' '2016-07-22' '2016-07-23' '2016-07-24' '2016-07-25'\n",
      " '2016-07-26' '2016-07-27' '2016-07-28' '2016-07-29' '2016-07-30'\n",
      " '2016-07-31']\n"
     ]
    }
   ],
   "source": [
    "dates = np.arange('2016-07', '2016-08', dtype='datetime64[D]')\n",
    "print(dates)"
   ]
  },
  {
   "cell_type": "markdown",
   "id": "52667b6e",
   "metadata": {},
   "source": [
    "#### 35. How to compute ((A+B)*(-A/2)) in place (without copy)? (★★☆)"
   ]
  },
  {
   "cell_type": "code",
   "execution_count": 8,
   "id": "e6e7c030",
   "metadata": {},
   "outputs": [
    {
     "data": {
      "text/plain": [
       "-4.5"
      ]
     },
     "execution_count": 8,
     "metadata": {},
     "output_type": "execute_result"
    }
   ],
   "source": [
    "A = np.ones(3) * 1\n",
    "B = np.ones(3) * 2\n",
    "# np.add(A, B, out = B)\n",
    "# np.divide(-A, 2, out = A)\n",
    "# np.dot(A, B)\n",
    "np.dot((A + B), (-A / 2))"
   ]
  },
  {
   "cell_type": "markdown",
   "id": "9a8f3738",
   "metadata": {},
   "source": [
    "#### 36. Extract the integer part of a random array of positive numbers using 4 different methods (★★☆)"
   ]
  },
  {
   "cell_type": "code",
   "execution_count": 10,
   "id": "368a801a",
   "metadata": {},
   "outputs": [
    {
     "name": "stdout",
     "output_type": "stream",
     "text": [
      "[5.03649168 3.34991819 4.48426526 8.99569413 7.2009882  8.70581116\n",
      " 9.03818888 1.55029307 6.95795232 8.82750455]\n",
      "[5. 3. 4. 8. 7. 8. 9. 1. 6. 8.]\n",
      "[5. 3. 4. 8. 7. 8. 9. 1. 6. 8.]\n",
      "[5. 3. 4. 8. 7. 8. 9. 1. 6. 8.]\n",
      "[5 3 4 8 7 8 9 1 6 8]\n"
     ]
    }
   ],
   "source": [
    "vector = np.random.uniform(0, 10, 10)\n",
    "\n",
    "print(vector)\n",
    "print(vector - vector % 1)\n",
    "print(np.floor(vector))\n",
    "print(np.ceil(vector)-1)\n",
    "print(vector.astype(int))"
   ]
  },
  {
   "cell_type": "markdown",
   "id": "cab1eed1",
   "metadata": {},
   "source": [
    "#### 37. Create a 5x5 matrix with row values ranging from 0 to 4 (★★☆)"
   ]
  },
  {
   "cell_type": "code",
   "execution_count": 171,
   "id": "f1b579ba",
   "metadata": {},
   "outputs": [
    {
     "data": {
      "text/plain": [
       "array([[0., 1., 2., 3., 4.],\n",
       "       [0., 1., 2., 3., 4.],\n",
       "       [0., 1., 2., 3., 4.],\n",
       "       [0., 1., 2., 3., 4.],\n",
       "       [0., 1., 2., 3., 4.]])"
      ]
     },
     "execution_count": 171,
     "metadata": {},
     "output_type": "execute_result"
    }
   ],
   "source": [
    "matrix = np.zeros((5,5))\n",
    "matrix += np.arange(5)\n",
    "matrix"
   ]
  },
  {
   "cell_type": "markdown",
   "id": "cd0ce6b1",
   "metadata": {},
   "source": [
    "#### 38. Consider a generator function that generates 10 integers and use it to build an array (★☆☆)"
   ]
  },
  {
   "cell_type": "code",
   "execution_count": 177,
   "id": "aab193a6",
   "metadata": {},
   "outputs": [
    {
     "data": {
      "text/plain": [
       "array([0, 1, 2, 3, 4, 5, 6, 7, 8, 9])"
      ]
     },
     "execution_count": 177,
     "metadata": {},
     "output_type": "execute_result"
    }
   ],
   "source": [
    "def generate():\n",
    "    for x in range(10):\n",
    "        yield x\n",
    "\n",
    "vector = np.fromiter(generate(), dtype = int)\n",
    "vector"
   ]
  },
  {
   "cell_type": "markdown",
   "id": "c4c942d1",
   "metadata": {},
   "source": [
    "#### 39. Create a vector of size 10 with values ranging from 0 to 1, both excluded (★★☆)"
   ]
  },
  {
   "cell_type": "code",
   "execution_count": 181,
   "id": "e42eaa4b",
   "metadata": {},
   "outputs": [
    {
     "data": {
      "text/plain": [
       "array([0.09090909, 0.18181818, 0.27272727, 0.36363636, 0.45454545,\n",
       "       0.54545455, 0.63636364, 0.72727273, 0.81818182, 0.90909091])"
      ]
     },
     "execution_count": 181,
     "metadata": {},
     "output_type": "execute_result"
    }
   ],
   "source": [
    "vector = np.linspace(0, 1, 11, endpoint = False)[1:]\n",
    "vector"
   ]
  },
  {
   "cell_type": "markdown",
   "id": "9b3cb8d2",
   "metadata": {},
   "source": [
    "#### 40. Create a random vector of size 10 and sort it (★★☆)"
   ]
  },
  {
   "cell_type": "code",
   "execution_count": 183,
   "id": "37d2b341",
   "metadata": {},
   "outputs": [
    {
     "data": {
      "text/plain": [
       "array([0.003559  , 0.06671919, 0.23953647, 0.46715683, 0.46995529,\n",
       "       0.48286577, 0.50558504, 0.50646812, 0.57447547, 0.66143704])"
      ]
     },
     "execution_count": 183,
     "metadata": {},
     "output_type": "execute_result"
    }
   ],
   "source": [
    "vector = np.random.rand(10)\n",
    "vector.sort()\n",
    "vector"
   ]
  },
  {
   "cell_type": "markdown",
   "id": "2facfddc",
   "metadata": {},
   "source": [
    "#### 41. How to sum a small array faster than np.sum? (★★☆)"
   ]
  },
  {
   "cell_type": "code",
   "execution_count": 232,
   "id": "4bb8864f",
   "metadata": {},
   "outputs": [
    {
     "data": {
      "text/plain": [
       "4950"
      ]
     },
     "execution_count": 232,
     "metadata": {},
     "output_type": "execute_result"
    }
   ],
   "source": [
    "vector = np.arange(100)\n",
    "# np.sum(vector)\n",
    "sum(vector)"
   ]
  },
  {
   "cell_type": "markdown",
   "id": "539cd2a5",
   "metadata": {},
   "source": [
    "#### 42. Consider two random array A and B, check if they are equal (★★☆)"
   ]
  },
  {
   "cell_type": "code",
   "execution_count": 252,
   "id": "5246d7bf",
   "metadata": {},
   "outputs": [
    {
     "name": "stdout",
     "output_type": "stream",
     "text": [
      "[0.98888216 0.19657337 0.58086038 0.98866033 0.81613337]\n",
      "[0.86284428 0.08003717 0.00287327 0.85960219 0.60565539]\n"
     ]
    },
    {
     "data": {
      "text/plain": [
       "False"
      ]
     },
     "execution_count": 252,
     "metadata": {},
     "output_type": "execute_result"
    }
   ],
   "source": [
    "A = np.random.rand(5)\n",
    "B = np.random.rand(5)\n",
    "print(A)\n",
    "print(B)\n",
    "\n",
    "np.array_equal(A,B)"
   ]
  },
  {
   "cell_type": "markdown",
   "id": "448f8274",
   "metadata": {},
   "source": [
    "#### 43. Make an array immutable (read-only) (★★☆)"
   ]
  },
  {
   "cell_type": "code",
   "execution_count": 4,
   "id": "7cf2b3dd",
   "metadata": {},
   "outputs": [
    {
     "ename": "ValueError",
     "evalue": "assignment destination is read-only",
     "output_type": "error",
     "traceback": [
      "\u001b[1;31m---------------------------------------------------------------------------\u001b[0m",
      "\u001b[1;31mValueError\u001b[0m                                Traceback (most recent call last)",
      "\u001b[1;32md:\\another\\обучение\\универ\\ІАД\\lab2\\100_Numpy_exercises.ipynb Cell 87\u001b[0m line \u001b[0;36m3\n\u001b[0;32m      <a href='vscode-notebook-cell:/d%3A/another/%D0%BE%D0%B1%D1%83%D1%87%D0%B5%D0%BD%D0%B8%D0%B5/%D1%83%D0%BD%D0%B8%D0%B2%D0%B5%D1%80/%D0%86%D0%90%D0%94/lab2/100_Numpy_exercises.ipynb#Y152sZmlsZQ%3D%3D?line=0'>1</a>\u001b[0m vector \u001b[39m=\u001b[39m np\u001b[39m.\u001b[39mzeros(\u001b[39m10\u001b[39m)\n\u001b[0;32m      <a href='vscode-notebook-cell:/d%3A/another/%D0%BE%D0%B1%D1%83%D1%87%D0%B5%D0%BD%D0%B8%D0%B5/%D1%83%D0%BD%D0%B8%D0%B2%D0%B5%D1%80/%D0%86%D0%90%D0%94/lab2/100_Numpy_exercises.ipynb#Y152sZmlsZQ%3D%3D?line=1'>2</a>\u001b[0m vector\u001b[39m.\u001b[39mflags\u001b[39m.\u001b[39mwriteable \u001b[39m=\u001b[39m \u001b[39mFalse\u001b[39;00m\n\u001b[1;32m----> <a href='vscode-notebook-cell:/d%3A/another/%D0%BE%D0%B1%D1%83%D1%87%D0%B5%D0%BD%D0%B8%D0%B5/%D1%83%D0%BD%D0%B8%D0%B2%D0%B5%D1%80/%D0%86%D0%90%D0%94/lab2/100_Numpy_exercises.ipynb#Y152sZmlsZQ%3D%3D?line=2'>3</a>\u001b[0m vector[\u001b[39m0\u001b[39m] \u001b[39m=\u001b[39m \u001b[39m1\u001b[39m\n",
      "\u001b[1;31mValueError\u001b[0m: assignment destination is read-only"
     ]
    }
   ],
   "source": [
    "vector = np.zeros(10)\n",
    "vector.flags.writeable = False\n",
    "vector[0] = 1"
   ]
  },
  {
   "cell_type": "markdown",
   "id": "d7b7aaf3",
   "metadata": {},
   "source": [
    "#### 44. Consider a random 10x2 matrix representing cartesian coordinates, convert them to polar coordinates (★★☆)"
   ]
  },
  {
   "cell_type": "code",
   "execution_count": 275,
   "id": "e2337585",
   "metadata": {},
   "outputs": [
    {
     "name": "stdout",
     "output_type": "stream",
     "text": [
      "[[0.23508135 0.56098431]\n",
      " [0.26214745 0.22406019]\n",
      " [0.24354069 0.68969811]\n",
      " [0.69014452 0.35475348]\n",
      " [0.67671391 0.50535278]\n",
      " [0.06531302 0.71790458]\n",
      " [0.66362309 0.35871017]\n",
      " [0.88334578 0.40370249]\n",
      " [0.60483635 0.63472026]\n",
      " [0.43783205 0.28609393]]\n"
     ]
    },
    {
     "data": {
      "text/plain": [
       "array([[0.60824883, 1.17397483],\n",
       "       [0.34485397, 0.70722243],\n",
       "       [0.7314339 , 1.2313518 ],\n",
       "       [0.77598292, 0.47480678],\n",
       "       [0.8445846 , 0.64143368],\n",
       "       [0.72086946, 1.48006879],\n",
       "       [0.75436635, 0.49554582],\n",
       "       [0.97122369, 0.42867247],\n",
       "       [0.87675357, 0.80950204],\n",
       "       [0.52301686, 0.57878483]])"
      ]
     },
     "execution_count": 275,
     "metadata": {},
     "output_type": "execute_result"
    }
   ],
   "source": [
    "matrix = np.random.rand(10, 2)\n",
    "\n",
    "print(matrix)\n",
    "\n",
    "x, y = matrix[:, 0], matrix[:, 1]\n",
    "\n",
    "# Вычисляем радиус (расстояние от начала координат) и угол в радианах (арктангенс y/x)\n",
    "radius = np.sqrt(x**2 + y**2)\n",
    "angle = np.arctan2(y, x)\n",
    "\n",
    "poles = np.c_[radius, angle ]\n",
    "poles"
   ]
  },
  {
   "cell_type": "markdown",
   "id": "a556027a",
   "metadata": {},
   "source": [
    "#### 45. Create random vector of size 10 and replace the maximum value by 0 (★★☆)"
   ]
  },
  {
   "cell_type": "code",
   "execution_count": 279,
   "id": "9e07cb87",
   "metadata": {},
   "outputs": [
    {
     "name": "stdout",
     "output_type": "stream",
     "text": [
      "[0.67175575 0.90986828 0.49351537 0.53149251 0.28204792 0.24549262\n",
      " 0.87765559 0.12899515 0.81385346 0.75812735]\n",
      "[0.67175575 0.         0.49351537 0.53149251 0.28204792 0.24549262\n",
      " 0.87765559 0.12899515 0.81385346 0.75812735]\n"
     ]
    }
   ],
   "source": [
    "vector = np.random.rand(10)\n",
    "print(vector)\n",
    "vector[vector.argmax()] = 0\n",
    "print(vector)"
   ]
  },
  {
   "cell_type": "markdown",
   "id": "004f3da1",
   "metadata": {},
   "source": [
    "#### 46. Create a structured array with `x` and `y` coordinates covering the [0,1]x[0,1] area (★★☆)"
   ]
  },
  {
   "cell_type": "code",
   "execution_count": 6,
   "id": "b3824741",
   "metadata": {},
   "outputs": [
    {
     "name": "stdout",
     "output_type": "stream",
     "text": [
      "[[(0.  , 0.  ) (0.25, 0.  ) (0.5 , 0.  ) (0.75, 0.  ) (1.  , 0.  )]\n",
      " [(0.  , 0.25) (0.25, 0.25) (0.5 , 0.25) (0.75, 0.25) (1.  , 0.25)]\n",
      " [(0.  , 0.5 ) (0.25, 0.5 ) (0.5 , 0.5 ) (0.75, 0.5 ) (1.  , 0.5 )]\n",
      " [(0.  , 0.75) (0.25, 0.75) (0.5 , 0.75) (0.75, 0.75) (1.  , 0.75)]\n",
      " [(0.  , 1.  ) (0.25, 1.  ) (0.5 , 1.  ) (0.75, 1.  ) (1.  , 1.  )]]\n"
     ]
    }
   ],
   "source": [
    "matrix = np.zeros((5,5), [('x', float), ('y', float)])\n",
    "matrix['x'], matrix['y'] = np.meshgrid(np.linspace(0, 1, 5), np.linspace(0, 1, 5))\n",
    "print(matrix)"
   ]
  },
  {
   "cell_type": "markdown",
   "id": "1c0adc0d",
   "metadata": {},
   "source": [
    "#### 47. Given two arrays, X and Y, construct the Cauchy matrix C (Cij =1/(xi - yj)) (★★☆)"
   ]
  },
  {
   "cell_type": "code",
   "execution_count": 292,
   "id": "01b3bbb7",
   "metadata": {},
   "outputs": [
    {
     "data": {
      "text/plain": [
       "array([[-0.25      , -0.2       , -0.16666667, -0.14285714],\n",
       "       [-0.33333333, -0.25      , -0.2       , -0.16666667],\n",
       "       [-0.5       , -0.33333333, -0.25      , -0.2       ],\n",
       "       [-1.        , -0.5       , -0.33333333, -0.25      ]])"
      ]
     },
     "execution_count": 292,
     "metadata": {},
     "output_type": "execute_result"
    }
   ],
   "source": [
    "X = np.array([1, 2, 3, 4])\n",
    "Y = np.array([5, 6, 7, 8])\n",
    "\n",
    "C = np.empty((len(X), len(Y)))\n",
    "\n",
    "for i in range(len(X)):\n",
    "    for j in range(len(Y)):\n",
    "        C[i, j] = 1 / (X[i] - Y[j])\n",
    "\n",
    "C"
   ]
  },
  {
   "cell_type": "markdown",
   "id": "c8a2f65a",
   "metadata": {},
   "source": [
    "#### 48. Print the minimum and maximum representable value for each numpy scalar type (★★☆)"
   ]
  },
  {
   "cell_type": "code",
   "execution_count": 308,
   "id": "35d844d6",
   "metadata": {},
   "outputs": [
    {
     "name": "stdout",
     "output_type": "stream",
     "text": [
      "<class 'numpy.int8'>: -128\n",
      "<class 'numpy.int8'>: 127\n",
      "<class 'numpy.int16'>: -32768\n",
      "<class 'numpy.int16'>: 32767\n",
      "<class 'numpy.int32'>: -2147483648\n",
      "<class 'numpy.int32'>: 2147483647\n",
      "<class 'numpy.int64'>: -9223372036854775808\n",
      "<class 'numpy.int64'>: 9223372036854775807\n",
      "<class 'numpy.float16'>: -65500.0\n",
      "<class 'numpy.float16'>: 65500.0\n",
      "<class 'numpy.float32'>: -3.4028235e+38\n",
      "<class 'numpy.float32'>: 3.4028235e+38\n",
      "<class 'numpy.float64'>: -1.7976931348623157e+308\n",
      "<class 'numpy.float64'>: 1.7976931348623157e+308\n",
      "<class 'numpy.complex64'>: -3.4028235e+38\n",
      "<class 'numpy.complex64'>: 3.4028235e+38\n",
      "<class 'numpy.complex128'>: -1.7976931348623157e+308\n",
      "<class 'numpy.complex128'>: 1.7976931348623157e+308\n"
     ]
    }
   ],
   "source": [
    "for dtype in [np.int8, np.int16, np.int32, np.int64]:\n",
    "    print(str(dtype) + ': ' + str(np.iinfo(dtype).min))\n",
    "    print(str(dtype) + ': ' + str(np.iinfo(dtype).max))\n",
    "for dtype in [np.float16, np.float32, np.float64]:\n",
    "    print(str(dtype) + ': ' + str(np.finfo(dtype).min))\n",
    "    print(str(dtype) + ': ' + str(np.finfo(dtype).max))\n",
    "for dtype in [np.complex64, np.complex128]:\n",
    "    print(str(dtype) + ': ' + str(np.finfo(dtype).min))\n",
    "    print(str(dtype) + ': ' + str(np.finfo(dtype).max))"
   ]
  },
  {
   "cell_type": "markdown",
   "id": "11727a69",
   "metadata": {},
   "source": [
    "#### 49. How to print all the values of an array? (★★☆)"
   ]
  },
  {
   "cell_type": "code",
   "execution_count": 310,
   "id": "47e98473",
   "metadata": {},
   "outputs": [
    {
     "name": "stdout",
     "output_type": "stream",
     "text": [
      "[0.96744056 0.89040133 0.85395569]\n",
      "0.9674405583493703\n",
      "0.890401332927417\n",
      "0.8539556858505605\n"
     ]
    }
   ],
   "source": [
    "vector = np.random.rand(3)\n",
    "print(vector)\n",
    "\n",
    "for value in vector:\n",
    "    print(value)"
   ]
  },
  {
   "cell_type": "markdown",
   "id": "e0e7d741",
   "metadata": {},
   "source": [
    "#### 50. How to find the closest value (to a given scalar) in a vector? (★★☆)"
   ]
  },
  {
   "cell_type": "code",
   "execution_count": 311,
   "id": "62cabf6f",
   "metadata": {},
   "outputs": [
    {
     "data": {
      "text/plain": [
       "3.4"
      ]
     },
     "execution_count": 311,
     "metadata": {},
     "output_type": "execute_result"
    }
   ],
   "source": [
    "vector = np.array([1.2, 3.4, 5.6, 7.8, 9.0])\n",
    "\n",
    "scalar = 4.0\n",
    "index = np.argmin(np.abs(vector - scalar))\n",
    "\n",
    "vector[index]"
   ]
  },
  {
   "cell_type": "markdown",
   "id": "c5611b9e",
   "metadata": {},
   "source": [
    "#### 51. Create a structured array representing a position (x,y) and a color (r,g,b) (★★☆)"
   ]
  },
  {
   "cell_type": "code",
   "execution_count": 314,
   "id": "f622939d",
   "metadata": {},
   "outputs": [
    {
     "name": "stdout",
     "output_type": "stream",
     "text": [
      "[((1. , 2. ), (255,   0,   0)) ((3.5, 4.5), (  0, 128, 255))\n",
      " ((0. , 0. ), ( 64,  64,  64))]\n"
     ]
    }
   ],
   "source": [
    "dtype = np.dtype([('position', [('x', float), ('y', float)]), ('color', [('r', int), ('g', int), ('b', int)])])\n",
    "\n",
    "vector = np.array([((1.0, 2.0), (255, 0, 0)), \n",
    "                    ((3.5, 4.5), (0, 128, 255)), \n",
    "                    ((0.0, 0.0), (64, 64, 64))], dtype = dtype)\n",
    "\n",
    "print(vector)"
   ]
  },
  {
   "cell_type": "markdown",
   "id": "d22b8574",
   "metadata": {},
   "source": [
    "#### 52. Consider a random vector with shape (100,2) representing coordinates, find point by point distances (★★☆)"
   ]
  },
  {
   "cell_type": "code",
   "execution_count": 11,
   "id": "d5c9cdf8",
   "metadata": {},
   "outputs": [
    {
     "name": "stdout",
     "output_type": "stream",
     "text": [
      "[[0.         0.56084048 0.99244564 ... 0.67956107 0.91994885 0.44914148]\n",
      " [0.56084048 0.         0.59968447 ... 0.43278649 0.78034292 0.26728411]\n",
      " [0.99244564 0.59968447 0.         ... 0.32852812 0.42412152 0.545723  ]\n",
      " ...\n",
      " [0.67956107 0.43278649 0.32852812 ... 0.         0.34757222 0.25521254]\n",
      " [0.91994885 0.78034292 0.42412152 ... 0.34757222 0.         0.5744436 ]\n",
      " [0.44914148 0.26728411 0.545723   ... 0.25521254 0.5744436  0.        ]]\n"
     ]
    }
   ],
   "source": [
    "vector = np.random.random((100,2))\n",
    "X, Y = np.atleast_2d(vector[:, 0], vector[:, 1])\n",
    "D = np.sqrt( (X - X.T)**2 + (Y - Y.T)**2)\n",
    "print(D)"
   ]
  },
  {
   "cell_type": "markdown",
   "id": "f5c164f2",
   "metadata": {},
   "source": [
    "#### 53. How to convert a float (32 bits) array into an integer (32 bits) in place?"
   ]
  },
  {
   "cell_type": "code",
   "execution_count": 2,
   "id": "ea262de8",
   "metadata": {},
   "outputs": [
    {
     "name": "stdout",
     "output_type": "stream",
     "text": [
      "[0 1 2 3 4 5 6 7 8 9]\n"
     ]
    }
   ],
   "source": [
    "Z = np.arange(10, dtype = np.float32)\n",
    "Z = Z.astype(np.int32)\n",
    "# Z = np.array(Z, dtype = np.int32)\n",
    "print(Z)\n"
   ]
  },
  {
   "cell_type": "markdown",
   "id": "a8b7e6f5",
   "metadata": {},
   "source": [
    "#### 54. How to read the following file? (★★☆)\n",
    "```\n",
    "1, 2, 3, 4, 5\n",
    "6,  ,  , 7, 8\n",
    " ,  , 9,10,11\n",
    "```"
   ]
  },
  {
   "cell_type": "code",
   "execution_count": 2,
   "id": "bde0538a",
   "metadata": {},
   "outputs": [
    {
     "name": "stdout",
     "output_type": "stream",
     "text": [
      "[[ 1.  2.  3.  4.  5.]\n",
      " [ 6. nan nan  7.  8.]\n",
      " [nan nan  9. 10. 11.]]\n"
     ]
    }
   ],
   "source": [
    "file = open('task54.txt', 'r')\n",
    "\n",
    "matrix = np.genfromtxt(file, delimiter=',', dtype = float, filling_values = np.nan)\n",
    "\n",
    "print(matrix)\n",
    "\n",
    "file.close()"
   ]
  },
  {
   "cell_type": "markdown",
   "id": "c6b32834",
   "metadata": {},
   "source": [
    "#### 55. What is the equivalent of enumerate for numpy arrays? (★★☆)"
   ]
  },
  {
   "cell_type": "code",
   "execution_count": 9,
   "id": "ab02472a",
   "metadata": {},
   "outputs": [
    {
     "name": "stdout",
     "output_type": "stream",
     "text": [
      "[[0 1 2]\n",
      " [3 4 5]\n",
      " [6 7 8]]\n",
      "Index: (0, 0), Value: 0\n",
      "Index: (0, 1), Value: 1\n",
      "Index: (0, 2), Value: 2\n",
      "Index: (1, 0), Value: 3\n",
      "Index: (1, 1), Value: 4\n",
      "Index: (1, 2), Value: 5\n",
      "Index: (2, 0), Value: 6\n",
      "Index: (2, 1), Value: 7\n",
      "Index: (2, 2), Value: 8\n"
     ]
    }
   ],
   "source": [
    "matrix = np.arange(9).reshape(3,3)\n",
    "\n",
    "print(matrix)\n",
    "\n",
    "for index, value in np.ndenumerate(matrix):\n",
    "    print(f\"Index: {index}, Value: {value}\")"
   ]
  },
  {
   "cell_type": "markdown",
   "id": "a2121a05",
   "metadata": {},
   "source": [
    "#### 56. Generate a generic 2D Gaussian-like array (★★☆)"
   ]
  },
  {
   "cell_type": "code",
   "execution_count": 39,
   "id": "18507102",
   "metadata": {},
   "outputs": [
    {
     "name": "stdout",
     "output_type": "stream",
     "text": [
      "[[0.06948345 0.16901332 0.26359714 0.26359714 0.16901332 0.06948345]\n",
      " [0.16901332 0.41111229 0.64118039 0.64118039 0.41111229 0.16901332]\n",
      " [0.26359714 0.64118039 1.         1.         0.64118039 0.26359714]\n",
      " [0.26359714 0.64118039 1.         1.         0.64118039 0.26359714]\n",
      " [0.16901332 0.41111229 0.64118039 0.64118039 0.41111229 0.16901332]\n",
      " [0.06948345 0.16901332 0.26359714 0.26359714 0.16901332 0.06948345]]\n"
     ]
    }
   ],
   "source": [
    "\n",
    "size = 6\n",
    "sigma = 6.0\n",
    "\n",
    "x, y = np.meshgrid(np.linspace(-10, 10, size), np.linspace(-10, 10, size))\n",
    "\n",
    "gaussianMatrix = np.exp(-(x**2 + y**2) / (2 * sigma**2))\n",
    "gaussianMatrix /= np.max(gaussianMatrix)\n",
    "\n",
    "print(gaussianMatrix)"
   ]
  },
  {
   "cell_type": "markdown",
   "id": "97055efa",
   "metadata": {},
   "source": [
    "#### 57. How to randomly place p elements in a 2D array? (★★☆)"
   ]
  },
  {
   "cell_type": "code",
   "execution_count": 49,
   "id": "292e842f",
   "metadata": {},
   "outputs": [
    {
     "name": "stdout",
     "output_type": "stream",
     "text": [
      "[[0 0 0 0 0 0 0 0 0 1]\n",
      " [0 0 0 0 0 0 0 0 0 0]\n",
      " [0 0 0 0 0 0 0 0 0 1]\n",
      " [1 0 0 0 0 0 0 0 0 1]\n",
      " [0 0 0 0 0 1 0 0 0 0]\n",
      " [0 0 0 0 0 0 1 0 0 0]\n",
      " [0 0 0 1 0 0 0 0 0 0]\n",
      " [0 0 0 0 0 0 0 0 0 0]\n",
      " [0 1 0 0 0 0 0 1 0 0]\n",
      " [0 0 0 1 0 0 0 0 0 0]]\n"
     ]
    }
   ],
   "source": [
    "p = 10\n",
    "\n",
    "rows, cols = 10, 10\n",
    "shape = (rows, cols)\n",
    "\n",
    "matrix = np.zeros(shape, dtype=int)\n",
    "\n",
    "for _ in range(p):\n",
    "    randomRow = np.random.randint(0, rows)\n",
    "    randomCol = np.random.randint(0, cols)\n",
    "\n",
    "    matrix[randomRow, randomCol] = 1\n",
    "\n",
    "print(matrix)"
   ]
  },
  {
   "cell_type": "markdown",
   "id": "bfd2513c",
   "metadata": {},
   "source": [
    "#### 58. Subtract the mean of each row of a matrix (★★☆)"
   ]
  },
  {
   "cell_type": "code",
   "execution_count": 54,
   "id": "f306ab72",
   "metadata": {},
   "outputs": [
    {
     "name": "stdout",
     "output_type": "stream",
     "text": [
      "[[1 2 3]\n",
      " [4 5 6]\n",
      " [7 8 9]]\n",
      "\n",
      "[[-1.  0.  1.]\n",
      " [-1.  0.  1.]\n",
      " [-1.  0.  1.]]\n"
     ]
    }
   ],
   "source": [
    "matrix = np.random.randint(0, 10, (3, 3))\n",
    "\n",
    "print(matrix)\n",
    "print()\n",
    "\n",
    "rowMeansMatrix = np.mean(matrix, axis = 1, keepdims = True)\n",
    "matrix = matrix - rowMeansMatrix\n",
    "\n",
    "print(matrix)"
   ]
  },
  {
   "cell_type": "markdown",
   "id": "da9f2f9b",
   "metadata": {},
   "source": [
    "#### 59. How to sort an array by the nth column? (★★☆)"
   ]
  },
  {
   "cell_type": "code",
   "execution_count": 64,
   "id": "68cde57f",
   "metadata": {},
   "outputs": [
    {
     "name": "stdout",
     "output_type": "stream",
     "text": [
      "[[4 4 2 4]\n",
      " [6 0 5 0]\n",
      " [1 9 1 7]\n",
      " [3 2 8 0]]\n",
      "\n",
      "[[6 0 5 0]\n",
      " [3 2 8 0]\n",
      " [4 4 2 4]\n",
      " [1 9 1 7]]\n"
     ]
    }
   ],
   "source": [
    "n = 2\n",
    "\n",
    "matrix = np.random.randint(0,10,(4,4))\n",
    "\n",
    "print(matrix)\n",
    "print()\n",
    "\n",
    "sortedIndices = np.argsort(matrix[:, n - 1])\n",
    "matrix = matrix[sortedIndices]\n",
    "\n",
    "print(matrix)"
   ]
  },
  {
   "cell_type": "markdown",
   "id": "5b7be45c",
   "metadata": {},
   "source": [
    "#### 60. How to tell if a given 2D array has null columns? (★★☆)"
   ]
  },
  {
   "cell_type": "code",
   "execution_count": 81,
   "id": "7dbe2c27",
   "metadata": {},
   "outputs": [
    {
     "name": "stdout",
     "output_type": "stream",
     "text": [
      "[[0 0 1]\n",
      " [0 0 0]\n",
      " [1 0 0]]\n",
      "[False  True False]\n",
      "Null column indices: [1]\n"
     ]
    }
   ],
   "source": [
    "matrix = np.random.randint(0, 2, (3, 3))\n",
    "\n",
    "print(matrix)\n",
    "\n",
    "nullColumns = np.all(matrix == 0, axis = 0)\n",
    "print(nullColumns)\n",
    "\n",
    "if np.any(nullColumns):\n",
    "    print(\"Null column indices:\", np.where(nullColumns)[0])\n",
    "else:\n",
    "    print(\"The array does not have null columns.\")"
   ]
  },
  {
   "cell_type": "markdown",
   "id": "7c18c02e",
   "metadata": {},
   "source": [
    "#### 61. Find the nearest value from a given value in an array (★★☆)"
   ]
  },
  {
   "cell_type": "code",
   "execution_count": 97,
   "id": "b78ae9c4",
   "metadata": {},
   "outputs": [
    {
     "name": "stdout",
     "output_type": "stream",
     "text": [
      "[ 0.   3.5  7.  10.5 14.  17.5 21. ]\n",
      "Given Value: 6\n",
      "Nearest Value: 7.0\n"
     ]
    }
   ],
   "source": [
    "vector = np.linspace(0, 21, 7) \n",
    "\n",
    "print(array)\n",
    "\n",
    "givenValue = 6\n",
    "\n",
    "absoluteDifferences = np.abs(vector - givenValue)\n",
    "index = np.argmin(absoluteDifferences)\n",
    "nearestValue = vector[index]\n",
    "\n",
    "print(\"Given Value:\", givenValue)\n",
    "print(\"Nearest Value:\", nearestValue)"
   ]
  },
  {
   "cell_type": "markdown",
   "id": "8174ba2c",
   "metadata": {},
   "source": [
    "#### 62. Considering two arrays with shape (1,3) and (3,1), how to compute their sum using an iterator? (★★☆)"
   ]
  },
  {
   "cell_type": "code",
   "execution_count": 110,
   "id": "8a18fe57",
   "metadata": {},
   "outputs": [
    {
     "name": "stdout",
     "output_type": "stream",
     "text": [
      "[[0 3 4]]\n",
      "\n",
      "[[0]\n",
      " [4]\n",
      " [3]]\n",
      "\n",
      "[[0. 3. 4.]\n",
      " [4. 7. 8.]\n",
      " [3. 6. 7.]]\n"
     ]
    }
   ],
   "source": [
    "n1 = 3\n",
    "n2 = 3\n",
    "\n",
    "vector1 = np.random.randint(0, 5, (1, n1))\n",
    "vector2 = np.random.randint(0, 5, (n2, 1))\n",
    "\n",
    "print(vector1)\n",
    "print()\n",
    "print(vector2)\n",
    "print()\n",
    "\n",
    "result = np.zeros((n1, n2))\n",
    "\n",
    "for i in range(n1):\n",
    "    for j in range(n2):\n",
    "        result[i, j] = vector1[i % 1, j % n1] + vector2[i % n2, j % 1]\n",
    "\n",
    "print(result)"
   ]
  },
  {
   "cell_type": "markdown",
   "id": "9189bd7c",
   "metadata": {},
   "source": [
    "#### 63. Create an array class that has a name attribute (★★☆)"
   ]
  },
  {
   "cell_type": "code",
   "execution_count": 122,
   "id": "1c01ed42",
   "metadata": {},
   "outputs": [
    {
     "name": "stdout",
     "output_type": "stream",
     "text": [
      "ExampleVector\n",
      "[0 1 2 3 4 5 6 7 8 9]\n"
     ]
    }
   ],
   "source": [
    "class NamedArray(np.ndarray):\n",
    "    def __new__(cls, inputArray, name = None):\n",
    "        # Create a new instance of the array class\n",
    "        obj = np.asarray(inputArray).view(cls)\n",
    "        \n",
    "        # Add the 'name' attribute\n",
    "        obj.name = name\n",
    "        \n",
    "        return obj\n",
    "\n",
    "    def __array_finalize__(self, obj):\n",
    "        # This method is called during the creation of a new array instance\n",
    "        if obj is None: return\n",
    "        # Copy the 'name' attribute from the original object (if any)\n",
    "        self.name = getattr(obj, 'name', None)\n",
    "\n",
    "namedVector = NamedArray(np.arange(10), name = 'ExampleVector')\n",
    "\n",
    "print(namedVector.name)\n",
    "print(namedVector)"
   ]
  },
  {
   "cell_type": "markdown",
   "id": "f30162d2",
   "metadata": {},
   "source": [
    "#### 64. Consider a given vector, how to add 1 to each element indexed by a second vector (be careful with repeated indices)? (★★★)"
   ]
  },
  {
   "cell_type": "code",
   "execution_count": 131,
   "id": "093ba36f",
   "metadata": {},
   "outputs": [
    {
     "name": "stdout",
     "output_type": "stream",
     "text": [
      "Original vector: [0 1 2 3 4 5 6]\n",
      "Indeces: [1 3 4 1 5]\n",
      "Result: [0 2 2 4 5 6 6]\n"
     ]
    }
   ],
   "source": [
    "vector = np.arange(7)\n",
    "\n",
    "print(\"Original vector:\", vector)\n",
    "\n",
    "indices = np.array([1, 3, 4, 1, 5])\n",
    "\n",
    "print(\"Indeces:\",indices)\n",
    "\n",
    "for index in np.unique(indices):\n",
    "    vector[index] += 1\n",
    "\n",
    "print(\"Result:\",vector)"
   ]
  },
  {
   "cell_type": "markdown",
   "id": "f5b1c584",
   "metadata": {},
   "source": [
    "#### 65. How to accumulate elements of a vector (X) to an array (F) based on an index list (I)? (★★★)"
   ]
  },
  {
   "cell_type": "code",
   "execution_count": 134,
   "id": "c9d92a75",
   "metadata": {},
   "outputs": [
    {
     "name": "stdout",
     "output_type": "stream",
     "text": [
      "X: [1 2 3 4 5]\n",
      "I: [2 5 1 2 9]\n",
      "F: [0. 3. 5. 0. 0. 2. 0. 0. 0. 5.]\n"
     ]
    }
   ],
   "source": [
    "X = np.array([1, 2, 3, 4, 5])\n",
    "F = np.zeros(10)\n",
    "I = np.array([2, 5, 1, 2, 9])\n",
    "\n",
    "np.add.at(F, I, X)\n",
    "\n",
    "print(\"X:\", X)\n",
    "print(\"I:\", I)\n",
    "print(\"F:\", F)"
   ]
  },
  {
   "cell_type": "markdown",
   "id": "994c452d",
   "metadata": {},
   "source": [
    "#### 66. Considering a (w,h,3) image of (dtype=ubyte), compute the number of unique colors (★★☆)"
   ]
  },
  {
   "cell_type": "code",
   "execution_count": 18,
   "id": "269cdaea",
   "metadata": {},
   "outputs": [
    {
     "name": "stdout",
     "output_type": "stream",
     "text": [
      "64\n"
     ]
    }
   ],
   "source": [
    "w, h = 256, 256\n",
    "I = np.random.randint(0, 4, (h, w, 3)).astype(np.ubyte)\n",
    "colors = np.unique(I.reshape(-1, 3), axis = 0)\n",
    "print(len(colors))"
   ]
  },
  {
   "cell_type": "markdown",
   "id": "4bddeb31",
   "metadata": {},
   "source": [
    "#### 67. Considering a four dimensions array, how to get sum over the last two axis at once? (★★★)"
   ]
  },
  {
   "cell_type": "code",
   "execution_count": 148,
   "id": "32af15f5",
   "metadata": {},
   "outputs": [
    {
     "name": "stdout",
     "output_type": "stream",
     "text": [
      "[[10.95828198 10.65719696]\n",
      " [ 7.59840164  9.86348818]]\n"
     ]
    }
   ],
   "source": [
    "fourDArray = np.random.rand(2, 2, 4, 5)\n",
    "\n",
    "sum = np.sum(fourDArray, axis = (2, 3))\n",
    "\n",
    "print(sum)"
   ]
  },
  {
   "cell_type": "markdown",
   "id": "c4cf083c",
   "metadata": {},
   "source": [
    "#### 68. Considering a one-dimensional vector D, how to compute means of subsets of D using a vector S of same size describing subset  indices? (★★★)"
   ]
  },
  {
   "cell_type": "code",
   "execution_count": 25,
   "id": "9600a2dd",
   "metadata": {},
   "outputs": [
    {
     "name": "stdout",
     "output_type": "stream",
     "text": [
      "[0.65302297 0.54598766 0.48934718 0.59626553 0.58878937 0.58061708\n",
      " 0.58145326 0.54784279 0.64503957 0.50528122]\n"
     ]
    }
   ],
   "source": [
    "D = np.random.uniform(0, 1, 100)\n",
    "S = np.random.randint(0, 10, 100)\n",
    "DSums = np.bincount(S, weights = D)\n",
    "DCounts = np.bincount(S)\n",
    "DMeans = DSums / DCounts\n",
    "print(DMeans)"
   ]
  },
  {
   "cell_type": "markdown",
   "id": "a5e316db",
   "metadata": {},
   "source": [
    "#### 69. How to get the diagonal of a dot product? (★★★)"
   ]
  },
  {
   "cell_type": "code",
   "execution_count": 8,
   "id": "94735dbd",
   "metadata": {},
   "outputs": [
    {
     "name": "stdout",
     "output_type": "stream",
     "text": [
      "A:\n",
      " [[1 7 7]\n",
      " [5 4 5]\n",
      " [4 4 7]]\n",
      "B:\n",
      " [[6 8 8]\n",
      " [1 8 6]\n",
      " [4 1 8]]\n",
      "Dot Product:\n",
      " [[ 41  71 106]\n",
      " [ 54  77 104]\n",
      " [ 56  71 112]]\n",
      "Diagonal:\n",
      " [ 41  77 112]\n"
     ]
    }
   ],
   "source": [
    "\n",
    "A = np.random.randint(0, 10, (3, 3))\n",
    "B = np.random.randint(0, 10, (3, 3))\n",
    "\n",
    "dotProduct = np.dot(A, B)\n",
    "diagonal = np.diag(dotProduct)\n",
    "\n",
    "print(\"A:\\n\", A)\n",
    "print(\"B:\\n\", B)\n",
    "print(\"Dot Product:\\n\", dotProduct)\n",
    "print(\"Diagonal:\\n\", diagonal)"
   ]
  },
  {
   "cell_type": "markdown",
   "id": "de727a7b",
   "metadata": {},
   "source": [
    "#### 70. Consider the vector [1, 2, 3, 4, 5], how to build a new vector with 3 consecutive zeros interleaved between each value? (★★★)"
   ]
  },
  {
   "cell_type": "code",
   "execution_count": 12,
   "id": "982be812",
   "metadata": {},
   "outputs": [
    {
     "name": "stdout",
     "output_type": "stream",
     "text": [
      "[1, 0, 0, 0, 2, 0, 0, 0, 3, 0, 0, 0, 4, 0, 0, 0, 5]\n"
     ]
    }
   ],
   "source": [
    "vector = [1, 2, 3, 4, 5]\n",
    "newVector = []\n",
    "\n",
    "for index in np.arange(len(vector)):\n",
    "    newVector.append(vector[index])\n",
    "    if (index != len(vector) - 1):\n",
    "        newVector.extend([0, 0, 0])\n",
    "\n",
    "print(newVector)"
   ]
  },
  {
   "cell_type": "markdown",
   "id": "a9a73d6b",
   "metadata": {},
   "source": [
    "#### 71. Consider an array of dimension (5,5,3), how to mulitply it by an array with dimensions (5,5)? (★★★)"
   ]
  },
  {
   "cell_type": "code",
   "execution_count": 402,
   "id": "282a90cc",
   "metadata": {},
   "outputs": [
    {
     "name": "stdout",
     "output_type": "stream",
     "text": [
      "[[[ 6  6 27]\n",
      "  [30 24 36]\n",
      "  [25 25 20]\n",
      "  [ 7 56 28]\n",
      "  [ 9 54 63]]\n",
      "\n",
      " [[ 2  3  3]\n",
      "  [72 36 63]\n",
      "  [64 56 56]\n",
      "  [18 18  6]\n",
      "  [42 42 14]]\n",
      "\n",
      " [[12  4  6]\n",
      "  [16  8 14]\n",
      "  [ 8  6 12]\n",
      "  [ 9 18 27]\n",
      "  [ 6  2 12]]\n",
      "\n",
      " [[ 6  9  8]\n",
      "  [42 54 54]\n",
      "  [40  8 72]\n",
      "  [ 8  9  2]\n",
      "  [ 8 24 56]]\n",
      "\n",
      " [[12 12 21]\n",
      "  [21 63 14]\n",
      "  [56 42 28]\n",
      "  [16 28 32]\n",
      "  [54 12 54]]]\n"
     ]
    }
   ],
   "source": [
    "matrix3d = np.random.randint(1 , 10, (5, 5, 3))\n",
    "matrix2d = np.random.randint(1 , 10, (5, 5))\n",
    "\n",
    "result = matrix3d * matrix2d[:, :, np.newaxis]\n",
    "\n",
    "print(result)"
   ]
  },
  {
   "cell_type": "markdown",
   "id": "a951c78f",
   "metadata": {},
   "source": [
    "#### 72. How to swap two rows of an array? (★★★)"
   ]
  },
  {
   "cell_type": "code",
   "execution_count": 3,
   "id": "e29b3fde",
   "metadata": {},
   "outputs": [
    {
     "name": "stdout",
     "output_type": "stream",
     "text": [
      "[[7 8 9]\n",
      " [4 5 6]\n",
      " [1 2 3]]\n"
     ]
    }
   ],
   "source": [
    "matrix = np.array([[1, 2, 3],\n",
    "                  [4, 5, 6],\n",
    "                  [7, 8, 9]])\n",
    "\n",
    "row1Index = 0\n",
    "row2Index = 2\n",
    "\n",
    "matrix[[row1Index, row2Index]] = matrix[[row2Index, row1Index]]\n",
    "\n",
    "print(matrix)"
   ]
  },
  {
   "cell_type": "markdown",
   "id": "43b639e8",
   "metadata": {},
   "source": [
    "#### 73. Consider a set of 10 triplets describing 10 triangles (with shared vertices), find the set of unique line segments composing all the  triangles (★★★)"
   ]
  },
  {
   "cell_type": "code",
   "execution_count": 33,
   "id": "147e1034",
   "metadata": {},
   "outputs": [
    {
     "name": "stdout",
     "output_type": "stream",
     "text": [
      "[(0, 1) (0, 2) (0, 4) (0, 5) (0, 6) (1, 1) (1, 4) (2, 4) (2, 6) (2, 9)\n",
      " (4, 5) (4, 6) (4, 8) (4, 9) (5, 6) (5, 8) (6, 6) (6, 7) (6, 9) (7, 9)]\n"
     ]
    }
   ],
   "source": [
    "triplets = np.random.randint(0, 10, (10, 3))\n",
    "F = np.roll(triplets.repeat(2, axis = 1), -1, axis = 1)\n",
    "F = F.reshape(len(F)*3,2)\n",
    "F = np.sort(F, axis = 1)\n",
    "G = F.view( dtype=[('p0', F.dtype), ('p1', F.dtype)] )\n",
    "G = np.unique(G)\n",
    "print(G)"
   ]
  },
  {
   "cell_type": "markdown",
   "id": "d41de585",
   "metadata": {},
   "source": [
    "#### 74. Given a sorted array C that corresponds to a bincount, how to produce an array A such that np.bincount(A) == C? (★★★)"
   ]
  },
  {
   "cell_type": "code",
   "execution_count": 5,
   "id": "5f5d6e36",
   "metadata": {},
   "outputs": [
    {
     "name": "stdout",
     "output_type": "stream",
     "text": [
      "Array C: [0 1 2 3 4 5 6 7 8 9]\n",
      "Array A: [1 2 2 3 3 3 4 4 4 4 5 5 5 5 5 6 6 6 6 6 6 7 7 7 7 7 7 7 8 8 8 8 8 8 8 8 9\n",
      " 9 9 9 9 9 9 9 9]\n",
      "np.bincount(A) == C: True\n"
     ]
    }
   ],
   "source": [
    "# Given sorted array C\n",
    "C = np.arange(10)\n",
    "\n",
    "# Create array A based on C\n",
    "A = np.repeat(np.arange(len(C)), C)\n",
    "\n",
    "# Verify that np.bincount(A) == C\n",
    "result = np.bincount(A) == C\n",
    "\n",
    "print(\"Array C:\", C)\n",
    "print(\"Array A:\", A)\n",
    "print(\"np.bincount(A) == C:\", result.all())"
   ]
  },
  {
   "cell_type": "markdown",
   "id": "b50adf7c",
   "metadata": {},
   "source": [
    "#### 75. How to compute averages using a sliding window over an array? (★★★)"
   ]
  },
  {
   "cell_type": "code",
   "execution_count": 13,
   "id": "e631a9d2",
   "metadata": {},
   "outputs": [
    {
     "name": "stdout",
     "output_type": "stream",
     "text": [
      "[0 1 2 3 4 5 6 7 8 9]\n",
      "[1. 2. 3. 4. 5. 6. 7. 8.]\n"
     ]
    }
   ],
   "source": [
    "def slidingWndowAverage(vector, windowSize):\n",
    "    averages = []\n",
    "    \n",
    "    for i in range(len(vector) - windowSize + 1):\n",
    "        window = vector[i:i + windowSize]\n",
    "        average = np.mean(window)\n",
    "        averages.append(average)\n",
    "    \n",
    "    return np.array(averages)\n",
    "\n",
    "vector = np.arange(10)\n",
    "windowSize = 3\n",
    "\n",
    "averages = slidingWndowAverage(vector, windowSize)\n",
    "\n",
    "print(vector)\n",
    "print(averages)"
   ]
  },
  {
   "cell_type": "markdown",
   "id": "1ab4c50d",
   "metadata": {},
   "source": [
    "#### 76. Consider a one-dimensional array Z, build a two-dimensional array whose first row is (Z[0],Z[1],Z[2]) and each subsequent row is  shifted by 1 (last row should be (Z[-3],Z[-2],Z[-1]) (★★★)"
   ]
  },
  {
   "cell_type": "code",
   "execution_count": 3,
   "id": "3ccfe2c0",
   "metadata": {},
   "outputs": [
    {
     "name": "stdout",
     "output_type": "stream",
     "text": [
      "[0 1 2 3 4]\n",
      "\n",
      "[[0. 1. 2.]\n",
      " [1. 2. 3.]\n",
      " [2. 3. 4.]]\n"
     ]
    }
   ],
   "source": [
    "Z = np.arange(5)\n",
    "\n",
    "numColumns = 3\n",
    "numRows = len(Z) - numColumns + 1\n",
    "\n",
    "result = np.zeros((numRows, numColumns))\n",
    "\n",
    "for i in range(numRows):\n",
    "    result[i] = Z[i:i + numColumns]\n",
    "\n",
    "print(Z)\n",
    "print()\n",
    "print(result)"
   ]
  },
  {
   "cell_type": "markdown",
   "id": "5b4fe59d",
   "metadata": {},
   "source": [
    "#### 77. How to negate a boolean, or to change the sign of a float inplace? (★★★)"
   ]
  },
  {
   "cell_type": "code",
   "execution_count": 28,
   "id": "3c2373ff",
   "metadata": {},
   "outputs": [
    {
     "name": "stdout",
     "output_type": "stream",
     "text": [
      "True\n",
      "False\n",
      "3.14\n",
      "-3.14\n"
     ]
    }
   ],
   "source": [
    "boolean = True\n",
    "nBoolean = not boolean\n",
    "\n",
    "print(boolean)\n",
    "print(nBoolean)\n",
    "\n",
    "pFloat = 3.14\n",
    "nPFloat = -pFloat\n",
    "\n",
    "print(pFloat)\n",
    "print(nPFloat)"
   ]
  },
  {
   "cell_type": "markdown",
   "id": "119ab5af",
   "metadata": {},
   "source": [
    "#### 78. Consider 2 sets of points P0,P1 describing lines (2d) and a point p, how to compute distance from p to each line i (P0[i],P1[i])? (★★★)"
   ]
  },
  {
   "cell_type": "code",
   "execution_count": 410,
   "id": "1d8d06dc",
   "metadata": {},
   "outputs": [
    {
     "name": "stdout",
     "output_type": "stream",
     "text": [
      "[0.70710678 0.4472136  3.16227766]\n"
     ]
    }
   ],
   "source": [
    "def distanceToLines(P0, P1, p):\n",
    "    direction = P1 - P0\n",
    "    v = p - P0\n",
    "\n",
    "    projection = np.sum(v * direction, axis=1) / np.sum(direction**2, axis=1)\n",
    "\n",
    "    distances = np.linalg.norm(v - projection[:, np.newaxis] * direction, axis=1)\n",
    "    \n",
    "    return distances\n",
    "\n",
    "P0 = np.array([[1, 1], [1, 2], [3, 6]])\n",
    "P1 = np.array([[4, 4], [5, 4], [6, 5]])\n",
    "p = np.array([2, 3])\n",
    "\n",
    "distances = distanceToLines(P0, P1, p)\n",
    "\n",
    "print(distances)"
   ]
  },
  {
   "cell_type": "markdown",
   "id": "e5e7f323",
   "metadata": {},
   "source": [
    "#### 79. Consider 2 sets of points P0,P1 describing lines (2d) and a set of points P, how to compute distance from each point j (P[j]) to each line i (P0[i],P1[i])? (★★★)"
   ]
  },
  {
   "cell_type": "code",
   "execution_count": 411,
   "id": "d0ce77e2",
   "metadata": {},
   "outputs": [
    {
     "name": "stdout",
     "output_type": "stream",
     "text": [
      "[[0.70710678 0.72760688 3.88290137]\n",
      " [0.         1.21267813 1.94145069]\n",
      " [0.70710678 2.9104275  0.2773501 ]]\n"
     ]
    }
   ],
   "source": [
    "def distanceToLines(P0, P1, P):\n",
    "    direction = P1 - P0\n",
    "    v = P[:, np.newaxis, :] - P0\n",
    "\n",
    "    projection = np.sum(v * direction, axis=2) / np.sum(direction**2, axis=1)\n",
    "\n",
    "    distances = np.linalg.norm(v - projection[:, :, np.newaxis] * direction, axis=2)\n",
    "\n",
    "    return distances\n",
    "\n",
    "P0 = np.array([[1, 1], [1, 2], [3, 7]])\n",
    "P1 = np.array([[4, 4], [5, 3], [6, 5]])\n",
    "P = np.array([[2, 3], [4, 4], [5, 6]])\n",
    "\n",
    "distances = distanceToLines(P0, P1, P)\n",
    "\n",
    "print(distances)"
   ]
  },
  {
   "cell_type": "markdown",
   "id": "9b9d03eb",
   "metadata": {},
   "source": [
    "#### 80. Consider an arbitrary array, write a function that extract a subpart with a fixed shape and centered on a given element (pad with a `fill` value when necessary) (★★★)"
   ]
  },
  {
   "cell_type": "code",
   "execution_count": 7,
   "id": "ec2b7ae3",
   "metadata": {},
   "outputs": [
    {
     "name": "stdout",
     "output_type": "stream",
     "text": [
      "[[ 7  8  9]\n",
      " [12 13 14]\n",
      " [17 18 19]]\n"
     ]
    }
   ],
   "source": [
    "def extract_subpart(matrix, shape, center, fillValue):\n",
    "    matrixShape = matrix.shape\n",
    "\n",
    "    startRow = max(0, center[0] - shape[0] // 2)\n",
    "    endRow = min(matrixShape[0], center[0] + shape[0] // 2 + 1)\n",
    "    startCol = max(0, center[1] - shape[1] // 2)\n",
    "    endCol = min(matrixShape[1], center[1] + shape[1] // 2 + 1)\n",
    "\n",
    "    subpart = np.full(shape, fillValue)\n",
    "\n",
    "    sourceStartRow = shape[0] // 2 - (center[0] - startRow)\n",
    "    sourceEndRow = shape[0] // 2 + (endRow - center[0])\n",
    "    sourceStartCol = shape[1] // 2 - (center[1] - startCol)\n",
    "    sourceEndCol = shape[1] // 2 + (endCol - center[1])\n",
    "\n",
    "    subpart[sourceStartRow:sourceEndRow, sourceStartCol:sourceEndCol] = matrix[startRow:endRow, startCol:endCol]\n",
    "\n",
    "    return subpart\n",
    "\n",
    "matrix = np.array([[1, 2, 3, 4, 5],\n",
    "                [6, 7, 8, 9, 10],\n",
    "                [11, 12, 13, 14, 15],\n",
    "                [16, 17, 18, 19, 20]])\n",
    "\n",
    "shape = (3, 3)\n",
    "center = (2, 2)\n",
    "fillValue = 0\n",
    "\n",
    "subpart = extract_subpart(matrix, shape, center, fillValue)\n",
    "print(subpart)"
   ]
  },
  {
   "cell_type": "markdown",
   "id": "27794913",
   "metadata": {},
   "source": [
    "#### 81. Consider an array Z = [1,2,3,4,5,6,7,8,9,10,11,12,13,14], how to generate an array R = [[1,2,3,4], [2,3,4,5], [3,4,5,6], ..., [11,12,13,14]]? (★★★)"
   ]
  },
  {
   "cell_type": "code",
   "execution_count": 29,
   "id": "f3e7878b",
   "metadata": {},
   "outputs": [
    {
     "name": "stdout",
     "output_type": "stream",
     "text": [
      "[ 1  2  3  4  5  6  7  8  9 10 11 12 13 14]\n",
      "\n",
      "[[ 1.  2.  3.  4.]\n",
      " [ 2.  3.  4.  5.]\n",
      " [ 3.  4.  5.  6.]\n",
      " [ 4.  5.  6.  7.]\n",
      " [ 5.  6.  7.  8.]\n",
      " [ 6.  7.  8.  9.]\n",
      " [ 7.  8.  9. 10.]\n",
      " [ 8.  9. 10. 11.]\n",
      " [ 9. 10. 11. 12.]\n",
      " [10. 11. 12. 13.]\n",
      " [11. 12. 13. 14.]]\n"
     ]
    }
   ],
   "source": [
    "Z = np.array([1, 2, 3, 4, 5, 6, 7, 8, 9, 10, 11, 12, 13, 14])\n",
    "\n",
    "numColumns = 4\n",
    "numRows = len(Z) - numColumns + 1\n",
    "\n",
    "result = np.zeros((numRows, numColumns))\n",
    "\n",
    "for i in range(numRows):\n",
    "    result[i] = Z[i:i + numColumns]\n",
    "\n",
    "print(Z)\n",
    "print()\n",
    "print(result)"
   ]
  },
  {
   "cell_type": "markdown",
   "id": "fae786f5",
   "metadata": {},
   "source": [
    "#### 82. Compute a matrix rank (★★★)"
   ]
  },
  {
   "cell_type": "code",
   "execution_count": 105,
   "id": "64b9615b",
   "metadata": {},
   "outputs": [
    {
     "name": "stdout",
     "output_type": "stream",
     "text": [
      "[[2 2 1]\n",
      " [1 2 1]\n",
      " [1 1 1]]\n",
      "\n",
      "3\n"
     ]
    }
   ],
   "source": [
    "matrix = np.random.randint(1, 3, (3, 3))\n",
    "\n",
    "rank = np.linalg.matrix_rank(matrix)\n",
    "\n",
    "\n",
    "print(matrix)\n",
    "print()\n",
    "print(rank)"
   ]
  },
  {
   "cell_type": "markdown",
   "id": "c85aa0b9",
   "metadata": {},
   "source": [
    "#### 83. How to find the most frequent value in an array?"
   ]
  },
  {
   "cell_type": "code",
   "execution_count": 111,
   "id": "056be85b",
   "metadata": {},
   "outputs": [
    {
     "name": "stdout",
     "output_type": "stream",
     "text": [
      "[8 3 8 2 3 4 6 8 9 3]\n",
      "3\n"
     ]
    }
   ],
   "source": [
    "arr = np.random.randint(1, 10, (10))\n",
    "\n",
    "uniqueValues, counts = np.unique(arr, return_counts = True)\n",
    "index = np.argmax(counts)\n",
    "value = uniqueValues[index]\n",
    "\n",
    "print(arr)\n",
    "print(value)"
   ]
  },
  {
   "cell_type": "markdown",
   "id": "0ff2344d",
   "metadata": {},
   "source": [
    "#### 84. Extract all the contiguous 3x3 blocks from a random 10x10 matrix (★★★)"
   ]
  },
  {
   "cell_type": "code",
   "execution_count": 121,
   "id": "d58b1318",
   "metadata": {},
   "outputs": [
    {
     "name": "stdout",
     "output_type": "stream",
     "text": [
      "[[3 3 2 9 4 2 6 6 3 6]\n",
      " [4 7 9 7 1 1 4 7 9 8]\n",
      " [1 3 6 9 3 7 4 2 8 6]\n",
      " [9 5 1 6 3 9 6 3 2 5]\n",
      " [6 7 8 9 3 7 5 6 1 5]\n",
      " [6 6 4 3 6 3 5 8 4 3]\n",
      " [6 7 5 2 1 5 4 8 8 6]\n",
      " [8 7 6 9 9 8 2 3 7 2]\n",
      " [4 5 9 2 1 9 1 3 9 6]\n",
      " [3 7 6 4 9 5 8 3 1 5]]\n",
      "\n",
      "Block 1:\n",
      "[[3 3 2]\n",
      " [4 7 9]\n",
      " [1 3 6]]\n",
      "\n",
      "Block 2:\n",
      "[[3 2 9]\n",
      " [7 9 7]\n",
      " [3 6 9]]\n",
      "\n",
      "Block 3:\n",
      "[[2 9 4]\n",
      " [9 7 1]\n",
      " [6 9 3]]\n",
      "\n",
      "Block 4:\n",
      "[[9 4 2]\n",
      " [7 1 1]\n",
      " [9 3 7]]\n",
      "\n",
      "Block 5:\n",
      "[[4 2 6]\n",
      " [1 1 4]\n",
      " [3 7 4]]\n",
      "\n",
      "Block 6:\n",
      "[[2 6 6]\n",
      " [1 4 7]\n",
      " [7 4 2]]\n",
      "\n",
      "Block 7:\n",
      "[[6 6 3]\n",
      " [4 7 9]\n",
      " [4 2 8]]\n",
      "\n",
      "Block 8:\n",
      "[[6 3 6]\n",
      " [7 9 8]\n",
      " [2 8 6]]\n",
      "\n",
      "Block 9:\n",
      "[[4 7 9]\n",
      " [1 3 6]\n",
      " [9 5 1]]\n",
      "\n",
      "Block 10:\n",
      "[[7 9 7]\n",
      " [3 6 9]\n",
      " [5 1 6]]\n",
      "\n",
      "Block 11:\n",
      "[[9 7 1]\n",
      " [6 9 3]\n",
      " [1 6 3]]\n",
      "\n",
      "Block 12:\n",
      "[[7 1 1]\n",
      " [9 3 7]\n",
      " [6 3 9]]\n",
      "\n",
      "Block 13:\n",
      "[[1 1 4]\n",
      " [3 7 4]\n",
      " [3 9 6]]\n",
      "\n",
      "Block 14:\n",
      "[[1 4 7]\n",
      " [7 4 2]\n",
      " [9 6 3]]\n",
      "\n",
      "Block 15:\n",
      "[[4 7 9]\n",
      " [4 2 8]\n",
      " [6 3 2]]\n",
      "\n",
      "Block 16:\n",
      "[[7 9 8]\n",
      " [2 8 6]\n",
      " [3 2 5]]\n",
      "\n",
      "Block 17:\n",
      "[[1 3 6]\n",
      " [9 5 1]\n",
      " [6 7 8]]\n",
      "\n",
      "Block 18:\n",
      "[[3 6 9]\n",
      " [5 1 6]\n",
      " [7 8 9]]\n",
      "\n",
      "Block 19:\n",
      "[[6 9 3]\n",
      " [1 6 3]\n",
      " [8 9 3]]\n",
      "\n",
      "Block 20:\n",
      "[[9 3 7]\n",
      " [6 3 9]\n",
      " [9 3 7]]\n",
      "\n",
      "Block 21:\n",
      "[[3 7 4]\n",
      " [3 9 6]\n",
      " [3 7 5]]\n",
      "\n",
      "Block 22:\n",
      "[[7 4 2]\n",
      " [9 6 3]\n",
      " [7 5 6]]\n",
      "\n",
      "Block 23:\n",
      "[[4 2 8]\n",
      " [6 3 2]\n",
      " [5 6 1]]\n",
      "\n",
      "Block 24:\n",
      "[[2 8 6]\n",
      " [3 2 5]\n",
      " [6 1 5]]\n",
      "\n",
      "Block 25:\n",
      "[[9 5 1]\n",
      " [6 7 8]\n",
      " [6 6 4]]\n",
      "\n",
      "Block 26:\n",
      "[[5 1 6]\n",
      " [7 8 9]\n",
      " [6 4 3]]\n",
      "\n",
      "Block 27:\n",
      "[[1 6 3]\n",
      " [8 9 3]\n",
      " [4 3 6]]\n",
      "\n",
      "Block 28:\n",
      "[[6 3 9]\n",
      " [9 3 7]\n",
      " [3 6 3]]\n",
      "\n",
      "Block 29:\n",
      "[[3 9 6]\n",
      " [3 7 5]\n",
      " [6 3 5]]\n",
      "\n",
      "Block 30:\n",
      "[[9 6 3]\n",
      " [7 5 6]\n",
      " [3 5 8]]\n",
      "\n",
      "Block 31:\n",
      "[[6 3 2]\n",
      " [5 6 1]\n",
      " [5 8 4]]\n",
      "\n",
      "Block 32:\n",
      "[[3 2 5]\n",
      " [6 1 5]\n",
      " [8 4 3]]\n",
      "\n",
      "Block 33:\n",
      "[[6 7 8]\n",
      " [6 6 4]\n",
      " [6 7 5]]\n",
      "\n",
      "Block 34:\n",
      "[[7 8 9]\n",
      " [6 4 3]\n",
      " [7 5 2]]\n",
      "\n",
      "Block 35:\n",
      "[[8 9 3]\n",
      " [4 3 6]\n",
      " [5 2 1]]\n",
      "\n",
      "Block 36:\n",
      "[[9 3 7]\n",
      " [3 6 3]\n",
      " [2 1 5]]\n",
      "\n",
      "Block 37:\n",
      "[[3 7 5]\n",
      " [6 3 5]\n",
      " [1 5 4]]\n",
      "\n",
      "Block 38:\n",
      "[[7 5 6]\n",
      " [3 5 8]\n",
      " [5 4 8]]\n",
      "\n",
      "Block 39:\n",
      "[[5 6 1]\n",
      " [5 8 4]\n",
      " [4 8 8]]\n",
      "\n",
      "Block 40:\n",
      "[[6 1 5]\n",
      " [8 4 3]\n",
      " [8 8 6]]\n",
      "\n",
      "Block 41:\n",
      "[[6 6 4]\n",
      " [6 7 5]\n",
      " [8 7 6]]\n",
      "\n",
      "Block 42:\n",
      "[[6 4 3]\n",
      " [7 5 2]\n",
      " [7 6 9]]\n",
      "\n",
      "Block 43:\n",
      "[[4 3 6]\n",
      " [5 2 1]\n",
      " [6 9 9]]\n",
      "\n",
      "Block 44:\n",
      "[[3 6 3]\n",
      " [2 1 5]\n",
      " [9 9 8]]\n",
      "\n",
      "Block 45:\n",
      "[[6 3 5]\n",
      " [1 5 4]\n",
      " [9 8 2]]\n",
      "\n",
      "Block 46:\n",
      "[[3 5 8]\n",
      " [5 4 8]\n",
      " [8 2 3]]\n",
      "\n",
      "Block 47:\n",
      "[[5 8 4]\n",
      " [4 8 8]\n",
      " [2 3 7]]\n",
      "\n",
      "Block 48:\n",
      "[[8 4 3]\n",
      " [8 8 6]\n",
      " [3 7 2]]\n",
      "\n",
      "Block 49:\n",
      "[[6 7 5]\n",
      " [8 7 6]\n",
      " [4 5 9]]\n",
      "\n",
      "Block 50:\n",
      "[[7 5 2]\n",
      " [7 6 9]\n",
      " [5 9 2]]\n",
      "\n",
      "Block 51:\n",
      "[[5 2 1]\n",
      " [6 9 9]\n",
      " [9 2 1]]\n",
      "\n",
      "Block 52:\n",
      "[[2 1 5]\n",
      " [9 9 8]\n",
      " [2 1 9]]\n",
      "\n",
      "Block 53:\n",
      "[[1 5 4]\n",
      " [9 8 2]\n",
      " [1 9 1]]\n",
      "\n",
      "Block 54:\n",
      "[[5 4 8]\n",
      " [8 2 3]\n",
      " [9 1 3]]\n",
      "\n",
      "Block 55:\n",
      "[[4 8 8]\n",
      " [2 3 7]\n",
      " [1 3 9]]\n",
      "\n",
      "Block 56:\n",
      "[[8 8 6]\n",
      " [3 7 2]\n",
      " [3 9 6]]\n",
      "\n",
      "Block 57:\n",
      "[[8 7 6]\n",
      " [4 5 9]\n",
      " [3 7 6]]\n",
      "\n",
      "Block 58:\n",
      "[[7 6 9]\n",
      " [5 9 2]\n",
      " [7 6 4]]\n",
      "\n",
      "Block 59:\n",
      "[[6 9 9]\n",
      " [9 2 1]\n",
      " [6 4 9]]\n",
      "\n",
      "Block 60:\n",
      "[[9 9 8]\n",
      " [2 1 9]\n",
      " [4 9 5]]\n",
      "\n",
      "Block 61:\n",
      "[[9 8 2]\n",
      " [1 9 1]\n",
      " [9 5 8]]\n",
      "\n",
      "Block 62:\n",
      "[[8 2 3]\n",
      " [9 1 3]\n",
      " [5 8 3]]\n",
      "\n",
      "Block 63:\n",
      "[[2 3 7]\n",
      " [1 3 9]\n",
      " [8 3 1]]\n",
      "\n",
      "Block 64:\n",
      "[[3 7 2]\n",
      " [3 9 6]\n",
      " [3 1 5]]\n",
      "\n"
     ]
    }
   ],
   "source": [
    "matrix = np.random.randint(1, 10, (10, 10))\n",
    "print(matrix)\n",
    "print()\n",
    "\n",
    "blockSize = 3\n",
    "\n",
    "blocks = []\n",
    "\n",
    "for i in range(10 - blockSize + 1):\n",
    "    for j in range(10 - blockSize + 1):\n",
    "        block = matrix[i:i + blockSize, j:j + blockSize]\n",
    "        blocks.append(block)\n",
    "\n",
    "\n",
    "for i, block in enumerate(blocks):\n",
    "    print(f\"Block {i + 1}:\\n{block}\\n\")"
   ]
  },
  {
   "cell_type": "markdown",
   "id": "1a18b263",
   "metadata": {},
   "source": [
    "#### 85. Create a 2D array subclass such that Z[i,j] == Z[j,i] (★★★)"
   ]
  },
  {
   "cell_type": "code",
   "execution_count": 146,
   "id": "87f17adc",
   "metadata": {},
   "outputs": [
    {
     "name": "stdout",
     "output_type": "stream",
     "text": [
      "[[0 1 2]\n",
      " [3 4 5]\n",
      " [6 7 8]]\n",
      "\n",
      "[[0 1 2]\n",
      " [1 4 5]\n",
      " [2 5 8]]\n"
     ]
    }
   ],
   "source": [
    "class SymmetricArray(np.ndarray):\n",
    "    def __new__(cls, array):\n",
    "        array = np.asarray(array)\n",
    "\n",
    "        obj = np.empty_like(array, dtype = array.dtype)\n",
    "\n",
    "        for i in range(array.shape[0]):\n",
    "            for j in range(i, array.shape[1]):\n",
    "                obj[i, j] = obj[j, i] = array[i, j]\n",
    "\n",
    "        obj = obj.view(cls)\n",
    "        return obj\n",
    "    \n",
    "    def __setitem__(self, index, value):\n",
    "        i, j = index\n",
    "        super().__setitem__((i, j), value)\n",
    "        super().__setitem__((j, i), value)\n",
    "\n",
    "matrix = np.arange(9).reshape((3, 3))\n",
    "symetrixMatrix = SymmetricArray(matrix)\n",
    "\n",
    "print(matrix)\n",
    "print()\n",
    "print(symetrixMatrix)\n"
   ]
  },
  {
   "cell_type": "markdown",
   "id": "f85f2cad",
   "metadata": {},
   "source": [
    "#### 86. Consider a set of p matrices wich shape (n,n) and a set of p vectors with shape (n,1). How to compute the sum of of the p matrix products at once? (result has shape (n,1)) (★★★)"
   ]
  },
  {
   "cell_type": "code",
   "execution_count": 40,
   "id": "8d230557",
   "metadata": {},
   "outputs": [
    {
     "name": "stdout",
     "output_type": "stream",
     "text": [
      "[[200.]\n",
      " [200.]\n",
      " [200.]\n",
      " [200.]\n",
      " [200.]\n",
      " [200.]\n",
      " [200.]\n",
      " [200.]\n",
      " [200.]\n",
      " [200.]\n",
      " [200.]\n",
      " [200.]\n",
      " [200.]\n",
      " [200.]\n",
      " [200.]\n",
      " [200.]\n",
      " [200.]\n",
      " [200.]\n",
      " [200.]\n",
      " [200.]]\n"
     ]
    }
   ],
   "source": [
    "p, n = 10, 20\n",
    "matrices = np.ones((p, n, n))\n",
    "vectors = np.ones((p, n, 1))\n",
    "sum = np.tensordot(matrices, vectors, axes = [[0, 2], [0, 1]])\n",
    "print(sum)"
   ]
  },
  {
   "cell_type": "markdown",
   "id": "5afb72c8",
   "metadata": {},
   "source": [
    "#### 87. Consider a 16x16 array, how to get the block-sum (block size is 4x4)? (★★★)"
   ]
  },
  {
   "cell_type": "code",
   "execution_count": 169,
   "id": "e86f47a9",
   "metadata": {},
   "outputs": [
    {
     "name": "stdout",
     "output_type": "stream",
     "text": [
      "[[5 4 3 3 7 6 5 9 1 1 5 4 1 9 2 2]\n",
      " [6 7 4 4 1 2 9 5 6 7 4 1 3 3 7 6]\n",
      " [2 2 7 5 9 8 9 7 5 8 3 8 7 7 1 6]\n",
      " [6 8 1 5 1 5 1 1 8 1 5 9 2 8 6 4]\n",
      " [2 3 1 4 3 2 5 5 8 8 8 1 8 4 6 4]\n",
      " [7 2 6 5 6 4 9 7 3 3 4 3 9 5 2 4]\n",
      " [6 3 3 4 5 1 1 5 2 6 7 2 4 6 7 9]\n",
      " [8 3 5 9 8 7 4 3 5 6 2 5 5 8 8 5]\n",
      " [7 1 2 2 2 2 7 5 3 2 9 1 1 6 9 3]\n",
      " [2 8 2 8 8 6 9 7 8 9 8 6 6 4 9 3]\n",
      " [1 8 2 8 6 9 1 9 9 3 5 1 8 5 6 1]\n",
      " [1 7 6 3 3 3 2 7 8 9 4 7 5 6 8 7]\n",
      " [3 8 7 8 1 6 8 5 8 1 3 2 1 6 8 1]\n",
      " [7 9 2 3 8 5 6 9 4 6 9 3 2 9 3 3]\n",
      " [2 7 7 3 7 4 7 2 9 3 7 8 7 7 8 7]\n",
      " [1 6 7 5 4 3 2 8 4 2 7 7 8 8 6 4]]\n",
      "\n",
      "[[818 839 854 860]\n",
      " [837 856 867 875]\n",
      " [851 878 890 896]\n",
      " [835 864 877 881]]\n"
     ]
    }
   ],
   "source": [
    "matrixSize = 16\n",
    "\n",
    "matrix = np.random.randint(1, 10, (matrixSize, matrixSize))\n",
    "print(matrix)\n",
    "print()\n",
    "\n",
    "blockSize = 4\n",
    "\n",
    "blocksSum = np.zeros((blockSize, blockSize), dtype = matrix.dtype)\n",
    "\n",
    "for i in range(matrixSize - blockSize + 1):\n",
    "    for j in range(matrixSize - blockSize + 1):\n",
    "        block = matrix[i:i + blockSize, j:j + blockSize]\n",
    "        blocksSum += block\n",
    "\n",
    "print(blocksSum)"
   ]
  },
  {
   "cell_type": "markdown",
   "id": "6094d37c",
   "metadata": {},
   "source": [
    "#### 88. How to implement the Game of Life using numpy arrays? (★★★)"
   ]
  },
  {
   "cell_type": "code",
   "execution_count": 73,
   "id": "a93e715f",
   "metadata": {},
   "outputs": [
    {
     "name": "stdout",
     "output_type": "stream",
     "text": [
      "[[0 0 0 0 0 0 0 0 0 0]\n",
      " [0 0 0 0 0 0 0 0 1 0]\n",
      " [0 1 0 1 0 0 0 1 1 0]\n",
      " [0 0 0 1 0 0 0 0 1 0]\n",
      " [0 0 0 0 1 0 0 1 1 0]\n",
      " [0 0 0 0 1 0 0 0 1 0]\n",
      " [0 0 0 0 0 0 1 0 0 0]\n",
      " [0 0 0 0 0 1 1 1 1 0]\n",
      " [0 0 0 0 0 0 1 0 0 0]\n",
      " [0 0 0 0 0 0 0 0 0 0]]\n",
      "[[0 0 0 0 0 0 0 0 0 0]\n",
      " [0 0 0 0 0 0 0 1 1 0]\n",
      " [0 0 1 0 0 0 0 1 1 0]\n",
      " [0 0 1 1 1 0 0 0 0 0]\n",
      " [0 0 0 1 1 0 0 1 1 0]\n",
      " [0 0 0 0 0 1 0 0 1 0]\n",
      " [0 0 0 0 0 0 1 0 1 0]\n",
      " [0 0 0 0 0 1 0 0 0 0]\n",
      " [0 0 0 0 0 1 1 0 0 0]\n",
      " [0 0 0 0 0 0 0 0 0 0]]\n",
      "[[0 0 0 0 0 0 0 0 0 0]\n",
      " [0 0 0 0 0 0 0 1 1 0]\n",
      " [0 0 1 0 0 0 0 1 1 0]\n",
      " [0 0 1 0 1 0 0 0 0 0]\n",
      " [0 0 1 0 0 1 0 1 1 0]\n",
      " [0 0 0 0 1 1 1 0 1 0]\n",
      " [0 0 0 0 0 1 1 1 0 0]\n",
      " [0 0 0 0 0 1 0 1 0 0]\n",
      " [0 0 0 0 0 1 1 0 0 0]\n",
      " [0 0 0 0 0 0 0 0 0 0]]\n",
      "[[0 0 0 0 0 0 0 0 0 0]\n",
      " [0 0 0 0 0 0 0 1 1 0]\n",
      " [0 0 0 1 0 0 0 1 1 0]\n",
      " [0 1 1 0 0 0 1 0 0 0]\n",
      " [0 0 0 0 0 0 0 1 1 0]\n",
      " [0 0 0 0 1 0 0 0 1 0]\n",
      " [0 0 0 0 0 0 0 0 1 0]\n",
      " [0 0 0 0 1 0 0 1 0 0]\n",
      " [0 0 0 0 0 1 1 0 0 0]\n",
      " [0 0 0 0 0 0 0 0 0 0]]\n",
      "[[0 0 0 0 0 0 0 0 0 0]\n",
      " [0 0 0 0 0 0 0 1 1 0]\n",
      " [0 0 1 0 0 0 1 0 1 0]\n",
      " [0 0 1 0 0 0 1 0 0 0]\n",
      " [0 0 0 0 0 0 0 1 1 0]\n",
      " [0 0 0 0 0 0 0 0 1 0]\n",
      " [0 0 0 0 0 0 0 1 1 0]\n",
      " [0 0 0 0 0 1 1 1 0 0]\n",
      " [0 0 0 0 0 1 1 0 0 0]\n",
      " [0 0 0 0 0 0 0 0 0 0]]\n",
      "[[0 0 0 0 0 0 0 0 0 0]\n",
      " [0 0 0 0 0 0 0 1 1 0]\n",
      " [0 0 0 0 0 0 1 0 1 0]\n",
      " [0 0 0 0 0 0 1 0 1 0]\n",
      " [0 0 0 0 0 0 0 1 1 0]\n",
      " [0 0 0 0 0 0 0 0 0 0]\n",
      " [0 0 0 0 0 0 0 0 1 0]\n",
      " [0 0 0 0 0 1 0 0 1 0]\n",
      " [0 0 0 0 0 1 0 1 0 0]\n",
      " [0 0 0 0 0 0 0 0 0 0]]\n",
      "[[0 0 0 0 0 0 0 0 0 0]\n",
      " [0 0 0 0 0 0 0 1 1 0]\n",
      " [0 0 0 0 0 0 1 0 1 0]\n",
      " [0 0 0 0 0 0 1 0 1 0]\n",
      " [0 0 0 0 0 0 0 1 1 0]\n",
      " [0 0 0 0 0 0 0 1 1 0]\n",
      " [0 0 0 0 0 0 0 0 0 0]\n",
      " [0 0 0 0 0 0 1 1 1 0]\n",
      " [0 0 0 0 0 0 1 0 0 0]\n",
      " [0 0 0 0 0 0 0 0 0 0]]\n",
      "[[0 0 0 0 0 0 0 0 0 0]\n",
      " [0 0 0 0 0 0 0 1 1 0]\n",
      " [0 0 0 0 0 0 1 0 1 0]\n",
      " [0 0 0 0 0 0 1 0 1 0]\n",
      " [0 0 0 0 0 0 1 0 0 0]\n",
      " [0 0 0 0 0 0 0 1 1 0]\n",
      " [0 0 0 0 0 0 1 0 0 0]\n",
      " [0 0 0 0 0 0 1 1 0 0]\n",
      " [0 0 0 0 0 0 1 0 0 0]\n",
      " [0 0 0 0 0 0 0 0 0 0]]\n",
      "[[0 0 0 0 0 0 0 0 0 0]\n",
      " [0 0 0 0 0 0 0 1 1 0]\n",
      " [0 0 0 0 0 0 1 0 1 0]\n",
      " [0 0 0 0 0 1 1 0 0 0]\n",
      " [0 0 0 0 0 0 1 0 1 0]\n",
      " [0 0 0 0 0 0 1 1 0 0]\n",
      " [0 0 0 0 0 0 1 0 1 0]\n",
      " [0 0 0 0 0 1 1 1 0 0]\n",
      " [0 0 0 0 0 0 1 1 0 0]\n",
      " [0 0 0 0 0 0 0 0 0 0]]\n",
      "[[0 0 0 0 0 0 0 0 0 0]\n",
      " [0 0 0 0 0 0 0 1 1 0]\n",
      " [0 0 0 0 0 1 1 0 1 0]\n",
      " [0 0 0 0 0 1 1 0 0 0]\n",
      " [0 0 0 0 0 0 0 0 0 0]\n",
      " [0 0 0 0 0 1 1 0 1 0]\n",
      " [0 0 0 0 0 0 0 0 1 0]\n",
      " [0 0 0 0 0 1 0 0 1 0]\n",
      " [0 0 0 0 0 1 0 1 0 0]\n",
      " [0 0 0 0 0 0 0 0 0 0]]\n",
      "[[0 0 0 0 0 0 0 0 0 0]\n",
      " [0 0 0 0 0 0 1 1 1 0]\n",
      " [0 0 0 0 0 1 0 0 1 0]\n",
      " [0 0 0 0 0 1 1 1 0 0]\n",
      " [0 0 0 0 0 0 0 1 0 0]\n",
      " [0 0 0 0 0 0 0 1 0 0]\n",
      " [0 0 0 0 0 1 1 0 1 0]\n",
      " [0 0 0 0 0 0 1 1 1 0]\n",
      " [0 0 0 0 0 0 1 0 0 0]\n",
      " [0 0 0 0 0 0 0 0 0 0]]\n",
      "[[0 0 0 0 0 0 0 0 0 0]\n",
      " [0 0 0 0 0 0 1 1 1 0]\n",
      " [0 0 0 0 0 1 0 0 1 0]\n",
      " [0 0 0 0 0 1 0 1 1 0]\n",
      " [0 0 0 0 0 0 0 1 1 0]\n",
      " [0 0 0 0 0 0 0 1 1 0]\n",
      " [0 0 0 0 0 1 0 0 1 0]\n",
      " [0 0 0 0 0 0 0 0 1 0]\n",
      " [0 0 0 0 0 0 1 0 0 0]\n",
      " [0 0 0 0 0 0 0 0 0 0]]\n",
      "[[0 0 0 0 0 0 0 0 0 0]\n",
      " [0 0 0 0 0 0 1 1 1 0]\n",
      " [0 0 0 0 0 1 0 0 0 0]\n",
      " [0 0 0 0 0 0 0 0 0 0]\n",
      " [0 0 0 0 0 0 0 0 0 0]\n",
      " [0 0 0 0 0 0 1 0 0 0]\n",
      " [0 0 0 0 0 0 0 0 1 0]\n",
      " [0 0 0 0 0 0 0 1 0 0]\n",
      " [0 0 0 0 0 0 0 0 0 0]\n",
      " [0 0 0 0 0 0 0 0 0 0]]\n",
      "[[0 0 0 0 0 0 0 0 0 0]\n",
      " [0 0 0 0 0 0 1 1 0 0]\n",
      " [0 0 0 0 0 0 1 1 0 0]\n",
      " [0 0 0 0 0 0 0 0 0 0]\n",
      " [0 0 0 0 0 0 0 0 0 0]\n",
      " [0 0 0 0 0 0 0 0 0 0]\n",
      " [0 0 0 0 0 0 0 1 0 0]\n",
      " [0 0 0 0 0 0 0 0 0 0]\n",
      " [0 0 0 0 0 0 0 0 0 0]\n",
      " [0 0 0 0 0 0 0 0 0 0]]\n",
      "[[0 0 0 0 0 0 0 0 0 0]\n",
      " [0 0 0 0 0 0 1 1 0 0]\n",
      " [0 0 0 0 0 0 1 1 0 0]\n",
      " [0 0 0 0 0 0 0 0 0 0]\n",
      " [0 0 0 0 0 0 0 0 0 0]\n",
      " [0 0 0 0 0 0 0 0 0 0]\n",
      " [0 0 0 0 0 0 0 0 0 0]\n",
      " [0 0 0 0 0 0 0 0 0 0]\n",
      " [0 0 0 0 0 0 0 0 0 0]\n",
      " [0 0 0 0 0 0 0 0 0 0]]\n",
      "[[0 0 0 0 0 0 0 0 0 0]\n",
      " [0 0 0 0 0 0 1 1 0 0]\n",
      " [0 0 0 0 0 0 1 1 0 0]\n",
      " [0 0 0 0 0 0 0 0 0 0]\n",
      " [0 0 0 0 0 0 0 0 0 0]\n",
      " [0 0 0 0 0 0 0 0 0 0]\n",
      " [0 0 0 0 0 0 0 0 0 0]\n",
      " [0 0 0 0 0 0 0 0 0 0]\n",
      " [0 0 0 0 0 0 0 0 0 0]\n",
      " [0 0 0 0 0 0 0 0 0 0]]\n",
      "[[0 0 0 0 0 0 0 0 0 0]\n",
      " [0 0 0 0 0 0 1 1 0 0]\n",
      " [0 0 0 0 0 0 1 1 0 0]\n",
      " [0 0 0 0 0 0 0 0 0 0]\n",
      " [0 0 0 0 0 0 0 0 0 0]\n",
      " [0 0 0 0 0 0 0 0 0 0]\n",
      " [0 0 0 0 0 0 0 0 0 0]\n",
      " [0 0 0 0 0 0 0 0 0 0]\n",
      " [0 0 0 0 0 0 0 0 0 0]\n",
      " [0 0 0 0 0 0 0 0 0 0]]\n",
      "[[0 0 0 0 0 0 0 0 0 0]\n",
      " [0 0 0 0 0 0 1 1 0 0]\n",
      " [0 0 0 0 0 0 1 1 0 0]\n",
      " [0 0 0 0 0 0 0 0 0 0]\n",
      " [0 0 0 0 0 0 0 0 0 0]\n",
      " [0 0 0 0 0 0 0 0 0 0]\n",
      " [0 0 0 0 0 0 0 0 0 0]\n",
      " [0 0 0 0 0 0 0 0 0 0]\n",
      " [0 0 0 0 0 0 0 0 0 0]\n",
      " [0 0 0 0 0 0 0 0 0 0]]\n",
      "[[0 0 0 0 0 0 0 0 0 0]\n",
      " [0 0 0 0 0 0 1 1 0 0]\n",
      " [0 0 0 0 0 0 1 1 0 0]\n",
      " [0 0 0 0 0 0 0 0 0 0]\n",
      " [0 0 0 0 0 0 0 0 0 0]\n",
      " [0 0 0 0 0 0 0 0 0 0]\n",
      " [0 0 0 0 0 0 0 0 0 0]\n",
      " [0 0 0 0 0 0 0 0 0 0]\n",
      " [0 0 0 0 0 0 0 0 0 0]\n",
      " [0 0 0 0 0 0 0 0 0 0]]\n",
      "[[0 0 0 0 0 0 0 0 0 0]\n",
      " [0 0 0 0 0 0 1 1 0 0]\n",
      " [0 0 0 0 0 0 1 1 0 0]\n",
      " [0 0 0 0 0 0 0 0 0 0]\n",
      " [0 0 0 0 0 0 0 0 0 0]\n",
      " [0 0 0 0 0 0 0 0 0 0]\n",
      " [0 0 0 0 0 0 0 0 0 0]\n",
      " [0 0 0 0 0 0 0 0 0 0]\n",
      " [0 0 0 0 0 0 0 0 0 0]\n",
      " [0 0 0 0 0 0 0 0 0 0]]\n",
      "[[0 0 0 0 0 0 0 0 0 0]\n",
      " [0 0 0 0 0 0 1 1 0 0]\n",
      " [0 0 0 0 0 0 1 1 0 0]\n",
      " [0 0 0 0 0 0 0 0 0 0]\n",
      " [0 0 0 0 0 0 0 0 0 0]\n",
      " [0 0 0 0 0 0 0 0 0 0]\n",
      " [0 0 0 0 0 0 0 0 0 0]\n",
      " [0 0 0 0 0 0 0 0 0 0]\n",
      " [0 0 0 0 0 0 0 0 0 0]\n",
      " [0 0 0 0 0 0 0 0 0 0]]\n",
      "[[0 0 0 0 0 0 0 0 0 0]\n",
      " [0 0 0 0 0 0 1 1 0 0]\n",
      " [0 0 0 0 0 0 1 1 0 0]\n",
      " [0 0 0 0 0 0 0 0 0 0]\n",
      " [0 0 0 0 0 0 0 0 0 0]\n",
      " [0 0 0 0 0 0 0 0 0 0]\n",
      " [0 0 0 0 0 0 0 0 0 0]\n",
      " [0 0 0 0 0 0 0 0 0 0]\n",
      " [0 0 0 0 0 0 0 0 0 0]\n",
      " [0 0 0 0 0 0 0 0 0 0]]\n",
      "[[0 0 0 0 0 0 0 0 0 0]\n",
      " [0 0 0 0 0 0 1 1 0 0]\n",
      " [0 0 0 0 0 0 1 1 0 0]\n",
      " [0 0 0 0 0 0 0 0 0 0]\n",
      " [0 0 0 0 0 0 0 0 0 0]\n",
      " [0 0 0 0 0 0 0 0 0 0]\n",
      " [0 0 0 0 0 0 0 0 0 0]\n",
      " [0 0 0 0 0 0 0 0 0 0]\n",
      " [0 0 0 0 0 0 0 0 0 0]\n",
      " [0 0 0 0 0 0 0 0 0 0]]\n",
      "[[0 0 0 0 0 0 0 0 0 0]\n",
      " [0 0 0 0 0 0 1 1 0 0]\n",
      " [0 0 0 0 0 0 1 1 0 0]\n",
      " [0 0 0 0 0 0 0 0 0 0]\n",
      " [0 0 0 0 0 0 0 0 0 0]\n",
      " [0 0 0 0 0 0 0 0 0 0]\n",
      " [0 0 0 0 0 0 0 0 0 0]\n",
      " [0 0 0 0 0 0 0 0 0 0]\n",
      " [0 0 0 0 0 0 0 0 0 0]\n",
      " [0 0 0 0 0 0 0 0 0 0]]\n",
      "[[0 0 0 0 0 0 0 0 0 0]\n",
      " [0 0 0 0 0 0 1 1 0 0]\n",
      " [0 0 0 0 0 0 1 1 0 0]\n",
      " [0 0 0 0 0 0 0 0 0 0]\n",
      " [0 0 0 0 0 0 0 0 0 0]\n",
      " [0 0 0 0 0 0 0 0 0 0]\n",
      " [0 0 0 0 0 0 0 0 0 0]\n",
      " [0 0 0 0 0 0 0 0 0 0]\n",
      " [0 0 0 0 0 0 0 0 0 0]\n",
      " [0 0 0 0 0 0 0 0 0 0]]\n",
      "[[0 0 0 0 0 0 0 0 0 0]\n",
      " [0 0 0 0 0 0 1 1 0 0]\n",
      " [0 0 0 0 0 0 1 1 0 0]\n",
      " [0 0 0 0 0 0 0 0 0 0]\n",
      " [0 0 0 0 0 0 0 0 0 0]\n",
      " [0 0 0 0 0 0 0 0 0 0]\n",
      " [0 0 0 0 0 0 0 0 0 0]\n",
      " [0 0 0 0 0 0 0 0 0 0]\n",
      " [0 0 0 0 0 0 0 0 0 0]\n",
      " [0 0 0 0 0 0 0 0 0 0]]\n",
      "[[0 0 0 0 0 0 0 0 0 0]\n",
      " [0 0 0 0 0 0 1 1 0 0]\n",
      " [0 0 0 0 0 0 1 1 0 0]\n",
      " [0 0 0 0 0 0 0 0 0 0]\n",
      " [0 0 0 0 0 0 0 0 0 0]\n",
      " [0 0 0 0 0 0 0 0 0 0]\n",
      " [0 0 0 0 0 0 0 0 0 0]\n",
      " [0 0 0 0 0 0 0 0 0 0]\n",
      " [0 0 0 0 0 0 0 0 0 0]\n",
      " [0 0 0 0 0 0 0 0 0 0]]\n",
      "[[0 0 0 0 0 0 0 0 0 0]\n",
      " [0 0 0 0 0 0 1 1 0 0]\n",
      " [0 0 0 0 0 0 1 1 0 0]\n",
      " [0 0 0 0 0 0 0 0 0 0]\n",
      " [0 0 0 0 0 0 0 0 0 0]\n",
      " [0 0 0 0 0 0 0 0 0 0]\n",
      " [0 0 0 0 0 0 0 0 0 0]\n",
      " [0 0 0 0 0 0 0 0 0 0]\n",
      " [0 0 0 0 0 0 0 0 0 0]\n",
      " [0 0 0 0 0 0 0 0 0 0]]\n",
      "[[0 0 0 0 0 0 0 0 0 0]\n",
      " [0 0 0 0 0 0 1 1 0 0]\n",
      " [0 0 0 0 0 0 1 1 0 0]\n",
      " [0 0 0 0 0 0 0 0 0 0]\n",
      " [0 0 0 0 0 0 0 0 0 0]\n",
      " [0 0 0 0 0 0 0 0 0 0]\n",
      " [0 0 0 0 0 0 0 0 0 0]\n",
      " [0 0 0 0 0 0 0 0 0 0]\n",
      " [0 0 0 0 0 0 0 0 0 0]\n",
      " [0 0 0 0 0 0 0 0 0 0]]\n",
      "[[0 0 0 0 0 0 0 0 0 0]\n",
      " [0 0 0 0 0 0 1 1 0 0]\n",
      " [0 0 0 0 0 0 1 1 0 0]\n",
      " [0 0 0 0 0 0 0 0 0 0]\n",
      " [0 0 0 0 0 0 0 0 0 0]\n",
      " [0 0 0 0 0 0 0 0 0 0]\n",
      " [0 0 0 0 0 0 0 0 0 0]\n",
      " [0 0 0 0 0 0 0 0 0 0]\n",
      " [0 0 0 0 0 0 0 0 0 0]\n",
      " [0 0 0 0 0 0 0 0 0 0]]\n",
      "[[0 0 0 0 0 0 0 0 0 0]\n",
      " [0 0 0 0 0 0 1 1 0 0]\n",
      " [0 0 0 0 0 0 1 1 0 0]\n",
      " [0 0 0 0 0 0 0 0 0 0]\n",
      " [0 0 0 0 0 0 0 0 0 0]\n",
      " [0 0 0 0 0 0 0 0 0 0]\n",
      " [0 0 0 0 0 0 0 0 0 0]\n",
      " [0 0 0 0 0 0 0 0 0 0]\n",
      " [0 0 0 0 0 0 0 0 0 0]\n",
      " [0 0 0 0 0 0 0 0 0 0]]\n",
      "[[0 0 0 0 0 0 0 0 0 0]\n",
      " [0 0 0 0 0 0 1 1 0 0]\n",
      " [0 0 0 0 0 0 1 1 0 0]\n",
      " [0 0 0 0 0 0 0 0 0 0]\n",
      " [0 0 0 0 0 0 0 0 0 0]\n",
      " [0 0 0 0 0 0 0 0 0 0]\n",
      " [0 0 0 0 0 0 0 0 0 0]\n",
      " [0 0 0 0 0 0 0 0 0 0]\n",
      " [0 0 0 0 0 0 0 0 0 0]\n",
      " [0 0 0 0 0 0 0 0 0 0]]\n",
      "[[0 0 0 0 0 0 0 0 0 0]\n",
      " [0 0 0 0 0 0 1 1 0 0]\n",
      " [0 0 0 0 0 0 1 1 0 0]\n",
      " [0 0 0 0 0 0 0 0 0 0]\n",
      " [0 0 0 0 0 0 0 0 0 0]\n",
      " [0 0 0 0 0 0 0 0 0 0]\n",
      " [0 0 0 0 0 0 0 0 0 0]\n",
      " [0 0 0 0 0 0 0 0 0 0]\n",
      " [0 0 0 0 0 0 0 0 0 0]\n",
      " [0 0 0 0 0 0 0 0 0 0]]\n",
      "[[0 0 0 0 0 0 0 0 0 0]\n",
      " [0 0 0 0 0 0 1 1 0 0]\n",
      " [0 0 0 0 0 0 1 1 0 0]\n",
      " [0 0 0 0 0 0 0 0 0 0]\n",
      " [0 0 0 0 0 0 0 0 0 0]\n",
      " [0 0 0 0 0 0 0 0 0 0]\n",
      " [0 0 0 0 0 0 0 0 0 0]\n",
      " [0 0 0 0 0 0 0 0 0 0]\n",
      " [0 0 0 0 0 0 0 0 0 0]\n",
      " [0 0 0 0 0 0 0 0 0 0]]\n",
      "[[0 0 0 0 0 0 0 0 0 0]\n",
      " [0 0 0 0 0 0 1 1 0 0]\n",
      " [0 0 0 0 0 0 1 1 0 0]\n",
      " [0 0 0 0 0 0 0 0 0 0]\n",
      " [0 0 0 0 0 0 0 0 0 0]\n",
      " [0 0 0 0 0 0 0 0 0 0]\n",
      " [0 0 0 0 0 0 0 0 0 0]\n",
      " [0 0 0 0 0 0 0 0 0 0]\n",
      " [0 0 0 0 0 0 0 0 0 0]\n",
      " [0 0 0 0 0 0 0 0 0 0]]\n",
      "[[0 0 0 0 0 0 0 0 0 0]\n",
      " [0 0 0 0 0 0 1 1 0 0]\n",
      " [0 0 0 0 0 0 1 1 0 0]\n",
      " [0 0 0 0 0 0 0 0 0 0]\n",
      " [0 0 0 0 0 0 0 0 0 0]\n",
      " [0 0 0 0 0 0 0 0 0 0]\n",
      " [0 0 0 0 0 0 0 0 0 0]\n",
      " [0 0 0 0 0 0 0 0 0 0]\n",
      " [0 0 0 0 0 0 0 0 0 0]\n",
      " [0 0 0 0 0 0 0 0 0 0]]\n",
      "[[0 0 0 0 0 0 0 0 0 0]\n",
      " [0 0 0 0 0 0 1 1 0 0]\n",
      " [0 0 0 0 0 0 1 1 0 0]\n",
      " [0 0 0 0 0 0 0 0 0 0]\n",
      " [0 0 0 0 0 0 0 0 0 0]\n",
      " [0 0 0 0 0 0 0 0 0 0]\n",
      " [0 0 0 0 0 0 0 0 0 0]\n",
      " [0 0 0 0 0 0 0 0 0 0]\n",
      " [0 0 0 0 0 0 0 0 0 0]\n",
      " [0 0 0 0 0 0 0 0 0 0]]\n",
      "[[0 0 0 0 0 0 0 0 0 0]\n",
      " [0 0 0 0 0 0 1 1 0 0]\n",
      " [0 0 0 0 0 0 1 1 0 0]\n",
      " [0 0 0 0 0 0 0 0 0 0]\n",
      " [0 0 0 0 0 0 0 0 0 0]\n",
      " [0 0 0 0 0 0 0 0 0 0]\n",
      " [0 0 0 0 0 0 0 0 0 0]\n",
      " [0 0 0 0 0 0 0 0 0 0]\n",
      " [0 0 0 0 0 0 0 0 0 0]\n",
      " [0 0 0 0 0 0 0 0 0 0]]\n",
      "[[0 0 0 0 0 0 0 0 0 0]\n",
      " [0 0 0 0 0 0 1 1 0 0]\n",
      " [0 0 0 0 0 0 1 1 0 0]\n",
      " [0 0 0 0 0 0 0 0 0 0]\n",
      " [0 0 0 0 0 0 0 0 0 0]\n",
      " [0 0 0 0 0 0 0 0 0 0]\n",
      " [0 0 0 0 0 0 0 0 0 0]\n",
      " [0 0 0 0 0 0 0 0 0 0]\n",
      " [0 0 0 0 0 0 0 0 0 0]\n",
      " [0 0 0 0 0 0 0 0 0 0]]\n",
      "[[0 0 0 0 0 0 0 0 0 0]\n",
      " [0 0 0 0 0 0 1 1 0 0]\n",
      " [0 0 0 0 0 0 1 1 0 0]\n",
      " [0 0 0 0 0 0 0 0 0 0]\n",
      " [0 0 0 0 0 0 0 0 0 0]\n",
      " [0 0 0 0 0 0 0 0 0 0]\n",
      " [0 0 0 0 0 0 0 0 0 0]\n",
      " [0 0 0 0 0 0 0 0 0 0]\n",
      " [0 0 0 0 0 0 0 0 0 0]\n",
      " [0 0 0 0 0 0 0 0 0 0]]\n",
      "[[0 0 0 0 0 0 0 0 0 0]\n",
      " [0 0 0 0 0 0 1 1 0 0]\n",
      " [0 0 0 0 0 0 1 1 0 0]\n",
      " [0 0 0 0 0 0 0 0 0 0]\n",
      " [0 0 0 0 0 0 0 0 0 0]\n",
      " [0 0 0 0 0 0 0 0 0 0]\n",
      " [0 0 0 0 0 0 0 0 0 0]\n",
      " [0 0 0 0 0 0 0 0 0 0]\n",
      " [0 0 0 0 0 0 0 0 0 0]\n",
      " [0 0 0 0 0 0 0 0 0 0]]\n",
      "[[0 0 0 0 0 0 0 0 0 0]\n",
      " [0 0 0 0 0 0 1 1 0 0]\n",
      " [0 0 0 0 0 0 1 1 0 0]\n",
      " [0 0 0 0 0 0 0 0 0 0]\n",
      " [0 0 0 0 0 0 0 0 0 0]\n",
      " [0 0 0 0 0 0 0 0 0 0]\n",
      " [0 0 0 0 0 0 0 0 0 0]\n",
      " [0 0 0 0 0 0 0 0 0 0]\n",
      " [0 0 0 0 0 0 0 0 0 0]\n",
      " [0 0 0 0 0 0 0 0 0 0]]\n",
      "[[0 0 0 0 0 0 0 0 0 0]\n",
      " [0 0 0 0 0 0 1 1 0 0]\n",
      " [0 0 0 0 0 0 1 1 0 0]\n",
      " [0 0 0 0 0 0 0 0 0 0]\n",
      " [0 0 0 0 0 0 0 0 0 0]\n",
      " [0 0 0 0 0 0 0 0 0 0]\n",
      " [0 0 0 0 0 0 0 0 0 0]\n",
      " [0 0 0 0 0 0 0 0 0 0]\n",
      " [0 0 0 0 0 0 0 0 0 0]\n",
      " [0 0 0 0 0 0 0 0 0 0]]\n",
      "[[0 0 0 0 0 0 0 0 0 0]\n",
      " [0 0 0 0 0 0 1 1 0 0]\n",
      " [0 0 0 0 0 0 1 1 0 0]\n",
      " [0 0 0 0 0 0 0 0 0 0]\n",
      " [0 0 0 0 0 0 0 0 0 0]\n",
      " [0 0 0 0 0 0 0 0 0 0]\n",
      " [0 0 0 0 0 0 0 0 0 0]\n",
      " [0 0 0 0 0 0 0 0 0 0]\n",
      " [0 0 0 0 0 0 0 0 0 0]\n",
      " [0 0 0 0 0 0 0 0 0 0]]\n",
      "[[0 0 0 0 0 0 0 0 0 0]\n",
      " [0 0 0 0 0 0 1 1 0 0]\n",
      " [0 0 0 0 0 0 1 1 0 0]\n",
      " [0 0 0 0 0 0 0 0 0 0]\n",
      " [0 0 0 0 0 0 0 0 0 0]\n",
      " [0 0 0 0 0 0 0 0 0 0]\n",
      " [0 0 0 0 0 0 0 0 0 0]\n",
      " [0 0 0 0 0 0 0 0 0 0]\n",
      " [0 0 0 0 0 0 0 0 0 0]\n",
      " [0 0 0 0 0 0 0 0 0 0]]\n",
      "[[0 0 0 0 0 0 0 0 0 0]\n",
      " [0 0 0 0 0 0 1 1 0 0]\n",
      " [0 0 0 0 0 0 1 1 0 0]\n",
      " [0 0 0 0 0 0 0 0 0 0]\n",
      " [0 0 0 0 0 0 0 0 0 0]\n",
      " [0 0 0 0 0 0 0 0 0 0]\n",
      " [0 0 0 0 0 0 0 0 0 0]\n",
      " [0 0 0 0 0 0 0 0 0 0]\n",
      " [0 0 0 0 0 0 0 0 0 0]\n",
      " [0 0 0 0 0 0 0 0 0 0]]\n",
      "[[0 0 0 0 0 0 0 0 0 0]\n",
      " [0 0 0 0 0 0 1 1 0 0]\n",
      " [0 0 0 0 0 0 1 1 0 0]\n",
      " [0 0 0 0 0 0 0 0 0 0]\n",
      " [0 0 0 0 0 0 0 0 0 0]\n",
      " [0 0 0 0 0 0 0 0 0 0]\n",
      " [0 0 0 0 0 0 0 0 0 0]\n",
      " [0 0 0 0 0 0 0 0 0 0]\n",
      " [0 0 0 0 0 0 0 0 0 0]\n",
      " [0 0 0 0 0 0 0 0 0 0]]\n",
      "[[0 0 0 0 0 0 0 0 0 0]\n",
      " [0 0 0 0 0 0 1 1 0 0]\n",
      " [0 0 0 0 0 0 1 1 0 0]\n",
      " [0 0 0 0 0 0 0 0 0 0]\n",
      " [0 0 0 0 0 0 0 0 0 0]\n",
      " [0 0 0 0 0 0 0 0 0 0]\n",
      " [0 0 0 0 0 0 0 0 0 0]\n",
      " [0 0 0 0 0 0 0 0 0 0]\n",
      " [0 0 0 0 0 0 0 0 0 0]\n",
      " [0 0 0 0 0 0 0 0 0 0]]\n",
      "[[0 0 0 0 0 0 0 0 0 0]\n",
      " [0 0 0 0 0 0 1 1 0 0]\n",
      " [0 0 0 0 0 0 1 1 0 0]\n",
      " [0 0 0 0 0 0 0 0 0 0]\n",
      " [0 0 0 0 0 0 0 0 0 0]\n",
      " [0 0 0 0 0 0 0 0 0 0]\n",
      " [0 0 0 0 0 0 0 0 0 0]\n",
      " [0 0 0 0 0 0 0 0 0 0]\n",
      " [0 0 0 0 0 0 0 0 0 0]\n",
      " [0 0 0 0 0 0 0 0 0 0]]\n",
      "[[0 0 0 0 0 0 0 0 0 0]\n",
      " [0 0 0 0 0 0 1 1 0 0]\n",
      " [0 0 0 0 0 0 1 1 0 0]\n",
      " [0 0 0 0 0 0 0 0 0 0]\n",
      " [0 0 0 0 0 0 0 0 0 0]\n",
      " [0 0 0 0 0 0 0 0 0 0]\n",
      " [0 0 0 0 0 0 0 0 0 0]\n",
      " [0 0 0 0 0 0 0 0 0 0]\n",
      " [0 0 0 0 0 0 0 0 0 0]\n",
      " [0 0 0 0 0 0 0 0 0 0]]\n",
      "[[0 0 0 0 0 0 0 0 0 0]\n",
      " [0 0 0 0 0 0 1 1 0 0]\n",
      " [0 0 0 0 0 0 1 1 0 0]\n",
      " [0 0 0 0 0 0 0 0 0 0]\n",
      " [0 0 0 0 0 0 0 0 0 0]\n",
      " [0 0 0 0 0 0 0 0 0 0]\n",
      " [0 0 0 0 0 0 0 0 0 0]\n",
      " [0 0 0 0 0 0 0 0 0 0]\n",
      " [0 0 0 0 0 0 0 0 0 0]\n",
      " [0 0 0 0 0 0 0 0 0 0]]\n",
      "[[0 0 0 0 0 0 0 0 0 0]\n",
      " [0 0 0 0 0 0 1 1 0 0]\n",
      " [0 0 0 0 0 0 1 1 0 0]\n",
      " [0 0 0 0 0 0 0 0 0 0]\n",
      " [0 0 0 0 0 0 0 0 0 0]\n",
      " [0 0 0 0 0 0 0 0 0 0]\n",
      " [0 0 0 0 0 0 0 0 0 0]\n",
      " [0 0 0 0 0 0 0 0 0 0]\n",
      " [0 0 0 0 0 0 0 0 0 0]\n",
      " [0 0 0 0 0 0 0 0 0 0]]\n",
      "[[0 0 0 0 0 0 0 0 0 0]\n",
      " [0 0 0 0 0 0 1 1 0 0]\n",
      " [0 0 0 0 0 0 1 1 0 0]\n",
      " [0 0 0 0 0 0 0 0 0 0]\n",
      " [0 0 0 0 0 0 0 0 0 0]\n",
      " [0 0 0 0 0 0 0 0 0 0]\n",
      " [0 0 0 0 0 0 0 0 0 0]\n",
      " [0 0 0 0 0 0 0 0 0 0]\n",
      " [0 0 0 0 0 0 0 0 0 0]\n",
      " [0 0 0 0 0 0 0 0 0 0]]\n",
      "[[0 0 0 0 0 0 0 0 0 0]\n",
      " [0 0 0 0 0 0 1 1 0 0]\n",
      " [0 0 0 0 0 0 1 1 0 0]\n",
      " [0 0 0 0 0 0 0 0 0 0]\n",
      " [0 0 0 0 0 0 0 0 0 0]\n",
      " [0 0 0 0 0 0 0 0 0 0]\n",
      " [0 0 0 0 0 0 0 0 0 0]\n",
      " [0 0 0 0 0 0 0 0 0 0]\n",
      " [0 0 0 0 0 0 0 0 0 0]\n",
      " [0 0 0 0 0 0 0 0 0 0]]\n",
      "[[0 0 0 0 0 0 0 0 0 0]\n",
      " [0 0 0 0 0 0 1 1 0 0]\n",
      " [0 0 0 0 0 0 1 1 0 0]\n",
      " [0 0 0 0 0 0 0 0 0 0]\n",
      " [0 0 0 0 0 0 0 0 0 0]\n",
      " [0 0 0 0 0 0 0 0 0 0]\n",
      " [0 0 0 0 0 0 0 0 0 0]\n",
      " [0 0 0 0 0 0 0 0 0 0]\n",
      " [0 0 0 0 0 0 0 0 0 0]\n",
      " [0 0 0 0 0 0 0 0 0 0]]\n",
      "[[0 0 0 0 0 0 0 0 0 0]\n",
      " [0 0 0 0 0 0 1 1 0 0]\n",
      " [0 0 0 0 0 0 1 1 0 0]\n",
      " [0 0 0 0 0 0 0 0 0 0]\n",
      " [0 0 0 0 0 0 0 0 0 0]\n",
      " [0 0 0 0 0 0 0 0 0 0]\n",
      " [0 0 0 0 0 0 0 0 0 0]\n",
      " [0 0 0 0 0 0 0 0 0 0]\n",
      " [0 0 0 0 0 0 0 0 0 0]\n",
      " [0 0 0 0 0 0 0 0 0 0]]\n",
      "[[0 0 0 0 0 0 0 0 0 0]\n",
      " [0 0 0 0 0 0 1 1 0 0]\n",
      " [0 0 0 0 0 0 1 1 0 0]\n",
      " [0 0 0 0 0 0 0 0 0 0]\n",
      " [0 0 0 0 0 0 0 0 0 0]\n",
      " [0 0 0 0 0 0 0 0 0 0]\n",
      " [0 0 0 0 0 0 0 0 0 0]\n",
      " [0 0 0 0 0 0 0 0 0 0]\n",
      " [0 0 0 0 0 0 0 0 0 0]\n",
      " [0 0 0 0 0 0 0 0 0 0]]\n",
      "[[0 0 0 0 0 0 0 0 0 0]\n",
      " [0 0 0 0 0 0 1 1 0 0]\n",
      " [0 0 0 0 0 0 1 1 0 0]\n",
      " [0 0 0 0 0 0 0 0 0 0]\n",
      " [0 0 0 0 0 0 0 0 0 0]\n",
      " [0 0 0 0 0 0 0 0 0 0]\n",
      " [0 0 0 0 0 0 0 0 0 0]\n",
      " [0 0 0 0 0 0 0 0 0 0]\n",
      " [0 0 0 0 0 0 0 0 0 0]\n",
      " [0 0 0 0 0 0 0 0 0 0]]\n",
      "[[0 0 0 0 0 0 0 0 0 0]\n",
      " [0 0 0 0 0 0 1 1 0 0]\n",
      " [0 0 0 0 0 0 1 1 0 0]\n",
      " [0 0 0 0 0 0 0 0 0 0]\n",
      " [0 0 0 0 0 0 0 0 0 0]\n",
      " [0 0 0 0 0 0 0 0 0 0]\n",
      " [0 0 0 0 0 0 0 0 0 0]\n",
      " [0 0 0 0 0 0 0 0 0 0]\n",
      " [0 0 0 0 0 0 0 0 0 0]\n",
      " [0 0 0 0 0 0 0 0 0 0]]\n",
      "[[0 0 0 0 0 0 0 0 0 0]\n",
      " [0 0 0 0 0 0 1 1 0 0]\n",
      " [0 0 0 0 0 0 1 1 0 0]\n",
      " [0 0 0 0 0 0 0 0 0 0]\n",
      " [0 0 0 0 0 0 0 0 0 0]\n",
      " [0 0 0 0 0 0 0 0 0 0]\n",
      " [0 0 0 0 0 0 0 0 0 0]\n",
      " [0 0 0 0 0 0 0 0 0 0]\n",
      " [0 0 0 0 0 0 0 0 0 0]\n",
      " [0 0 0 0 0 0 0 0 0 0]]\n",
      "[[0 0 0 0 0 0 0 0 0 0]\n",
      " [0 0 0 0 0 0 1 1 0 0]\n",
      " [0 0 0 0 0 0 1 1 0 0]\n",
      " [0 0 0 0 0 0 0 0 0 0]\n",
      " [0 0 0 0 0 0 0 0 0 0]\n",
      " [0 0 0 0 0 0 0 0 0 0]\n",
      " [0 0 0 0 0 0 0 0 0 0]\n",
      " [0 0 0 0 0 0 0 0 0 0]\n",
      " [0 0 0 0 0 0 0 0 0 0]\n",
      " [0 0 0 0 0 0 0 0 0 0]]\n",
      "[[0 0 0 0 0 0 0 0 0 0]\n",
      " [0 0 0 0 0 0 1 1 0 0]\n",
      " [0 0 0 0 0 0 1 1 0 0]\n",
      " [0 0 0 0 0 0 0 0 0 0]\n",
      " [0 0 0 0 0 0 0 0 0 0]\n",
      " [0 0 0 0 0 0 0 0 0 0]\n",
      " [0 0 0 0 0 0 0 0 0 0]\n",
      " [0 0 0 0 0 0 0 0 0 0]\n",
      " [0 0 0 0 0 0 0 0 0 0]\n",
      " [0 0 0 0 0 0 0 0 0 0]]\n",
      "[[0 0 0 0 0 0 0 0 0 0]\n",
      " [0 0 0 0 0 0 1 1 0 0]\n",
      " [0 0 0 0 0 0 1 1 0 0]\n",
      " [0 0 0 0 0 0 0 0 0 0]\n",
      " [0 0 0 0 0 0 0 0 0 0]\n",
      " [0 0 0 0 0 0 0 0 0 0]\n",
      " [0 0 0 0 0 0 0 0 0 0]\n",
      " [0 0 0 0 0 0 0 0 0 0]\n",
      " [0 0 0 0 0 0 0 0 0 0]\n",
      " [0 0 0 0 0 0 0 0 0 0]]\n",
      "[[0 0 0 0 0 0 0 0 0 0]\n",
      " [0 0 0 0 0 0 1 1 0 0]\n",
      " [0 0 0 0 0 0 1 1 0 0]\n",
      " [0 0 0 0 0 0 0 0 0 0]\n",
      " [0 0 0 0 0 0 0 0 0 0]\n",
      " [0 0 0 0 0 0 0 0 0 0]\n",
      " [0 0 0 0 0 0 0 0 0 0]\n",
      " [0 0 0 0 0 0 0 0 0 0]\n",
      " [0 0 0 0 0 0 0 0 0 0]\n",
      " [0 0 0 0 0 0 0 0 0 0]]\n",
      "[[0 0 0 0 0 0 0 0 0 0]\n",
      " [0 0 0 0 0 0 1 1 0 0]\n",
      " [0 0 0 0 0 0 1 1 0 0]\n",
      " [0 0 0 0 0 0 0 0 0 0]\n",
      " [0 0 0 0 0 0 0 0 0 0]\n",
      " [0 0 0 0 0 0 0 0 0 0]\n",
      " [0 0 0 0 0 0 0 0 0 0]\n",
      " [0 0 0 0 0 0 0 0 0 0]\n",
      " [0 0 0 0 0 0 0 0 0 0]\n",
      " [0 0 0 0 0 0 0 0 0 0]]\n",
      "[[0 0 0 0 0 0 0 0 0 0]\n",
      " [0 0 0 0 0 0 1 1 0 0]\n",
      " [0 0 0 0 0 0 1 1 0 0]\n",
      " [0 0 0 0 0 0 0 0 0 0]\n",
      " [0 0 0 0 0 0 0 0 0 0]\n",
      " [0 0 0 0 0 0 0 0 0 0]\n",
      " [0 0 0 0 0 0 0 0 0 0]\n",
      " [0 0 0 0 0 0 0 0 0 0]\n",
      " [0 0 0 0 0 0 0 0 0 0]\n",
      " [0 0 0 0 0 0 0 0 0 0]]\n",
      "[[0 0 0 0 0 0 0 0 0 0]\n",
      " [0 0 0 0 0 0 1 1 0 0]\n",
      " [0 0 0 0 0 0 1 1 0 0]\n",
      " [0 0 0 0 0 0 0 0 0 0]\n",
      " [0 0 0 0 0 0 0 0 0 0]\n",
      " [0 0 0 0 0 0 0 0 0 0]\n",
      " [0 0 0 0 0 0 0 0 0 0]\n",
      " [0 0 0 0 0 0 0 0 0 0]\n",
      " [0 0 0 0 0 0 0 0 0 0]\n",
      " [0 0 0 0 0 0 0 0 0 0]]\n",
      "[[0 0 0 0 0 0 0 0 0 0]\n",
      " [0 0 0 0 0 0 1 1 0 0]\n",
      " [0 0 0 0 0 0 1 1 0 0]\n",
      " [0 0 0 0 0 0 0 0 0 0]\n",
      " [0 0 0 0 0 0 0 0 0 0]\n",
      " [0 0 0 0 0 0 0 0 0 0]\n",
      " [0 0 0 0 0 0 0 0 0 0]\n",
      " [0 0 0 0 0 0 0 0 0 0]\n",
      " [0 0 0 0 0 0 0 0 0 0]\n",
      " [0 0 0 0 0 0 0 0 0 0]]\n",
      "[[0 0 0 0 0 0 0 0 0 0]\n",
      " [0 0 0 0 0 0 1 1 0 0]\n",
      " [0 0 0 0 0 0 1 1 0 0]\n",
      " [0 0 0 0 0 0 0 0 0 0]\n",
      " [0 0 0 0 0 0 0 0 0 0]\n",
      " [0 0 0 0 0 0 0 0 0 0]\n",
      " [0 0 0 0 0 0 0 0 0 0]\n",
      " [0 0 0 0 0 0 0 0 0 0]\n",
      " [0 0 0 0 0 0 0 0 0 0]\n",
      " [0 0 0 0 0 0 0 0 0 0]]\n",
      "[[0 0 0 0 0 0 0 0 0 0]\n",
      " [0 0 0 0 0 0 1 1 0 0]\n",
      " [0 0 0 0 0 0 1 1 0 0]\n",
      " [0 0 0 0 0 0 0 0 0 0]\n",
      " [0 0 0 0 0 0 0 0 0 0]\n",
      " [0 0 0 0 0 0 0 0 0 0]\n",
      " [0 0 0 0 0 0 0 0 0 0]\n",
      " [0 0 0 0 0 0 0 0 0 0]\n",
      " [0 0 0 0 0 0 0 0 0 0]\n",
      " [0 0 0 0 0 0 0 0 0 0]]\n",
      "[[0 0 0 0 0 0 0 0 0 0]\n",
      " [0 0 0 0 0 0 1 1 0 0]\n",
      " [0 0 0 0 0 0 1 1 0 0]\n",
      " [0 0 0 0 0 0 0 0 0 0]\n",
      " [0 0 0 0 0 0 0 0 0 0]\n",
      " [0 0 0 0 0 0 0 0 0 0]\n",
      " [0 0 0 0 0 0 0 0 0 0]\n",
      " [0 0 0 0 0 0 0 0 0 0]\n",
      " [0 0 0 0 0 0 0 0 0 0]\n",
      " [0 0 0 0 0 0 0 0 0 0]]\n",
      "[[0 0 0 0 0 0 0 0 0 0]\n",
      " [0 0 0 0 0 0 1 1 0 0]\n",
      " [0 0 0 0 0 0 1 1 0 0]\n",
      " [0 0 0 0 0 0 0 0 0 0]\n",
      " [0 0 0 0 0 0 0 0 0 0]\n",
      " [0 0 0 0 0 0 0 0 0 0]\n",
      " [0 0 0 0 0 0 0 0 0 0]\n",
      " [0 0 0 0 0 0 0 0 0 0]\n",
      " [0 0 0 0 0 0 0 0 0 0]\n",
      " [0 0 0 0 0 0 0 0 0 0]]\n",
      "[[0 0 0 0 0 0 0 0 0 0]\n",
      " [0 0 0 0 0 0 1 1 0 0]\n",
      " [0 0 0 0 0 0 1 1 0 0]\n",
      " [0 0 0 0 0 0 0 0 0 0]\n",
      " [0 0 0 0 0 0 0 0 0 0]\n",
      " [0 0 0 0 0 0 0 0 0 0]\n",
      " [0 0 0 0 0 0 0 0 0 0]\n",
      " [0 0 0 0 0 0 0 0 0 0]\n",
      " [0 0 0 0 0 0 0 0 0 0]\n",
      " [0 0 0 0 0 0 0 0 0 0]]\n",
      "[[0 0 0 0 0 0 0 0 0 0]\n",
      " [0 0 0 0 0 0 1 1 0 0]\n",
      " [0 0 0 0 0 0 1 1 0 0]\n",
      " [0 0 0 0 0 0 0 0 0 0]\n",
      " [0 0 0 0 0 0 0 0 0 0]\n",
      " [0 0 0 0 0 0 0 0 0 0]\n",
      " [0 0 0 0 0 0 0 0 0 0]\n",
      " [0 0 0 0 0 0 0 0 0 0]\n",
      " [0 0 0 0 0 0 0 0 0 0]\n",
      " [0 0 0 0 0 0 0 0 0 0]]\n",
      "[[0 0 0 0 0 0 0 0 0 0]\n",
      " [0 0 0 0 0 0 1 1 0 0]\n",
      " [0 0 0 0 0 0 1 1 0 0]\n",
      " [0 0 0 0 0 0 0 0 0 0]\n",
      " [0 0 0 0 0 0 0 0 0 0]\n",
      " [0 0 0 0 0 0 0 0 0 0]\n",
      " [0 0 0 0 0 0 0 0 0 0]\n",
      " [0 0 0 0 0 0 0 0 0 0]\n",
      " [0 0 0 0 0 0 0 0 0 0]\n",
      " [0 0 0 0 0 0 0 0 0 0]]\n",
      "[[0 0 0 0 0 0 0 0 0 0]\n",
      " [0 0 0 0 0 0 1 1 0 0]\n",
      " [0 0 0 0 0 0 1 1 0 0]\n",
      " [0 0 0 0 0 0 0 0 0 0]\n",
      " [0 0 0 0 0 0 0 0 0 0]\n",
      " [0 0 0 0 0 0 0 0 0 0]\n",
      " [0 0 0 0 0 0 0 0 0 0]\n",
      " [0 0 0 0 0 0 0 0 0 0]\n",
      " [0 0 0 0 0 0 0 0 0 0]\n",
      " [0 0 0 0 0 0 0 0 0 0]]\n",
      "[[0 0 0 0 0 0 0 0 0 0]\n",
      " [0 0 0 0 0 0 1 1 0 0]\n",
      " [0 0 0 0 0 0 1 1 0 0]\n",
      " [0 0 0 0 0 0 0 0 0 0]\n",
      " [0 0 0 0 0 0 0 0 0 0]\n",
      " [0 0 0 0 0 0 0 0 0 0]\n",
      " [0 0 0 0 0 0 0 0 0 0]\n",
      " [0 0 0 0 0 0 0 0 0 0]\n",
      " [0 0 0 0 0 0 0 0 0 0]\n",
      " [0 0 0 0 0 0 0 0 0 0]]\n",
      "[[0 0 0 0 0 0 0 0 0 0]\n",
      " [0 0 0 0 0 0 1 1 0 0]\n",
      " [0 0 0 0 0 0 1 1 0 0]\n",
      " [0 0 0 0 0 0 0 0 0 0]\n",
      " [0 0 0 0 0 0 0 0 0 0]\n",
      " [0 0 0 0 0 0 0 0 0 0]\n",
      " [0 0 0 0 0 0 0 0 0 0]\n",
      " [0 0 0 0 0 0 0 0 0 0]\n",
      " [0 0 0 0 0 0 0 0 0 0]\n",
      " [0 0 0 0 0 0 0 0 0 0]]\n",
      "[[0 0 0 0 0 0 0 0 0 0]\n",
      " [0 0 0 0 0 0 1 1 0 0]\n",
      " [0 0 0 0 0 0 1 1 0 0]\n",
      " [0 0 0 0 0 0 0 0 0 0]\n",
      " [0 0 0 0 0 0 0 0 0 0]\n",
      " [0 0 0 0 0 0 0 0 0 0]\n",
      " [0 0 0 0 0 0 0 0 0 0]\n",
      " [0 0 0 0 0 0 0 0 0 0]\n",
      " [0 0 0 0 0 0 0 0 0 0]\n",
      " [0 0 0 0 0 0 0 0 0 0]]\n",
      "[[0 0 0 0 0 0 0 0 0 0]\n",
      " [0 0 0 0 0 0 1 1 0 0]\n",
      " [0 0 0 0 0 0 1 1 0 0]\n",
      " [0 0 0 0 0 0 0 0 0 0]\n",
      " [0 0 0 0 0 0 0 0 0 0]\n",
      " [0 0 0 0 0 0 0 0 0 0]\n",
      " [0 0 0 0 0 0 0 0 0 0]\n",
      " [0 0 0 0 0 0 0 0 0 0]\n",
      " [0 0 0 0 0 0 0 0 0 0]\n",
      " [0 0 0 0 0 0 0 0 0 0]]\n",
      "[[0 0 0 0 0 0 0 0 0 0]\n",
      " [0 0 0 0 0 0 1 1 0 0]\n",
      " [0 0 0 0 0 0 1 1 0 0]\n",
      " [0 0 0 0 0 0 0 0 0 0]\n",
      " [0 0 0 0 0 0 0 0 0 0]\n",
      " [0 0 0 0 0 0 0 0 0 0]\n",
      " [0 0 0 0 0 0 0 0 0 0]\n",
      " [0 0 0 0 0 0 0 0 0 0]\n",
      " [0 0 0 0 0 0 0 0 0 0]\n",
      " [0 0 0 0 0 0 0 0 0 0]]\n",
      "[[0 0 0 0 0 0 0 0 0 0]\n",
      " [0 0 0 0 0 0 1 1 0 0]\n",
      " [0 0 0 0 0 0 1 1 0 0]\n",
      " [0 0 0 0 0 0 0 0 0 0]\n",
      " [0 0 0 0 0 0 0 0 0 0]\n",
      " [0 0 0 0 0 0 0 0 0 0]\n",
      " [0 0 0 0 0 0 0 0 0 0]\n",
      " [0 0 0 0 0 0 0 0 0 0]\n",
      " [0 0 0 0 0 0 0 0 0 0]\n",
      " [0 0 0 0 0 0 0 0 0 0]]\n",
      "[[0 0 0 0 0 0 0 0 0 0]\n",
      " [0 0 0 0 0 0 1 1 0 0]\n",
      " [0 0 0 0 0 0 1 1 0 0]\n",
      " [0 0 0 0 0 0 0 0 0 0]\n",
      " [0 0 0 0 0 0 0 0 0 0]\n",
      " [0 0 0 0 0 0 0 0 0 0]\n",
      " [0 0 0 0 0 0 0 0 0 0]\n",
      " [0 0 0 0 0 0 0 0 0 0]\n",
      " [0 0 0 0 0 0 0 0 0 0]\n",
      " [0 0 0 0 0 0 0 0 0 0]]\n",
      "[[0 0 0 0 0 0 0 0 0 0]\n",
      " [0 0 0 0 0 0 1 1 0 0]\n",
      " [0 0 0 0 0 0 1 1 0 0]\n",
      " [0 0 0 0 0 0 0 0 0 0]\n",
      " [0 0 0 0 0 0 0 0 0 0]\n",
      " [0 0 0 0 0 0 0 0 0 0]\n",
      " [0 0 0 0 0 0 0 0 0 0]\n",
      " [0 0 0 0 0 0 0 0 0 0]\n",
      " [0 0 0 0 0 0 0 0 0 0]\n",
      " [0 0 0 0 0 0 0 0 0 0]]\n",
      "[[0 0 0 0 0 0 0 0 0 0]\n",
      " [0 0 0 0 0 0 1 1 0 0]\n",
      " [0 0 0 0 0 0 1 1 0 0]\n",
      " [0 0 0 0 0 0 0 0 0 0]\n",
      " [0 0 0 0 0 0 0 0 0 0]\n",
      " [0 0 0 0 0 0 0 0 0 0]\n",
      " [0 0 0 0 0 0 0 0 0 0]\n",
      " [0 0 0 0 0 0 0 0 0 0]\n",
      " [0 0 0 0 0 0 0 0 0 0]\n",
      " [0 0 0 0 0 0 0 0 0 0]]\n",
      "[[0 0 0 0 0 0 0 0 0 0]\n",
      " [0 0 0 0 0 0 1 1 0 0]\n",
      " [0 0 0 0 0 0 1 1 0 0]\n",
      " [0 0 0 0 0 0 0 0 0 0]\n",
      " [0 0 0 0 0 0 0 0 0 0]\n",
      " [0 0 0 0 0 0 0 0 0 0]\n",
      " [0 0 0 0 0 0 0 0 0 0]\n",
      " [0 0 0 0 0 0 0 0 0 0]\n",
      " [0 0 0 0 0 0 0 0 0 0]\n",
      " [0 0 0 0 0 0 0 0 0 0]]\n",
      "[[0 0 0 0 0 0 0 0 0 0]\n",
      " [0 0 0 0 0 0 1 1 0 0]\n",
      " [0 0 0 0 0 0 1 1 0 0]\n",
      " [0 0 0 0 0 0 0 0 0 0]\n",
      " [0 0 0 0 0 0 0 0 0 0]\n",
      " [0 0 0 0 0 0 0 0 0 0]\n",
      " [0 0 0 0 0 0 0 0 0 0]\n",
      " [0 0 0 0 0 0 0 0 0 0]\n",
      " [0 0 0 0 0 0 0 0 0 0]\n",
      " [0 0 0 0 0 0 0 0 0 0]]\n",
      "[[0 0 0 0 0 0 0 0 0 0]\n",
      " [0 0 0 0 0 0 1 1 0 0]\n",
      " [0 0 0 0 0 0 1 1 0 0]\n",
      " [0 0 0 0 0 0 0 0 0 0]\n",
      " [0 0 0 0 0 0 0 0 0 0]\n",
      " [0 0 0 0 0 0 0 0 0 0]\n",
      " [0 0 0 0 0 0 0 0 0 0]\n",
      " [0 0 0 0 0 0 0 0 0 0]\n",
      " [0 0 0 0 0 0 0 0 0 0]\n",
      " [0 0 0 0 0 0 0 0 0 0]]\n",
      "[[0 0 0 0 0 0 0 0 0 0]\n",
      " [0 0 0 0 0 0 1 1 0 0]\n",
      " [0 0 0 0 0 0 1 1 0 0]\n",
      " [0 0 0 0 0 0 0 0 0 0]\n",
      " [0 0 0 0 0 0 0 0 0 0]\n",
      " [0 0 0 0 0 0 0 0 0 0]\n",
      " [0 0 0 0 0 0 0 0 0 0]\n",
      " [0 0 0 0 0 0 0 0 0 0]\n",
      " [0 0 0 0 0 0 0 0 0 0]\n",
      " [0 0 0 0 0 0 0 0 0 0]]\n",
      "[[0 0 0 0 0 0 0 0 0 0]\n",
      " [0 0 0 0 0 0 1 1 0 0]\n",
      " [0 0 0 0 0 0 1 1 0 0]\n",
      " [0 0 0 0 0 0 0 0 0 0]\n",
      " [0 0 0 0 0 0 0 0 0 0]\n",
      " [0 0 0 0 0 0 0 0 0 0]\n",
      " [0 0 0 0 0 0 0 0 0 0]\n",
      " [0 0 0 0 0 0 0 0 0 0]\n",
      " [0 0 0 0 0 0 0 0 0 0]\n",
      " [0 0 0 0 0 0 0 0 0 0]]\n",
      "[[0 0 0 0 0 0 0 0 0 0]\n",
      " [0 0 0 0 0 0 1 1 0 0]\n",
      " [0 0 0 0 0 0 1 1 0 0]\n",
      " [0 0 0 0 0 0 0 0 0 0]\n",
      " [0 0 0 0 0 0 0 0 0 0]\n",
      " [0 0 0 0 0 0 0 0 0 0]\n",
      " [0 0 0 0 0 0 0 0 0 0]\n",
      " [0 0 0 0 0 0 0 0 0 0]\n",
      " [0 0 0 0 0 0 0 0 0 0]\n",
      " [0 0 0 0 0 0 0 0 0 0]]\n",
      "[[0 0 0 0 0 0 0 0 0 0]\n",
      " [0 0 0 0 0 0 1 1 0 0]\n",
      " [0 0 0 0 0 0 1 1 0 0]\n",
      " [0 0 0 0 0 0 0 0 0 0]\n",
      " [0 0 0 0 0 0 0 0 0 0]\n",
      " [0 0 0 0 0 0 0 0 0 0]\n",
      " [0 0 0 0 0 0 0 0 0 0]\n",
      " [0 0 0 0 0 0 0 0 0 0]\n",
      " [0 0 0 0 0 0 0 0 0 0]\n",
      " [0 0 0 0 0 0 0 0 0 0]]\n",
      "[[0 0 0 0 0 0 0 0 0 0]\n",
      " [0 0 0 0 0 0 1 1 0 0]\n",
      " [0 0 0 0 0 0 1 1 0 0]\n",
      " [0 0 0 0 0 0 0 0 0 0]\n",
      " [0 0 0 0 0 0 0 0 0 0]\n",
      " [0 0 0 0 0 0 0 0 0 0]\n",
      " [0 0 0 0 0 0 0 0 0 0]\n",
      " [0 0 0 0 0 0 0 0 0 0]\n",
      " [0 0 0 0 0 0 0 0 0 0]\n",
      " [0 0 0 0 0 0 0 0 0 0]]\n",
      "[[0 0 0 0 0 0 0 0 0 0]\n",
      " [0 0 0 0 0 0 1 1 0 0]\n",
      " [0 0 0 0 0 0 1 1 0 0]\n",
      " [0 0 0 0 0 0 0 0 0 0]\n",
      " [0 0 0 0 0 0 0 0 0 0]\n",
      " [0 0 0 0 0 0 0 0 0 0]\n",
      " [0 0 0 0 0 0 0 0 0 0]\n",
      " [0 0 0 0 0 0 0 0 0 0]\n",
      " [0 0 0 0 0 0 0 0 0 0]\n",
      " [0 0 0 0 0 0 0 0 0 0]]\n",
      "[[0 0 0 0 0 0 0 0 0 0]\n",
      " [0 0 0 0 0 0 1 1 0 0]\n",
      " [0 0 0 0 0 0 1 1 0 0]\n",
      " [0 0 0 0 0 0 0 0 0 0]\n",
      " [0 0 0 0 0 0 0 0 0 0]\n",
      " [0 0 0 0 0 0 0 0 0 0]\n",
      " [0 0 0 0 0 0 0 0 0 0]\n",
      " [0 0 0 0 0 0 0 0 0 0]\n",
      " [0 0 0 0 0 0 0 0 0 0]\n",
      " [0 0 0 0 0 0 0 0 0 0]]\n",
      "[[0 0 0 0 0 0 0 0 0 0]\n",
      " [0 0 0 0 0 0 1 1 0 0]\n",
      " [0 0 0 0 0 0 1 1 0 0]\n",
      " [0 0 0 0 0 0 0 0 0 0]\n",
      " [0 0 0 0 0 0 0 0 0 0]\n",
      " [0 0 0 0 0 0 0 0 0 0]\n",
      " [0 0 0 0 0 0 0 0 0 0]\n",
      " [0 0 0 0 0 0 0 0 0 0]\n",
      " [0 0 0 0 0 0 0 0 0 0]\n",
      " [0 0 0 0 0 0 0 0 0 0]]\n",
      "[[0 0 0 0 0 0 0 0 0 0]\n",
      " [0 0 0 0 0 0 1 1 0 0]\n",
      " [0 0 0 0 0 0 1 1 0 0]\n",
      " [0 0 0 0 0 0 0 0 0 0]\n",
      " [0 0 0 0 0 0 0 0 0 0]\n",
      " [0 0 0 0 0 0 0 0 0 0]\n",
      " [0 0 0 0 0 0 0 0 0 0]\n",
      " [0 0 0 0 0 0 0 0 0 0]\n",
      " [0 0 0 0 0 0 0 0 0 0]\n",
      " [0 0 0 0 0 0 0 0 0 0]]\n",
      "[[0 0 0 0 0 0 0 0 0 0]\n",
      " [0 0 0 0 0 0 1 1 0 0]\n",
      " [0 0 0 0 0 0 1 1 0 0]\n",
      " [0 0 0 0 0 0 0 0 0 0]\n",
      " [0 0 0 0 0 0 0 0 0 0]\n",
      " [0 0 0 0 0 0 0 0 0 0]\n",
      " [0 0 0 0 0 0 0 0 0 0]\n",
      " [0 0 0 0 0 0 0 0 0 0]\n",
      " [0 0 0 0 0 0 0 0 0 0]\n",
      " [0 0 0 0 0 0 0 0 0 0]]\n",
      "[[0 0 0 0 0 0 0 0 0 0]\n",
      " [0 0 0 0 0 0 1 1 0 0]\n",
      " [0 0 0 0 0 0 1 1 0 0]\n",
      " [0 0 0 0 0 0 0 0 0 0]\n",
      " [0 0 0 0 0 0 0 0 0 0]\n",
      " [0 0 0 0 0 0 0 0 0 0]\n",
      " [0 0 0 0 0 0 0 0 0 0]\n",
      " [0 0 0 0 0 0 0 0 0 0]\n",
      " [0 0 0 0 0 0 0 0 0 0]\n",
      " [0 0 0 0 0 0 0 0 0 0]]\n",
      "[[0 0 0 0 0 0 0 0 0 0]\n",
      " [0 0 0 0 0 0 1 1 0 0]\n",
      " [0 0 0 0 0 0 1 1 0 0]\n",
      " [0 0 0 0 0 0 0 0 0 0]\n",
      " [0 0 0 0 0 0 0 0 0 0]\n",
      " [0 0 0 0 0 0 0 0 0 0]\n",
      " [0 0 0 0 0 0 0 0 0 0]\n",
      " [0 0 0 0 0 0 0 0 0 0]\n",
      " [0 0 0 0 0 0 0 0 0 0]\n",
      " [0 0 0 0 0 0 0 0 0 0]]\n"
     ]
    }
   ],
   "source": [
    "def iterate(Z):\n",
    "    N = (Z[0:-2,0:-2] + Z[0:-2,1:-1] + Z[0:-2,2:] +\n",
    "         Z[1:-1,0:-2]                + Z[1:-1,2:] +\n",
    "         Z[2:  ,0:-2] + Z[2:  ,1:-1] + Z[2:  ,2:])\n",
    "\n",
    "    birth = (N==3) & (Z[1:-1,1:-1]==0)\n",
    "    survive = ((N==2) | (N==3)) & (Z[1:-1,1:-1]==1)\n",
    "    Z[...] = 0\n",
    "    Z[1:-1,1:-1][birth | survive] = 1\n",
    "    return Z\n",
    "\n",
    "Z = np.random.randint(0, 2, (10,10))\n",
    "\n",
    "for i in range(100): \n",
    "    Z = iterate(Z)\n",
    "    print(Z)"
   ]
  },
  {
   "cell_type": "markdown",
   "id": "a173cf96",
   "metadata": {},
   "source": [
    "#### 89. How to get the n largest values of an array (★★★)"
   ]
  },
  {
   "cell_type": "code",
   "execution_count": 181,
   "id": "b7c2ff35",
   "metadata": {},
   "outputs": [
    {
     "name": "stdout",
     "output_type": "stream",
     "text": [
      "[3 1 4 1 5 9 2 6 5 3]\n",
      "[5 6 9]\n"
     ]
    }
   ],
   "source": [
    "vector = np.array([3, 1, 4, 1, 5, 9, 2, 6, 5, 3])\n",
    "\n",
    "n = 3\n",
    "\n",
    "indices = np.argpartition(vector, -n)[-n:]\n",
    "\n",
    "largestValues = vector[indices]\n",
    "\n",
    "print(vector)\n",
    "print(largestValues)"
   ]
  },
  {
   "cell_type": "markdown",
   "id": "15db2d01",
   "metadata": {},
   "source": [
    "#### 90. Given an arbitrary number of vectors, build the cartesian product (every combinations of every item) (★★★)"
   ]
  },
  {
   "cell_type": "code",
   "execution_count": 187,
   "id": "a9a4633d",
   "metadata": {},
   "outputs": [
    {
     "name": "stdout",
     "output_type": "stream",
     "text": [
      "[[1 4 7]\n",
      " [1 4 8]\n",
      " [1 4 9]\n",
      " [1 5 7]\n",
      " [1 5 8]\n",
      " [1 5 9]\n",
      " [1 6 7]\n",
      " [1 6 8]\n",
      " [1 6 9]\n",
      " [2 4 7]\n",
      " [2 4 8]\n",
      " [2 4 9]\n",
      " [2 5 7]\n",
      " [2 5 8]\n",
      " [2 5 9]\n",
      " [2 6 7]\n",
      " [2 6 8]\n",
      " [2 6 9]\n",
      " [3 4 7]\n",
      " [3 4 8]\n",
      " [3 4 9]\n",
      " [3 5 7]\n",
      " [3 5 8]\n",
      " [3 5 9]\n",
      " [3 6 7]\n",
      " [3 6 8]\n",
      " [3 6 9]]\n"
     ]
    }
   ],
   "source": [
    "vector1 = np.arange(1, 4)\n",
    "vector2 = np.arange(4, 7)\n",
    "vector3 = np.arange(7, 10)\n",
    "\n",
    "vectors = [vector1, vector2, vector3]\n",
    "\n",
    "meshgrids = np.meshgrid(*vectors, indexing='ij')\n",
    "\n",
    "cartesianProduct = np.meshgrid(meshgrids, axis=-1)\n",
    "\n",
    "numRows = np.prod([vector.size for vector in vectors])\n",
    "cartesianProduct = cartesianProduct.reshape((numRows, len(vectors)))\n",
    "\n",
    "print(cartesianProduct)"
   ]
  },
  {
   "cell_type": "markdown",
   "id": "5d94d1ef",
   "metadata": {},
   "source": [
    "#### 91. How to create a record array from a regular array? (★★★)"
   ]
  },
  {
   "cell_type": "code",
   "execution_count": 36,
   "id": "b1dae380",
   "metadata": {},
   "outputs": [
    {
     "name": "stdout",
     "output_type": "stream",
     "text": [
      "ID: [1 2 3]\n",
      "Name: ['John' 'Alice' 'Bob']\n",
      "Age: [25 30 28]\n"
     ]
    }
   ],
   "source": [
    "vector = np.array([(1, 'John', 25), \n",
    "                   (2, 'Alice', 30), \n",
    "                   (3, 'Bob', 28)], \n",
    "                  dtype=[('id', int), ('name', 'U10'), ('age', int)])\n",
    "\n",
    "recordVector = np.rec.array(vector)\n",
    "\n",
    "print(\"ID:\", recordVector.id)\n",
    "print(\"Name:\", recordVector.name)\n",
    "print(\"Age:\", recordVector.age)"
   ]
  },
  {
   "cell_type": "markdown",
   "id": "114ccc36",
   "metadata": {},
   "source": [
    "#### 92. Consider a large vector Z, compute Z to the power of 3 using 3 different methods (★★★)"
   ]
  },
  {
   "cell_type": "code",
   "execution_count": 201,
   "id": "877c65d6",
   "metadata": {},
   "outputs": [
    {
     "name": "stdout",
     "output_type": "stream",
     "text": [
      "[4 5 1 ... 7 3 3]\n",
      "\n",
      "[ 64 125   1 ... 343  27  27]\n",
      "[ 64 125   1 ... 343  27  27]\n",
      "[ 64 125   1 ... 343  27  27]\n"
     ]
    }
   ],
   "source": [
    "Z = np.random.randint(1, 10, (1000000))\n",
    "print(Z)\n",
    "print()\n",
    "\n",
    "result1 = Z ** 3\n",
    "result2 = np.power(Z, 3)\n",
    "result3 = np.multiply(np.multiply(Z, Z), Z)\n",
    "\n",
    "print(result1)\n",
    "print(result2)\n",
    "print(result3)"
   ]
  },
  {
   "cell_type": "markdown",
   "id": "d614fee4",
   "metadata": {},
   "source": [
    "#### 93. Consider two arrays A and B of shape (8,3) and (2,2). How to find rows of A that contain elements of each row of B regardless of the order of the elements in B? (★★★)"
   ]
  },
  {
   "cell_type": "code",
   "execution_count": 267,
   "id": "e6807a84",
   "metadata": {},
   "outputs": [
    {
     "name": "stdout",
     "output_type": "stream",
     "text": [
      "[[5 3 9]\n",
      " [8 6 7]\n",
      " [4 8 5]\n",
      " [4 1 7]\n",
      " [7 4 7]\n",
      " [8 4 8]\n",
      " [2 5 6]\n",
      " [5 1 6]]\n",
      "\n",
      "[[5 2]\n",
      " [7 3]]\n",
      "\n",
      "[2 5 6]\n"
     ]
    }
   ],
   "source": [
    "A = np.random.randint(1, 10, (8, 3))\n",
    "B = np.random.randint(1, 10, (2, 2))\n",
    "\n",
    "print(A)\n",
    "print()\n",
    "print(B)\n",
    "print()\n",
    "\n",
    "setsB = [set(row) for row in B]\n",
    "\n",
    "results = []\n",
    "\n",
    "for rowA in A:\n",
    "    for setsBRow in setsB:\n",
    "        if set(rowA).issuperset(setsBRow):\n",
    "            results.append(rowA)\n",
    "\n",
    "for result in results:\n",
    "    print(result)\n",
    "\n",
    "if results == []:\n",
    "    print('Nothing')"
   ]
  },
  {
   "cell_type": "markdown",
   "id": "b0eedca6",
   "metadata": {},
   "source": [
    "#### 94. Considering a 10x3 matrix, extract rows with unequal values (e.g. [2,2,3]) (★★★)"
   ]
  },
  {
   "cell_type": "code",
   "execution_count": 32,
   "id": "fc136ce2",
   "metadata": {},
   "outputs": [
    {
     "name": "stdout",
     "output_type": "stream",
     "text": [
      "[[1 2 2]\n",
      " [2 1 1]\n",
      " [2 1 1]\n",
      " [2 2 2]\n",
      " [1 2 2]\n",
      " [2 2 2]\n",
      " [2 2 2]\n",
      " [1 2 2]\n",
      " [2 2 2]\n",
      " [1 2 2]]\n",
      "\n",
      "[[1 2 2]\n",
      " [2 1 1]\n",
      " [2 1 1]\n",
      " [1 2 2]\n",
      " [1 2 2]\n",
      " [1 2 2]]\n"
     ]
    }
   ],
   "source": [
    "matrix = np.random.randint(1, 3, (10, 3))\n",
    "\n",
    "print(matrix)\n",
    "print()\n",
    "\n",
    "equalRows = np.all(matrix[:, 1:] == matrix[:, :-1], axis=1)\n",
    "unequalRows = ~equalRows\n",
    "\n",
    "result = matrix[unequalRows]\n",
    "\n",
    "print(result)"
   ]
  },
  {
   "cell_type": "markdown",
   "id": "a65ec1cf",
   "metadata": {},
   "source": [
    "#### 95. Convert a vector of ints into a matrix binary representation (★★★)"
   ]
  },
  {
   "cell_type": "code",
   "execution_count": 31,
   "id": "323cdf4c",
   "metadata": {},
   "outputs": [
    {
     "name": "stdout",
     "output_type": "stream",
     "text": [
      "[1 9 7 9 6]\n",
      "\n",
      "[[0 0 0 1]\n",
      " [1 0 0 1]\n",
      " [0 1 1 1]\n",
      " [1 0 0 1]\n",
      " [0 1 1 0]]\n"
     ]
    }
   ],
   "source": [
    "vector = np.random.randint(0, 10, (5))\n",
    "\n",
    "maxBits = int(np.ceil(np.log2(np.max(vector) + 1)))\n",
    "matrix = np.array([list(np.binary_repr(num, width = maxBits)) for num in vector], dtype = int)\n",
    "\n",
    "print(vector)\n",
    "print()\n",
    "print(matrix)"
   ]
  },
  {
   "cell_type": "markdown",
   "id": "75b9397f",
   "metadata": {},
   "source": [
    "#### 96. Given a two dimensional array, how to extract unique rows? (★★★)"
   ]
  },
  {
   "cell_type": "code",
   "execution_count": 306,
   "id": "9bb56a47",
   "metadata": {},
   "outputs": [
    {
     "name": "stdout",
     "output_type": "stream",
     "text": [
      "[[2 2 2]\n",
      " [2 2 2]\n",
      " [1 1 2]\n",
      " [2 2 1]\n",
      " [2 2 2]]\n",
      "\n",
      "[[1 1 2]\n",
      " [2 2 1]\n",
      " [2 2 2]]\n"
     ]
    }
   ],
   "source": [
    "matrix = np.random.randint(1, 3, (5, 3))\n",
    "\n",
    "uniqueRows = np.unique(matrix, axis = 0)\n",
    "\n",
    "print(matrix)\n",
    "print()\n",
    "print(uniqueRows)"
   ]
  },
  {
   "cell_type": "markdown",
   "id": "82aaf21b",
   "metadata": {},
   "source": [
    "#### 97. Considering 2 vectors A & B, write the einsum equivalent of inner, outer, sum, and mul function (★★★)"
   ]
  },
  {
   "cell_type": "code",
   "execution_count": 30,
   "id": "cedcefd9",
   "metadata": {},
   "outputs": [
    {
     "name": "stdout",
     "output_type": "stream",
     "text": [
      "[1 6 6]\n",
      "[4 3 8]\n",
      "\n",
      "inner:  70\n",
      "outer:  [[ 4  3  8]\n",
      " [24 18 48]\n",
      " [24 18 48]]\n",
      "sum:  [ 5  9 14]\n",
      "mul:  [ 4 18 48]\n"
     ]
    }
   ],
   "source": [
    "A = np.random.randint(1, 10, (3))\n",
    "B = np.random.randint(1, 10, (3))\n",
    "\n",
    "print(A)\n",
    "print(B)\n",
    "print()\n",
    "\n",
    "print('inner: ', np.einsum('i,i->', A, B))\n",
    "print('outer: ', np.einsum('i,j->ij', A, B))\n",
    "print('sum: ', np.einsum('i->i', A) + np.einsum('i->i', B))\n",
    "print('mul: ', np.einsum('i,i->i', A, B))"
   ]
  },
  {
   "cell_type": "markdown",
   "id": "7741e17f",
   "metadata": {},
   "source": [
    "#### 98. Considering a path described by two vectors (X,Y), how to sample it using equidistant samples (★★★)?"
   ]
  },
  {
   "cell_type": "code",
   "execution_count": 29,
   "id": "0b2432fe",
   "metadata": {},
   "outputs": [
    {
     "name": "stdout",
     "output_type": "stream",
     "text": [
      "[ 0.00000000e+00 -3.73131229e-01 -2.59817608e+00 -3.26212050e+00\n",
      " -2.18442687e+00 -2.98929946e-02  2.42923642e+00  4.54913599e+00\n",
      "  5.92318348e+00  6.35117933e+00  5.82369277e+00  4.46259540e+00\n",
      "  2.47320794e+00  1.09577220e-01 -2.36575300e+00 -4.71261671e+00\n",
      " -6.72701769e+00 -8.25541575e+00 -9.18486120e+00 -9.46381505e+00\n",
      " -9.11085788e+00 -8.12875279e+00 -6.63306046e+00 -4.69271059e+00\n",
      " -2.44736165e+00 -2.05444585e-02  2.46101146e+00  4.86841760e+00\n",
      "  7.08937968e+00  9.02539126e+00  1.05948609e+01  1.17357250e+01\n",
      "  1.24068974e+01  1.25885805e+01  1.22815267e+01  1.15053927e+01\n",
      "  1.02963689e+01  8.70429550e+00  6.78948686e+00  4.61716636e+00\n",
      "  2.25853448e+00 -1.98731680e-01 -2.68040566e+00 -5.11543300e+00\n",
      " -7.41973991e+00 -9.53891040e+00 -1.14237629e+01 -1.29919305e+01\n",
      " -1.42355069e+01 -1.51243232e+01 -1.56061571e+01 -1.57219415e+01\n",
      " -1.54217066e+01 -1.47579136e+01 -1.37255236e+01 -1.23634834e+01\n",
      " -1.07024632e+01 -8.78327367e+00 -6.65029558e+00 -4.35514246e+00\n",
      " -1.94290275e+00  5.28038914e-01  3.00985904e+00  5.45450275e+00\n",
      "  7.80093594e+00  1.00179639e+01  1.20595602e+01  1.38732623e+01\n",
      "  1.54564938e+01  1.67497894e+01  1.77435802e+01  1.84439878e+01\n",
      "  1.87990820e+01  1.88271003e+01  1.85472755e+01  1.79378850e+01\n",
      "  1.70105456e+01  1.58085777e+01  1.43501808e+01  1.26222364e+01\n",
      "  1.06905445e+01  8.58498641e+00  6.33562529e+00  3.96179025e+00\n",
      "  1.51802643e+00 -9.61699044e-01 -3.44349301e+00 -5.88951759e+00\n",
      " -8.26006582e+00 -1.05270865e+01 -1.26610269e+01 -1.46343020e+01\n",
      " -1.64206033e+01 -1.79708499e+01 -1.92894561e+01 -2.03605967e+01\n",
      " -2.11716587e+01 -2.17133504e+01 -2.19797677e+01 -2.19626531e+01\n",
      " -2.16476737e+01 -2.10622561e+01 -2.02145809e+01 -1.91158467e+01\n",
      " -1.77800930e+01 -1.62239930e+01 -1.44666197e+01 -1.25291882e+01\n",
      " -1.04347777e+01 -8.20773276e+00 -5.86978851e+00 -3.45563299e+00\n",
      " -9.92556869e-01  1.49191203e+00  3.97031733e+00  6.41557503e+00\n",
      "  8.80126359e+00  1.11019001e+01  1.32931995e+01  1.53523150e+01\n",
      "  1.72580567e+01  1.89910866e+01  2.05340895e+01  2.18719167e+01\n",
      "  2.29917039e+01  2.38829603e+01  2.45376309e+01  2.49501314e+01\n",
      "  2.51173551e+01  2.50386548e+01  2.47157984e+01  2.41529019e+01\n",
      "  2.33563391e+01  2.23346314e+01  2.10983193e+01  1.96598169e+01\n",
      "  1.80332532e+01  1.62343003e+01  1.42799934e+01  1.21885425e+01\n",
      "  9.97914013e+00  7.67176574e+00  5.28699023e+00  2.84441658e+00\n",
      "  3.68190102e-01 -2.11846865e+00 -4.59426061e+00 -7.03829202e+00\n",
      " -9.43024209e+00 -1.17505186e+01 -1.39803999e+01 -1.61021634e+01\n",
      " -1.80991985e+01 -1.99561058e+01 -2.16587804e+01 -2.31850397e+01\n",
      " -2.45166960e+01 -2.56568097e+01 -2.65976904e+01 -2.73332424e+01\n",
      " -2.78589555e+01 -2.81718833e+01 -2.82706110e+01 -2.81552119e+01\n",
      " -2.78066635e+01 -2.72341677e+01 -2.64578863e+01 -2.54844118e+01\n",
      " -2.43214986e+01 -2.29779690e+01 -2.14636172e+01 -1.97837046e+01\n",
      " -1.79341987e+01 -1.59545785e+01 -1.38585628e+01 -1.16602783e+01\n",
      " -9.37416511e+00 -7.01488958e+00 -4.59184632e+00 -2.12995331e+00\n",
      "  3.50691071e-01  2.83498918e+00  5.30813450e+00  7.75565814e+00\n",
      "  1.01522531e+01  1.24813227e+01  1.47337756e+01  1.68973642e+01\n",
      "  1.89604991e+01  2.09071945e+01  2.26943693e+01  2.43420179e+01\n",
      "  2.58422998e+01  2.71881423e+01  2.83731992e+01  2.93376609e+01\n",
      "  3.01222558e+01  3.07280750e+01  3.11531219e+01  3.13960177e+01]\n",
      "[ 0.00000000e+00  1.74026724e+00  9.81816584e-01 -1.34251287e+00\n",
      " -3.53191891e+00 -4.70449474e+00 -4.59573427e+00 -3.33831870e+00\n",
      " -1.28956083e+00  1.14234685e+00  3.55645601e+00  5.62188218e+00\n",
      "  7.09389488e+00  7.82951803e+00  7.78700678e+00  6.99685666e+00\n",
      "  5.55535240e+00  3.60417006e+00  1.30506373e+00 -1.15819722e+00\n",
      " -3.61328132e+00 -5.89130465e+00 -7.87065053e+00 -9.41689057e+00\n",
      " -1.04714836e+01 -1.09903787e+01 -1.09354306e+01 -1.03330912e+01\n",
      " -9.22690166e+00 -7.67489830e+00 -5.75257980e+00 -3.54832201e+00\n",
      " -1.15854355e+00  1.31709956e+00  3.78023622e+00  6.13780326e+00\n",
      "  8.30540149e+00  1.02098724e+01  1.17910419e+01  1.29972950e+01\n",
      "  1.37774249e+01  1.41319792e+01  1.40585758e+01  1.35636816e+01\n",
      "  1.26345244e+01  1.13409083e+01  9.72216360e+00  7.79464305e+00\n",
      "  5.64544223e+00  3.32503222e+00  8.88107041e-01 -1.59329248e+00\n",
      " -4.05992507e+00 -6.45313746e+00 -8.71327144e+00 -1.07900854e+01\n",
      " -1.26380653e+01 -1.42147006e+01 -1.54892299e+01 -1.64390858e+01\n",
      " -1.70351433e+01 -1.72938948e+01 -1.71685631e+01 -1.67219979e+01\n",
      " -1.59044166e+01 -1.47824153e+01 -1.33665280e+01 -1.16678134e+01\n",
      " -9.75246391e+00 -7.63091465e+00 -5.35345831e+00 -2.96905840e+00\n",
      " -5.09631905e-01  1.97507060e+00  4.44430515e+00  6.85344809e+00\n",
      "  9.15903461e+00  1.13337844e+01  1.33467125e+01  1.51336120e+01\n",
      "  1.66966787e+01  1.80162922e+01  1.90746708e+01  1.98127969e+01\n",
      "  2.02634499e+01  2.04221761e+01  2.02877631e+01  1.98449702e+01\n",
      "  1.90974465e+01  1.80799531e+01  1.68069397e+01  1.52959771e+01\n",
      "  1.35665801e+01  1.16227312e+01  9.51601869e+00  7.27388893e+00\n",
      "  4.92519240e+00  2.49981337e+00  2.82932820e-02 -2.45817963e+00\n",
      " -4.92460367e+00 -7.34030894e+00 -9.67635928e+00 -1.19050601e+01\n",
      " -1.40002645e+01 -1.59376556e+01 -1.76950019e+01 -1.92523833e+01\n",
      " -2.05923861e+01 -2.16995543e+01 -2.25478860e+01 -2.31432552e+01\n",
      " -2.34800725e+01 -2.35556687e+01 -2.33702741e+01 -2.29269662e+01\n",
      " -2.22315865e+01 -2.12926288e+01 -2.01211000e+01 -1.87303570e+01\n",
      " -1.71359212e+01 -1.53552740e+01 -1.34076356e+01 -1.13137308e+01\n",
      " -9.09554383e+00 -6.77606668e+00 -4.37904252e+00 -1.92870828e+00\n",
      "  5.50461201e-01  3.03400451e+00  5.49771780e+00  7.91788934e+00\n",
      "  1.02715222e+01  1.25365431e+01  1.46919953e+01  1.67182148e+01\n",
      "  1.85969872e+01  2.03116866e+01  2.18473923e+01  2.31909872e+01\n",
      "  2.43312337e+01  2.52588296e+01  2.59664444e+01  2.64391214e+01\n",
      "  2.66748505e+01  2.66796333e+01  2.64545680e+01  2.60026765e+01\n",
      "  2.53288265e+01  2.44396400e+01  2.33433894e+01  2.20498837e+01\n",
      "  2.05703459e+01  1.89172843e+01  1.71043584e+01  1.51396391e+01\n",
      "  1.30387952e+01  1.08294252e+01  8.52903617e+00  6.15551380e+00\n",
      "  3.72697869e+00  1.26164946e+00 -1.22228693e+00 -3.70679651e+00\n",
      " -6.17014862e+00 -8.59028675e+00 -1.09516293e+01 -1.32379536e+01\n",
      " -1.54338179e+01 -1.75246263e+01 -1.94966815e+01 -2.13317519e+01\n",
      " -2.29952001e+01 -2.44987532e+01 -2.58335652e+01 -2.69919481e+01\n",
      " -2.79673583e+01 -2.87543764e+01 -2.93186910e+01 -2.96679958e+01\n",
      " -2.98181354e+01 -2.97693731e+01 -2.95229769e+01 -2.90811595e+01\n",
      " -2.84133854e+01 -2.75430665e+01 -2.64934034e+01 -2.52713717e+01\n",
      " -2.38845608e+01 -2.23353782e+01 -2.06051319e+01 -1.87442619e+01\n",
      " -1.67635423e+01 -1.46739620e+01 -1.24866789e+01 -1.01933401e+01\n",
      " -7.83474328e+00 -5.42495146e+00 -2.97607515e+00 -5.00072086e-01]\n"
     ]
    }
   ],
   "source": [
    "phi = np.arange(0, 10*np.pi, 0.1)\n",
    "a = 1\n",
    "x = a * phi * np.cos(phi)\n",
    "y = a * phi * np.sin(phi)\n",
    "\n",
    "dr = (np.diff(x)**2 + np.diff(y)**2)**.5\n",
    "r = np.zeros_like(x)\n",
    "r[1:] = np.cumsum(dr)\n",
    "rInt = np.linspace(0, r.max(), 200)\n",
    "xInt = np.interp(rInt, r, x)\n",
    "yInt = np.interp(rInt, r, y)\n",
    "\n",
    "print(xInt)\n",
    "print(yInt)"
   ]
  },
  {
   "cell_type": "markdown",
   "id": "340d6f36",
   "metadata": {},
   "source": [
    "#### 99. Given an integer n and a 2D array X, select from X the rows which can be interpreted as draws from a multinomial distribution with n degrees, i.e., the rows which only contain integers and which sum to n. (★★★)"
   ]
  },
  {
   "cell_type": "code",
   "execution_count": 61,
   "id": "a75323ae",
   "metadata": {},
   "outputs": [
    {
     "name": "stdout",
     "output_type": "stream",
     "text": [
      "[[1 1 0 1]\n",
      " [2 2 1 2]\n",
      " [1 2 2 0]\n",
      " [0 1 2 1]\n",
      " [0 1 2 1]\n",
      " [0 2 2 0]\n",
      " [0 0 1 0]\n",
      " [1 1 1 2]\n",
      " [2 1 0 1]\n",
      " [2 1 0 1]]\n",
      "\n",
      "[[0 1 2 1]\n",
      " [0 1 2 1]\n",
      " [0 2 2 0]\n",
      " [2 1 0 1]\n",
      " [2 1 0 1]]\n"
     ]
    }
   ],
   "source": [
    "X = np.random.randint(0, 3, (10, 4))\n",
    "\n",
    "print(X)\n",
    "print()\n",
    "\n",
    "n = 4\n",
    "\n",
    "rows = np.logical_and(np.all(X % 1 == 0, axis=1), np.sum(X, axis=1) == n)\n",
    "\n",
    "selectedRows = X[rows]\n",
    "\n",
    "print(selectedRows)"
   ]
  },
  {
   "cell_type": "markdown",
   "id": "19721849",
   "metadata": {},
   "source": [
    "#### 100. Compute bootstrapped 95% confidence intervals for the mean of a 1D array X (i.e., resample the elements of an array with replacement N times, compute the mean of each sample, and then compute percentiles over the means). (★★★)"
   ]
  },
  {
   "cell_type": "code",
   "execution_count": 58,
   "id": "87309c6f",
   "metadata": {},
   "outputs": [
    {
     "data": {
      "text/plain": [
       "array([-0.36187644, -0.01003685])"
      ]
     },
     "execution_count": 58,
     "metadata": {},
     "output_type": "execute_result"
    }
   ],
   "source": [
    "X = np.random.randn(100)\n",
    "N = 1000\n",
    "idx = np.random.randint(0, X.size, (N, X.size))\n",
    "means = X[idx].mean(axis=1)\n",
    "confint = np.percentile(means, [2.5, 97.5])\n",
    "confint"
   ]
  }
 ],
 "metadata": {
  "kernelspec": {
   "display_name": "ida",
   "language": "python",
   "name": "python3"
  },
  "language_info": {
   "codemirror_mode": {
    "name": "ipython",
    "version": 3
   },
   "file_extension": ".py",
   "mimetype": "text/x-python",
   "name": "python",
   "nbconvert_exporter": "python",
   "pygments_lexer": "ipython3",
   "version": "3.11.5"
  }
 },
 "nbformat": 4,
 "nbformat_minor": 5
}
